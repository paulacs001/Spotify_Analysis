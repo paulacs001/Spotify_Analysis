{
  "cells": [
    {
      "cell_type": "markdown",
      "metadata": {
        "id": "8OYN-B8D5JX8"
      },
      "source": [
        "# Spotify API\n",
        "\n",
        "Retrive the songs and its metrics from the public playlits that Spotify has"
      ],
      "id": "8OYN-B8D5JX8"
    },
    {
      "cell_type": "code",
      "execution_count": null,
      "metadata": {
        "id": "a8e37636"
      },
      "outputs": [],
      "source": [
        "#@title Libraries\n",
        "import requests\n",
        "from google.colab import drive\n",
        "import pandas as pd\n",
        "import os\n",
        "from bs4 import BeautifulSoup\n",
        "import json\n",
        "from collections import Counter\n",
        "import numpy as np\n",
        "import math"
      ],
      "id": "a8e37636"
    },
    {
      "cell_type": "code",
      "execution_count": null,
      "metadata": {
        "id": "20a99120"
      },
      "outputs": [],
      "source": [
        "#@title Tokens and ids\n",
        "AUTH_TOKEN = 'BQDc7x7FHm9iIWvnKaz54cOew5NxSDxvATKvKC6JlcGXSe7wgIrAAoZHEUiXCPvxrwEBGO0cEl5D8TqHNzWq8ECBfVkCrEkwgbN2UDEtuMLBNEnBvMnB1i22qWMhZxg0SDTv5sDt0zMw-WFMXCWzE1hP0YODtzyUMC-eix29EoQ8wD8'\n",
        "headers = {\"Authorization\": \"Bearer {}\".format(AUTH_TOKEN)}\n",
        "\n",
        "id_almu = '1535d2051a1c4516b7cad44aec63097b'\n",
        "id_ines = '67bf8f81591443f7bdcd562299c6e4c1'\n",
        "id_pau = '7bdb591f49184e2d867c5827e7fc93dd'"
      ],
      "id": "20a99120"
    },
    {
      "cell_type": "code",
      "execution_count": null,
      "metadata": {
        "id": "kf7wI4Q7PGWi"
      },
      "outputs": [],
      "source": [
        "def connect_to_endpoint(url, headers):\n",
        "    response = requests.request(\"GET\", url, headers=headers)\n",
        "    #print(response.status_code)\n",
        "    if response.status_code != 200:\n",
        "        raise Exception(\n",
        "            \"Request returned an error: {} {}\".format(\n",
        "                response.status_code, response.text\n",
        "            )\n",
        "        )\n",
        "    return response.json()"
      ],
      "id": "kf7wI4Q7PGWi"
    },
    {
      "cell_type": "code",
      "execution_count": null,
      "metadata": {
        "colab": {
          "base_uri": "https://localhost:8080/"
        },
        "id": "yNSHrCUyBDOs",
        "outputId": "a601fc95-6796-4201-d712-1335973cfe5f"
      },
      "outputs": [
        {
          "output_type": "stream",
          "name": "stdout",
          "text": [
            "Mounted at /content/drive\n"
          ]
        }
      ],
      "source": [
        "#@title Connecting to Drive\n",
        "\n",
        "drive.mount('/content/drive')"
      ],
      "id": "yNSHrCUyBDOs"
    },
    {
      "cell_type": "markdown",
      "metadata": {
        "id": "It4nbXPe7DKF"
      },
      "source": [
        "## Functions\n",
        "\n",
        "1. retrive_songs(playlist_id) --> returns list of song id´s\n",
        "2. parse_playlist(playlist)\n",
        "3. get_audio_features(song_ids)\n",
        "4. parse_audio_features(audio, playlist_dict, song_ids)\n",
        "5. create_playlist_dict(playlist_id)\n",
        "6. check_id_playlists(json_response, playlists_ids={})"
      ],
      "id": "It4nbXPe7DKF"
    },
    {
      "cell_type": "code",
      "execution_count": null,
      "metadata": {
        "id": "f1174a7b"
      },
      "outputs": [],
      "source": [
        "def retrieve_songs(playlist_id):\n",
        "    song_ids = []\n",
        "    url = f'https://api.spotify.com/v1/playlists/{playlist_id}/tracks?fields=items(track(name,id,artists(name)))'\n",
        "    response = requests.get(url,\n",
        "        headers = {\n",
        "            'Authorization': f'Bearer {AUTH_TOKEN}'\n",
        "        }        \n",
        "    )\n",
        "    \n",
        "    json_response = response.json()\n",
        "\n",
        "    res = json_response['items']            \n",
        "    for song in res:\n",
        "      try:\n",
        "        song_ids.append(song['track']['id'])\n",
        "      except:\n",
        "        pass\n",
        "\n",
        "    return song_ids\n",
        "    "
      ],
      "id": "f1174a7b"
    },
    {
      "cell_type": "code",
      "execution_count": null,
      "metadata": {
        "id": "55a6f3d3"
      },
      "outputs": [],
      "source": [
        "def parse_playlist(playlist):\n",
        "    playlist_dict = {}\n",
        "    print(playlist[0])\n",
        "    for i in playlist:\n",
        "        song = i['track']['name']\n",
        "        id_ = i['track']['id']\n",
        "        artists = i['track']['artists']\n",
        "        \n",
        "        #playlist_dict[id_] = {'name': song}\n",
        "        playlist_dict[id_] = {'name': song, 'artists': artists}  # necesario para lyrics en genius\n",
        "    return playlist_dict"
      ],
      "id": "55a6f3d3"
    },
    {
      "cell_type": "code",
      "execution_count": null,
      "metadata": {
        "id": "5ff98fd0"
      },
      "outputs": [],
      "source": [
        "def get_audio_features(song_ids):\n",
        "    song_ids_parsed = ','.join(song_ids)\n",
        "    url = f'https://api.spotify.com/v1/audio-features?ids={song_ids_parsed}'\n",
        "    response = requests.get(url,\n",
        "        headers = {\n",
        "            'Authorization': f'Bearer {AUTH_TOKEN}'\n",
        "        }        \n",
        "    )\n",
        "    json_response = response.json()\n",
        "    \n",
        "    return json_response"
      ],
      "id": "5ff98fd0"
    },
    {
      "cell_type": "code",
      "execution_count": null,
      "metadata": {
        "id": "bef45a6f"
      },
      "outputs": [],
      "source": [
        "def parse_audio_features(audio, playlist_dict, song_ids):\n",
        "    for i in range(len(playlist_dict)):\n",
        "        playlist_dict[song_ids[i]]['audio_features'] = audio['audio_features'][i]        \n",
        "    return playlist_dict"
      ],
      "id": "bef45a6f"
    },
    {
      "cell_type": "code",
      "execution_count": null,
      "metadata": {
        "id": "e2d37fd2"
      },
      "outputs": [],
      "source": [
        "def create_playlist_dict(playlist_id):\n",
        "    playlist = parse_playlist(retrieve_songs(playlist_id))\n",
        "    \n",
        "    song_ids = []\n",
        "    for song in playlist:\n",
        "        song_ids.append(song)\n",
        "    song_ids_str = str(song_ids)\n",
        "    parsed_song_ids = song_ids_str.replace(\"'\", \"\").replace('[', '').replace(']', '').replace(' ','')\n",
        "    \n",
        "    res = parse_audio_features(get_audio_features(parsed_song_ids), playlist, song_ids)\n",
        "    \n",
        "    return res"
      ],
      "id": "e2d37fd2"
    },
    {
      "cell_type": "code",
      "execution_count": null,
      "metadata": {
        "id": "B4Itw7-rDzbR"
      },
      "outputs": [],
      "source": [
        "def check_id_playlists(json_response, playlists_ids={}):\n",
        "  for i in json_response['items']:\n",
        "  #check the name with: Top 50 - (starts with)\n",
        "  #sacar info de 'uri' _ 'spotify:playlist: id' ESTE ES EL ID QUE NECESITAMOS\n",
        "\n",
        "    if i['name'].startswith('Top\\xa050:'):\n",
        "      n = i['name'].split('Top\\xa050: ')[1]\n",
        "      playlists_ids[n]=i['uri'].split(':')[-1]\n",
        "    \n",
        "  return playlists_ids"
      ],
      "id": "B4Itw7-rDzbR"
    },
    {
      "cell_type": "code",
      "execution_count": null,
      "metadata": {
        "id": "_YHiHsm0z5sq"
      },
      "outputs": [],
      "source": [
        "def get_song_popularity(song_id_list):\n",
        "  buckets = math.ceil(len(song_id_list)/50)\n",
        "  songs = np.array_split(song_id_list, buckets)\n",
        "  song_pop = list()\n",
        "  for song_list in songs:\n",
        "    song_list =  ','.join(song_list)\n",
        "    url = f'https://api.spotify.com/v1/tracks?ids={song_list}'\n",
        "    response = requests.get(url,\n",
        "      headers = {\n",
        "          'Authorization': f'Bearer {AUTH_TOKEN}'\n",
        "      }        \n",
        "    )\n",
        "    json_response = response.json()\n",
        "    for track in json_response['tracks']:\n",
        "      song_pop.append(track['popularity'])\n",
        "\n",
        "  return song_pop\n",
        "\n",
        "\n",
        "# get_song_popularity(['0mzvDQW1IgLuXAwD5YMN6i', '1L4f4kyGeaLdZeVhPLaD8j', '4IKSehYf4e9tjijDSZHQF2', '5vK8ILrHjXjdZJHp0AtEVJ', '7tAsrC5tNcbccUmMnRsmZI', '25mYG9U2wb2UnQrOVkSIbE', '1R9dlH1uHHuJJF8gp9WN19', '3uPrQDkNYwbOBwX5SHIXb4', '06Uhw7KLSBqAJqYy2fdjiN', '3FiX402udtjX777EHZUAbU', '7ayopKtCQTOEDpRB5xpU6I', '6oNF4mTDylJfuQF9Wqb3Hw', '1Z0GfmDY4xTdRNOCGWckyV', '2SwDECpUAk8jtZ31aXYQTe', '0jniFtpAyWN1hCtQdTllSg', '7rvKogufniHwoxQIgdcGde', '06JbxvU7hdbBw1eoEOUWW6', '2W48o4UcesMLJZMwoL6B3o', '2fDaX8wgmwzSYmdLmTDAIw', '1eKhGmIxCVwXHjxrh3aqT5', '7nByHsiIV08TNL6hG4nBBs', '0vC73pf42tqNW2ecQrdNtm', '36KSajo0NyH3eGgbS4AuJ7', '40ooZvE9wvUQ8oNfSzs73N', '4RIi1gNmKDzSH04Vvws2DK', '5uOdakRKQbRu6HJnorQ5on', '4hMKS6gf79eVQ70AkAXyCE', '2qSmlhY4zy0sZaGeKowauQ', '2vMRmWkG5H3Bi93ufKmWNl', '59Gf13MS5B8IyLG0ZjpWFX', '0zd0kuNdqeLgxuFm5SLYxH', '2VA9AQAyYgItqq1KE3AtKr', '555uSzxhjD72TQBEoPOfYT', '4Wdin6LVBOduIVlCKi8FYK', '4VD1tBHGujKPhkaEji4v5Q', '3JvKfv6T31zO0ini8iNItO', '3TArda30KGDCgfB3U9fmrC', '6gpTColYGFZ1q0isxHoE0u', '7Kn7TYpJT0fjv5he98acyq', '1H3uUBhA5X9YNdk1Ciw8ky', '3qDRfkAQLT4yQPtzYh9nrA', '2tKSIeksPzMglcIJVc83ID', '3bc2L7xATgHEXtNJdEJOv9', '4wwz9Ft24R5WOgWpZSOIo5', '1mFh7ZsIQvy10e3hGPoXQA', '1JoZpWoOpDZWCbfhVgjRiC', '7siCyYmarG5TfLQbWlNKJ7', '1s8QRwM3pW5ekIUKwlHsxo', '6OdcsvgPkIFmiyqDPgCaDy', '4jEEloo2pedhkrP5NBTl85', '2cJCPpy5Iwgon0wORjxJan', '2odlHl0cZ7Q1npc6RL07Ar', '7ifjN5DxB3r1hKnqjRDO1a', '53y2hHY9gPhOZzoEh7umgq', '14d79QOV2pvJHH9vlUfZwJ', '4OkXQF0aJwj3eECnph73GC', '4OxSe2OdRDAEx8BO3CA5uD', '3Dvams9yiJchXGj1OlOCil', '66tgeHKe9FfKCQnrfkFNxy', '4qu63nuBpdn0qHUHuObEj1', '6hYidRx2EkQ39bmZHvqqaI', '5sNLvOP38aQxpjUeJ2VQsP', '0wzK2m89t22oOayHYfV75U', '7s61Kg0qZhhFj5MQW7DDIB', '1D3irR3juCW9kOHfW1LXws', '11BAVEGi1ivJ6JWLqKUNrZ', '6vRCKJDtnrJEcyyzIMa0w0', '0JOHC5pkFmkZSLkwiumjTt', '5b19IPegprOMgLPDtC1Cyf', '7vEQ7hcDYobr5p4OkejYGK', '7k0wVBW3cvV6Xmb87JikIf', '1rEHH6Wrm0iuv61O1oM2nc', '1HNkqx9Ahdgi1Ixy2xkKkL', '7795WJLVKJoAyVoOtCWqXN', '3Vjmj8370BnHk6b3viNxfU', '0v1g5U1OAb0XBjKyA8R36i', '5Ohxk2dO5COHF1krpoPigN', '75JFxkI2RXiU7L9VXzMkle', '4PdLup4OaCGktZG8cvbkBz', '0fD6vPYWty2Jy4VVozWzfp', '5RoHs6F9G5eH1kl488diEu', '09wrW4mdaoBrOFY6KSR94h', '2WtPwpBC8qCRtzHUDZgwBN', '4m4dmiW49WkRkSWliJ5Zoj', '6sbNTk4raoJtHh92BUbLoi', '7ce20yLkzuXXLUhzIDoZih', '7GXG38022Aw5g67p1HTpOp', '46frPLWZuQlMLyelCLYpL0', '6Q3K9gVUZRMZqZKrXovbM2', '4pDE8vhtcEb90Eq2SvdWyB', '4cktbXiXOapiLBMprHFErI', '4RVtBlHFKj51Ipvpfv5ER4', '4w5Grfxx5Rpup6mo5v6bW0', '55SbTToiQ8JTe524EeIn8b', '2anII3P3z1liigla0dKqrb', '12aAoKT43mVGdW1ofZVCwr', '76GbkhlVfUZDYK4VbVjX46', '5kWcIgj5CszKQBB0Lg7sGY', '4l0Mvzj72xxOpRrp6h8nHi', '4Q6wZlZhrwVVmGhJtmGUtG'])"
      ],
      "id": "_YHiHsm0z5sq"
    },
    {
      "cell_type": "code",
      "execution_count": null,
      "metadata": {
        "id": "rJBA4I6ttSC0"
      },
      "outputs": [],
      "source": [
        "def get_song_date(song_id_list):\n",
        "  buckets = math.ceil(len(song_id_list)/50)\n",
        "  songs = np.array_split(song_id_list, buckets)\n",
        "  song_date = list()\n",
        "  for song_list in songs:\n",
        "    song_list =  ','.join(song_list)\n",
        "    url = f'https://api.spotify.com/v1/tracks?ids={song_list}'\n",
        "    response = requests.get(url,\n",
        "      headers = {\n",
        "          'Authorization': f'Bearer {AUTH_TOKEN}'\n",
        "      }        \n",
        "    )\n",
        "    json_response = response.json()\n",
        "    for track in json_response['tracks']:\n",
        "      song_date.append(track['album']['release_date'])\n",
        "\n",
        "  return song_date\n",
        "\n",
        "# get_song_popularity(['0mzvDQW1IgLuXAwD5YMN6i', '1L4f4kyGeaLdZeVhPLaD8j', '4IKSehYf4e9tjijDSZHQF2', '5vK8ILrHjXjdZJHp0AtEVJ', '7tAsrC5tNcbccUmMnRsmZI', '25mYG9U2wb2UnQrOVkSIbE', '1R9dlH1uHHuJJF8gp9WN19', '3uPrQDkNYwbOBwX5SHIXb4', '06Uhw7KLSBqAJqYy2fdjiN', '3FiX402udtjX777EHZUAbU', '7ayopKtCQTOEDpRB5xpU6I', '6oNF4mTDylJfuQF9Wqb3Hw', '1Z0GfmDY4xTdRNOCGWckyV', '2SwDECpUAk8jtZ31aXYQTe', '0jniFtpAyWN1hCtQdTllSg', '7rvKogufniHwoxQIgdcGde', '06JbxvU7hdbBw1eoEOUWW6', '2W48o4UcesMLJZMwoL6B3o', '2fDaX8wgmwzSYmdLmTDAIw', '1eKhGmIxCVwXHjxrh3aqT5', '7nByHsiIV08TNL6hG4nBBs', '0vC73pf42tqNW2ecQrdNtm', '36KSajo0NyH3eGgbS4AuJ7', '40ooZvE9wvUQ8oNfSzs73N', '4RIi1gNmKDzSH04Vvws2DK', '5uOdakRKQbRu6HJnorQ5on', '4hMKS6gf79eVQ70AkAXyCE', '2qSmlhY4zy0sZaGeKowauQ', '2vMRmWkG5H3Bi93ufKmWNl', '59Gf13MS5B8IyLG0ZjpWFX', '0zd0kuNdqeLgxuFm5SLYxH', '2VA9AQAyYgItqq1KE3AtKr', '555uSzxhjD72TQBEoPOfYT', '4Wdin6LVBOduIVlCKi8FYK', '4VD1tBHGujKPhkaEji4v5Q', '3JvKfv6T31zO0ini8iNItO', '3TArda30KGDCgfB3U9fmrC', '6gpTColYGFZ1q0isxHoE0u', '7Kn7TYpJT0fjv5he98acyq', '1H3uUBhA5X9YNdk1Ciw8ky', '3qDRfkAQLT4yQPtzYh9nrA', '2tKSIeksPzMglcIJVc83ID', '3bc2L7xATgHEXtNJdEJOv9', '4wwz9Ft24R5WOgWpZSOIo5', '1mFh7ZsIQvy10e3hGPoXQA', '1JoZpWoOpDZWCbfhVgjRiC', '7siCyYmarG5TfLQbWlNKJ7', '1s8QRwM3pW5ekIUKwlHsxo', '6OdcsvgPkIFmiyqDPgCaDy', '4jEEloo2pedhkrP5NBTl85', '2cJCPpy5Iwgon0wORjxJan', '2odlHl0cZ7Q1npc6RL07Ar', '7ifjN5DxB3r1hKnqjRDO1a', '53y2hHY9gPhOZzoEh7umgq', '14d79QOV2pvJHH9vlUfZwJ', '4OkXQF0aJwj3eECnph73GC', '4OxSe2OdRDAEx8BO3CA5uD', '3Dvams9yiJchXGj1OlOCil', '66tgeHKe9FfKCQnrfkFNxy', '4qu63nuBpdn0qHUHuObEj1', '6hYidRx2EkQ39bmZHvqqaI', '5sNLvOP38aQxpjUeJ2VQsP', '0wzK2m89t22oOayHYfV75U', '7s61Kg0qZhhFj5MQW7DDIB', '1D3irR3juCW9kOHfW1LXws', '11BAVEGi1ivJ6JWLqKUNrZ', '6vRCKJDtnrJEcyyzIMa0w0', '0JOHC5pkFmkZSLkwiumjTt', '5b19IPegprOMgLPDtC1Cyf', '7vEQ7hcDYobr5p4OkejYGK', '7k0wVBW3cvV6Xmb87JikIf', '1rEHH6Wrm0iuv61O1oM2nc', '1HNkqx9Ahdgi1Ixy2xkKkL', '7795WJLVKJoAyVoOtCWqXN', '3Vjmj8370BnHk6b3viNxfU', '0v1g5U1OAb0XBjKyA8R36i', '5Ohxk2dO5COHF1krpoPigN', '75JFxkI2RXiU7L9VXzMkle', '4PdLup4OaCGktZG8cvbkBz', '0fD6vPYWty2Jy4VVozWzfp', '5RoHs6F9G5eH1kl488diEu', '09wrW4mdaoBrOFY6KSR94h', '2WtPwpBC8qCRtzHUDZgwBN', '4m4dmiW49WkRkSWliJ5Zoj', '6sbNTk4raoJtHh92BUbLoi', '7ce20yLkzuXXLUhzIDoZih', '7GXG38022Aw5g67p1HTpOp', '46frPLWZuQlMLyelCLYpL0', '6Q3K9gVUZRMZqZKrXovbM2', '4pDE8vhtcEb90Eq2SvdWyB', '4cktbXiXOapiLBMprHFErI', '4RVtBlHFKj51Ipvpfv5ER4', '4w5Grfxx5Rpup6mo5v6bW0', '55SbTToiQ8JTe524EeIn8b', '2anII3P3z1liigla0dKqrb', '12aAoKT43mVGdW1ofZVCwr', '76GbkhlVfUZDYK4VbVjX46', '5kWcIgj5CszKQBB0Lg7sGY', '4l0Mvzj72xxOpRrp6h8nHi', '4Q6wZlZhrwVVmGhJtmGUtG'])"
      ],
      "id": "rJBA4I6ttSC0"
    },
    {
      "cell_type": "markdown",
      "metadata": {
        "id": "_p7f5jSY7Fru"
      },
      "source": [
        "## Test"
      ],
      "id": "_p7f5jSY7Fru"
    },
    {
      "cell_type": "markdown",
      "metadata": {
        "id": "KOAjn7lx_KZs"
      },
      "source": [
        "### TOPS"
      ],
      "id": "KOAjn7lx_KZs"
    },
    {
      "cell_type": "markdown",
      "metadata": {
        "id": "d92mOld-3wkV"
      },
      "source": [
        "paises :\n",
        "España, Argentina, Italia, Estados Unidos, Francia, Reino Unidos, Alemania, Brasil, Colombia, México, Marruecos, Japón, Chile, Los Paises Bajos, Perú, Paraguay, Bélgica, Portugal, Ucrania, Corea del Sur, República Dominicana, Irlanda, Suiza, Australia, Noruega, China, Canadá, India, Polonia, Rumanía, Suecia, Dinamarca, Uruguay, Rusia, Ecuador, Turquía, Grecia, Austria, Finlandia, Filipinas, Bolivia, Arabia Saudí, Bulgaria, Honduras, Tailandia, Egipto, Panamá, Israel, Costa Rica, Camboya, Lituania, Hungría, Nicaragua, Indonesia, Islandia, Áfirca del Sur, El Salvador, Vietnam, Surinam, República Checa, Guatemala, Taiwan, Pakistán, Eslovaquia, Luxemburgo, Nueva Zelanda, Estonia, Emirates Árabes Unidos, Hong Kong "
      ],
      "id": "d92mOld-3wkV"
    },
    {
      "cell_type": "code",
      "execution_count": null,
      "metadata": {
        "id": "ss6Cmtn1BkZI"
      },
      "outputs": [],
      "source": [
        "playlists_ids_tops = {}\n",
        "\n",
        "user_id = 'spotify'\n",
        "url = f'https://api.spotify.com/v1/users/{user_id}/playlists?limit=50'\n",
        "json_response = connect_to_endpoint(url, headers)\n",
        "(json.dumps(json_response,  ensure_ascii=False,indent=2, sort_keys=True))\n",
        "playlists_ids_tops = check_id_playlists(json_response, playlists_ids_tops)\n",
        "\n",
        "next_token = json_response['next']\n",
        "\n",
        "while next_token!= None:\n",
        "    json_response = connect_to_endpoint(next_token, headers)\n",
        "    (json.dumps(json_response,  ensure_ascii=False,indent=2, sort_keys=True))\n",
        "    playlists_ids_tops = check_id_playlists(json_response, playlists_ids_tops)\n",
        "    \n",
        "    try:\n",
        "        next_token = json_response['next']\n",
        "    except:\n",
        "        next_token = None"
      ],
      "id": "ss6Cmtn1BkZI"
    },
    {
      "cell_type": "code",
      "execution_count": null,
      "metadata": {
        "id": "KXNhNE1fPt1-",
        "colab": {
          "base_uri": "https://localhost:8080/"
        },
        "outputId": "e2868cd2-4abc-49f2-ad84-066cc9bfacf4"
      },
      "outputs": [
        {
          "output_type": "stream",
          "name": "stdout",
          "text": [
            "31\n"
          ]
        },
        {
          "output_type": "execute_result",
          "data": {
            "text/plain": [
              "{'Global': '37i9dQZEVXbMDoHDwVN2tF',\n",
              " 'Taiwán': '37i9dQZEVXbMnZEatlMSiu',\n",
              " 'Turquía': '37i9dQZEVXbIVYVBNw9D5K',\n",
              " 'Reino Unido': '37i9dQZEVXbLnolsZ8PSNw',\n",
              " 'Dinamarca': '37i9dQZEVXbL3J0k32lWnN',\n",
              " 'España': '37i9dQZEVXbNFJfN1Vw8d9',\n",
              " 'Finlandia': '37i9dQZEVXbMxcczTSoGwZ',\n",
              " 'Francia': '37i9dQZEVXbIPWwFssbupI',\n",
              " 'Los Países Bajos': '37i9dQZEVXbKCF6dqVpDkS',\n",
              " 'Noruega': '37i9dQZEVXbJvfa0Yxg7E7',\n",
              " 'Suecia': '37i9dQZEVXbLoATJ81JYXz',\n",
              " 'Estados Unidos': '37i9dQZEVXbLRQDuF5jeBp',\n",
              " 'Austria': '37i9dQZEVXbKNHh6NIXu36',\n",
              " 'Suiza': '37i9dQZEVXbJiyhoAPEfMK',\n",
              " 'Bélgica': '37i9dQZEVXbJNSeeHswcKB',\n",
              " 'Alemania': '37i9dQZEVXbJiZcmkrIHGU',\n",
              " 'Nueva Zelanda': '37i9dQZEVXbM8SIrkERIYl',\n",
              " 'Australia': '37i9dQZEVXbJPcfkRz0wJ0',\n",
              " 'Irlanda': '37i9dQZEVXbKM896FDX8L1',\n",
              " 'Luxemburgo': '37i9dQZEVXbKGcyg6TFGx6',\n",
              " 'Italia': '37i9dQZEVXbIQnj7RRhdSX',\n",
              " 'Polonia': '37i9dQZEVXbN6itCcaL3Tt',\n",
              " 'Portugal': '37i9dQZEVXbKyJS56d1pgi',\n",
              " 'Hong Kong': '37i9dQZEVXbLwpL8TjsxOG',\n",
              " 'Malasia': '37i9dQZEVXbJlfUljuZExa',\n",
              " 'Singapur': '37i9dQZEVXbK4gjvS1FjPY',\n",
              " 'Estonia': '37i9dQZEVXbLesry2Qw2xS',\n",
              " 'Islandia': '37i9dQZEVXbKMzVsSGQ49S',\n",
              " 'Lituania': '37i9dQZEVXbMx56Rdq5lwc',\n",
              " 'Letonia': '37i9dQZEVXbJWuzDrTxbKS',\n",
              " 'México': '37i9dQZEVXbO3qyFxbkOE1'}"
            ]
          },
          "metadata": {},
          "execution_count": 14
        }
      ],
      "source": [
        "print(len(playlists_ids_tops))\n",
        "playlists_ids_tops #debería haber más pero solo salen estas, son 31. Faltan por añadir las de los moods"
      ],
      "id": "KXNhNE1fPt1-"
    },
    {
      "cell_type": "code",
      "execution_count": null,
      "metadata": {
        "id": "or3jj0Qp5Tdr",
        "colab": {
          "base_uri": "https://localhost:8080/"
        },
        "outputId": "2602de68-49ca-488c-dad3-ef2781bd16d8"
      },
      "outputs": [
        {
          "output_type": "stream",
          "name": "stdout",
          "text": [
            "Total (of our list): 66\n",
            "Done; 31\n",
            "Left: 40\n"
          ]
        },
        {
          "output_type": "execute_result",
          "data": {
            "text/plain": [
              "['Argentina',\n",
              " 'Reino Unidos',\n",
              " 'Brasil',\n",
              " 'Colombia',\n",
              " 'Marruecos',\n",
              " 'Japón',\n",
              " 'Chile',\n",
              " 'Perú',\n",
              " 'Paraguay',\n",
              " 'Ucrania',\n",
              " 'Corea del Sur',\n",
              " 'República Dominicana',\n",
              " 'Canadá',\n",
              " 'India',\n",
              " 'Rumanía',\n",
              " 'Uruguay',\n",
              " 'Rusia',\n",
              " 'Ecuador',\n",
              " 'Grecia',\n",
              " 'Filipinas',\n",
              " 'Bolivia',\n",
              " 'Arabia Saudí',\n",
              " 'Bulgaria',\n",
              " 'Honduras',\n",
              " 'Tailandia',\n",
              " 'Egipto',\n",
              " 'Panamá',\n",
              " 'Israel',\n",
              " 'Costa Rica',\n",
              " 'Hungría',\n",
              " 'Nicaragua',\n",
              " 'Indonesia',\n",
              " 'Sudáfrica',\n",
              " 'El Salvador',\n",
              " 'Vietnam',\n",
              " 'Surinam',\n",
              " 'La República Checa',\n",
              " 'Guatemala',\n",
              " 'Eslovaquia',\n",
              " 'EAU']"
            ]
          },
          "metadata": {},
          "execution_count": 15
        }
      ],
      "source": [
        "## CHECK WHICH COUNTRIES ARE AND HOW MANY ARE LEFT (TO FIND MANUALLY)\n",
        "\n",
        "countries = 'España, Argentina, Italia, Estados Unidos, Francia, Reino Unidos, Alemania, Brasil, Colombia, México, Marruecos, Japón, Chile, Los Países Bajos, Perú, Paraguay, Bélgica, Portugal, Ucrania, Corea del Sur, República Dominicana, Irlanda, Suiza, Australia, Noruega, Canadá, India, Polonia, Rumanía, Suecia, Dinamarca, Uruguay, Rusia, Ecuador, Turquía, Grecia, Austria, Finlandia, Filipinas, Bolivia, Arabia Saudí, Bulgaria, Honduras, Tailandia, Egipto, Panamá, Israel, Costa Rica, Lituania, Hungría, Nicaragua, Indonesia, Islandia, Sudáfrica, El Salvador, Vietnam, Surinam, La República Checa, Guatemala, Taiwán, Eslovaquia, Luxemburgo, Nueva Zelanda, Estonia, EAU, Hong Kong'\n",
        "countries_list = countries.split(', ')\n",
        "print('Total (of our list):', len(countries_list))\n",
        "\n",
        "\n",
        "done_countries = []\n",
        "other_countries = []\n",
        "left_countries = countries_list.copy()\n",
        "\n",
        "for p in playlists_ids_tops.keys():\n",
        "  name_country =p\n",
        "\n",
        "  if name_country in countries_list:\n",
        "    #the country found is in our list\n",
        "    left_countries.remove(name_country)\n",
        "  done_countries.append(name_country)\n",
        "\n",
        "\n",
        "print('Done;', len(done_countries)) #31\n",
        "print('Left:', len(left_countries)) #45\n",
        "\n",
        "left_countries"
      ],
      "id": "or3jj0Qp5Tdr"
    },
    {
      "cell_type": "code",
      "execution_count": null,
      "metadata": {
        "colab": {
          "base_uri": "https://localhost:8080/"
        },
        "id": "PiUmFh8s7HSs",
        "outputId": "937d5914-b62b-4a97-f297-1498e3788e5c"
      },
      "outputs": [
        {
          "output_type": "stream",
          "name": "stdout",
          "text": [
            "40\n"
          ]
        }
      ],
      "source": [
        "manually_tops = ['https://open.spotify.com/playlist/37i9dQZEVXbMMy2roB9myp?si=351a34fa3a1f4f95', 'https://open.spotify.com/playlist/37i9dQZEVXbLnolsZ8PSNw?si=b660db803d1948dd', 'https://open.spotify.com/playlist/37i9dQZEVXbMXbN3EUUhlg?si=f5e7253c449f41f5',\n",
        "                 'https://open.spotify.com/playlist/37i9dQZEVXbOa2lmxNORXQ?si=f2a6b9fc26544eb3', 'https://open.spotify.com/playlist/37i9dQZEVXbJU9eQpX8gPT?si=4d45a7aa878246ef', 'https://open.spotify.com/playlist/37i9dQZEVXbKXQ4mDTEBXq?si=c5d9aa4a08b3498a', \n",
        "                 'https://open.spotify.com/playlist/37i9dQZEVXbL0GavIqMTeb?si=672783ae485849fd', 'https://open.spotify.com/playlist/37i9dQZEVXbJfdy5b0KP7W?si=4364335667304201', 'https://open.spotify.com/playlist/37i9dQZEVXbNOUPGj7tW6T?si=54822ec7d3f2415a', \n",
        "                 'https://open.spotify.com/playlist/37i9dQZEVXbKkidEfWYRuD?si=01fe64f34be64239', 'https://open.spotify.com/playlist/37i9dQZEVXbNxXF4SkHj9F?si=c16aa76ed1d9466f', 'https://open.spotify.com/playlist/37i9dQZEVXbKAbrMR8uuf7?si=23074c660c714945',\n",
        "                 'https://open.spotify.com/playlist/37i9dQZEVXbKj23U1GF4IR?si=dd3aec00bb7d454a', 'https://open.spotify.com/playlist/37i9dQZEVXbLZ52XmnySJg?si=f0a5fbfc458d4222', 'https://open.spotify.com/playlist/37i9dQZEVXbNZbJ6TZelCq?si=701f75cbb739447c', \n",
        "                 'https://open.spotify.com/playlist/37i9dQZEVXbMJJi3wgRbAy?si=be09226401094462', 'https://open.spotify.com/playlist/1IMY26ZqjwICaPzZGa1Lwf?si=7ae2a1655e274941', 'https://open.spotify.com/playlist/37i9dQZEVXbJlM6nvL1nD1?si=601b734b758a4626',\n",
        "                 'https://open.spotify.com/playlist/37i9dQZEVXbJqdarpmTJDL?si=799b879c163640ba', 'https://open.spotify.com/playlist/37i9dQZEVXbNBz9cRCSFkY?si=dd115bf4e1a34f69', 'https://open.spotify.com/playlist/37i9dQZEVXbJqfMFK4d691?si=887998cf9f0d4216', \n",
        "                 'https://open.spotify.com/playlist/37i9dQZEVXbLrQBcXqUtaC?si=868ef72ed0834387', 'https://open.spotify.com/playlist/37i9dQZEVXbNfM2w2mq1B8?si=75245ed3ed2c423e', 'https://open.spotify.com/playlist/37i9dQZEVXbJp9wcIM9Eo5?si=33108dcfb72c4ff6', \n",
        "                 'https://open.spotify.com/playlist/37i9dQZEVXbMnz8KIWsvf9?si=dc8ed9324e8d466e', 'https://open.spotify.com/playlist/37i9dQZEVXbLn7RQmT5Xv2?si=855b510f836a4fce', 'https://open.spotify.com/playlist/37i9dQZEVXbKypXHVwk1f0?si=b4928ac2c5184a07', \n",
        "                 'https://open.spotify.com/playlist/37i9dQZEVXbJ6IpvItkve3?si=524fde2f34234828', 'https://open.spotify.com/playlist/37i9dQZEVXbMZAjGMynsQX?si=77292c6501bf4298', 'https://open.spotify.com/playlist/37i9dQZEVXbNHwMxAkvmF8?si=eb8b690f8b4c4e59', \n",
        "                 'https://open.spotify.com/playlist/37i9dQZEVXbISk8kxnzfCq?si=7aa3bf1b99394711', 'https://open.spotify.com/playlist/37i9dQZEVXbObFQZ3JLcXt?si=63eaf33671fa4a8e', 'https://open.spotify.com/playlist/37i9dQZEVXbMH2jvi6jvjk?si=23d27af40ed44f6f', \n",
        "                 'https://open.spotify.com/playlist/37i9dQZEVXbLxoIml4MYkT?si=8f94838e5b7e4a8e', 'https://open.spotify.com/playlist/37i9dQZEVXbLdGSmz6xilI?si=823dcff5aaa04a25', 'https://open.spotify.com/playlist/6zFJ2HTXC3d38AgpfcPGph?si=84e2ecb21bd24f59',\n",
        "                 'https://open.spotify.com/playlist/37i9dQZEVXbIP3c3fqVrJY?si=6f024298ccdf4d40', 'https://open.spotify.com/playlist/37i9dQZEVXbLy5tBFyQvd4?si=2072564287c54801', 'https://open.spotify.com/playlist/37i9dQZEVXbKIVTPX9a2Sb?si=9f8e672f453e4f8e', \n",
        "                 'https://open.spotify.com/playlist/37i9dQZEVXbM4UZuIrvHvA?si=6a7709fc566d4f80']\n",
        "print(len(manually_tops))              "
      ],
      "id": "PiUmFh8s7HSs"
    },
    {
      "cell_type": "code",
      "execution_count": null,
      "metadata": {
        "id": "vXp7BCQB_OL_"
      },
      "outputs": [],
      "source": [
        "for i in manually_tops:\n",
        "  playlist_id = i.split('/')[-1]\n",
        "  playlist_id = playlist_id.split('?')[0]\n",
        "\n",
        "  url = f'https://api.spotify.com/v1/playlists/{playlist_id}?limit=50'\n",
        "  json_response = connect_to_endpoint(url, headers)\n",
        "  (json.dumps(json_response,  ensure_ascii=False,indent=2, sort_keys=True))\n",
        "  try:\n",
        "    n = json_response['name'].split('Top\\xa050: ')[1]\n",
        "  except:\n",
        "    n = json_response['name'].split('- ')[1]\n",
        "  playlists_ids_tops[n] = playlist_id"
      ],
      "id": "vXp7BCQB_OL_"
    },
    {
      "cell_type": "code",
      "execution_count": null,
      "metadata": {
        "id": "tHo2eocu_Ys_",
        "colab": {
          "base_uri": "https://localhost:8080/"
        },
        "outputId": "c9af0b0b-a12a-4cd3-cd52-48ee711cbf48"
      },
      "outputs": [
        {
          "output_type": "stream",
          "name": "stdout",
          "text": [
            "70\n"
          ]
        },
        {
          "output_type": "execute_result",
          "data": {
            "text/plain": [
              "{'Global': '37i9dQZEVXbMDoHDwVN2tF',\n",
              " 'Taiwán': '37i9dQZEVXbMnZEatlMSiu',\n",
              " 'Turquía': '37i9dQZEVXbIVYVBNw9D5K',\n",
              " 'Reino Unido': '37i9dQZEVXbLnolsZ8PSNw',\n",
              " 'Dinamarca': '37i9dQZEVXbL3J0k32lWnN',\n",
              " 'España': '37i9dQZEVXbNFJfN1Vw8d9',\n",
              " 'Finlandia': '37i9dQZEVXbMxcczTSoGwZ',\n",
              " 'Francia': '37i9dQZEVXbIPWwFssbupI',\n",
              " 'Los Países Bajos': '37i9dQZEVXbKCF6dqVpDkS',\n",
              " 'Noruega': '37i9dQZEVXbJvfa0Yxg7E7',\n",
              " 'Suecia': '37i9dQZEVXbLoATJ81JYXz',\n",
              " 'Estados Unidos': '37i9dQZEVXbLRQDuF5jeBp',\n",
              " 'Austria': '37i9dQZEVXbKNHh6NIXu36',\n",
              " 'Suiza': '37i9dQZEVXbJiyhoAPEfMK',\n",
              " 'Bélgica': '37i9dQZEVXbJNSeeHswcKB',\n",
              " 'Alemania': '37i9dQZEVXbJiZcmkrIHGU',\n",
              " 'Nueva Zelanda': '37i9dQZEVXbM8SIrkERIYl',\n",
              " 'Australia': '37i9dQZEVXbJPcfkRz0wJ0',\n",
              " 'Irlanda': '37i9dQZEVXbKM896FDX8L1',\n",
              " 'Luxemburgo': '37i9dQZEVXbKGcyg6TFGx6',\n",
              " 'Italia': '37i9dQZEVXbIQnj7RRhdSX',\n",
              " 'Polonia': '37i9dQZEVXbN6itCcaL3Tt',\n",
              " 'Portugal': '37i9dQZEVXbKyJS56d1pgi',\n",
              " 'Hong Kong': '37i9dQZEVXbLwpL8TjsxOG',\n",
              " 'Malasia': '37i9dQZEVXbJlfUljuZExa',\n",
              " 'Singapur': '37i9dQZEVXbK4gjvS1FjPY',\n",
              " 'Estonia': '37i9dQZEVXbLesry2Qw2xS',\n",
              " 'Islandia': '37i9dQZEVXbKMzVsSGQ49S',\n",
              " 'Lituania': '37i9dQZEVXbMx56Rdq5lwc',\n",
              " 'Letonia': '37i9dQZEVXbJWuzDrTxbKS',\n",
              " 'México': '37i9dQZEVXbO3qyFxbkOE1',\n",
              " 'Argentina': '37i9dQZEVXbMMy2roB9myp',\n",
              " 'Brasil': '37i9dQZEVXbMXbN3EUUhlg',\n",
              " 'Colombia': '37i9dQZEVXbOa2lmxNORXQ',\n",
              " 'Marruecos': '37i9dQZEVXbJU9eQpX8gPT',\n",
              " 'Japón': '37i9dQZEVXbKXQ4mDTEBXq',\n",
              " 'Chile': '37i9dQZEVXbL0GavIqMTeb',\n",
              " 'Perú': '37i9dQZEVXbJfdy5b0KP7W',\n",
              " 'Paraguay': '37i9dQZEVXbNOUPGj7tW6T',\n",
              " 'Ucrania': '37i9dQZEVXbKkidEfWYRuD',\n",
              " 'Corea del Sur': '37i9dQZEVXbNxXF4SkHj9F',\n",
              " 'La República Dominicana': '37i9dQZEVXbKAbrMR8uuf7',\n",
              " 'Canadá': '37i9dQZEVXbKj23U1GF4IR',\n",
              " 'India': '37i9dQZEVXbLZ52XmnySJg',\n",
              " 'Rumanía': '37i9dQZEVXbNZbJ6TZelCq',\n",
              " 'Uruguay': '37i9dQZEVXbMJJi3wgRbAy',\n",
              " 'Russia': '1IMY26ZqjwICaPzZGa1Lwf',\n",
              " 'Ecuador': '37i9dQZEVXbJlM6nvL1nD1',\n",
              " 'Grecia': '37i9dQZEVXbJqdarpmTJDL',\n",
              " 'Filipinas': '37i9dQZEVXbNBz9cRCSFkY',\n",
              " 'Bolivia': '37i9dQZEVXbJqfMFK4d691',\n",
              " 'Arabia Saudí': '37i9dQZEVXbLrQBcXqUtaC',\n",
              " 'Bulgaria': '37i9dQZEVXbNfM2w2mq1B8',\n",
              " 'Honduras': '37i9dQZEVXbJp9wcIM9Eo5',\n",
              " 'Tailandia': '37i9dQZEVXbMnz8KIWsvf9',\n",
              " 'Egipto': '37i9dQZEVXbLn7RQmT5Xv2',\n",
              " 'Panamá': '37i9dQZEVXbKypXHVwk1f0',\n",
              " 'Israel': '37i9dQZEVXbJ6IpvItkve3',\n",
              " 'Costa Rica': '37i9dQZEVXbMZAjGMynsQX',\n",
              " 'Hungría': '37i9dQZEVXbNHwMxAkvmF8',\n",
              " 'Nicaragua': '37i9dQZEVXbISk8kxnzfCq',\n",
              " 'Indonesia': '37i9dQZEVXbObFQZ3JLcXt',\n",
              " 'Sudáfrica': '37i9dQZEVXbMH2jvi6jvjk',\n",
              " 'El Salvador': '37i9dQZEVXbLxoIml4MYkT',\n",
              " 'Vietnam': '37i9dQZEVXbLdGSmz6xilI',\n",
              " 'Suriname': '6zFJ2HTXC3d38AgpfcPGph',\n",
              " 'La República Checa': '37i9dQZEVXbIP3c3fqVrJY',\n",
              " 'Guatemala': '37i9dQZEVXbLy5tBFyQvd4',\n",
              " 'Eslovaquia': '37i9dQZEVXbKIVTPX9a2Sb',\n",
              " 'EAU': '37i9dQZEVXbM4UZuIrvHvA'}"
            ]
          },
          "metadata": {},
          "execution_count": 18
        }
      ],
      "source": [
        "print(len(playlists_ids_tops))\n",
        "playlists_ids_tops"
      ],
      "id": "tHo2eocu_Ys_"
    },
    {
      "cell_type": "markdown",
      "metadata": {
        "id": "E7ImWzN8_O9q"
      },
      "source": [
        "### MOOD"
      ],
      "id": "E7ImWzN8_O9q"
    },
    {
      "cell_type": "code",
      "execution_count": null,
      "metadata": {
        "id": "0ufjjUytwMRn"
      },
      "outputs": [],
      "source": [
        "playlists_ids_mood = {}\n",
        "\n",
        "playlist_ids = ['https://open.spotify.com/playlist/37i9dQZF1DWV1PBrIG2weG?si=7bb3d347c75c4c0a', 'https://open.spotify.com/playlist/37i9dQZF1DX8CTD7HWYPDn?si=a335ed59da2f4880',\n",
        "                'https://open.spotify.com/playlist/37i9dQZF1DXcjpPPxCzYRE?si=900dc809314c401f', 'https://open.spotify.com/playlist/37i9dQZF1DX9Dh2wgiAwVX?si=6cbc88c0d68f4b04', 'https://open.spotify.com/playlist/37i9dQZF1DXdPec7aLTmlC?si=291c0e98cd6b4cb6',\n",
        "                'https://open.spotify.com/playlist/37i9dQZF1DXcZK031Zeh47?si=e15a2af567554bb5', 'https://open.spotify.com/playlist/37i9dQZF1DXdZjf8WgcTKM?si=881153f834774502', 'https://open.spotify.com/playlist/37i9dQZF1DWZqdNJSufucb?si=041d48677c004685',\n",
        "                'https://open.spotify.com/playlist/37i9dQZF1DX9XIFQuFvzM4?si=42fe56c742354e8a', 'https://open.spotify.com/playlist/37i9dQZF1DWSf2RDTDayIx?si=307a5b120aa84619', 'https://open.spotify.com/playlist/37i9dQZF1DX7fvgalTu2lg?si=4556db502a624c81', \n",
        "                'https://open.spotify.com/playlist/37i9dQZF1DX3rxVfibe1L0?si=1350bdced62f4767', 'https://open.spotify.com/playlist/37i9dQZF1DX6VdMW310YC7?si=ff8816a299304244', 'https://open.spotify.com/playlist/37i9dQZF1DWUAZoWydCivZ?si=2f9bd36f78f04b76', \n",
        "                'https://open.spotify.com/playlist/37i9dQZF1DWX83CujKHHOn?si=ae9cbd280a224b1a', 'https://open.spotify.com/playlist/37i9dQZF1DX3YSRoSdA634?si=3880ba852b664a4e', 'https://open.spotify.com/playlist/37i9dQZF1DWYBO1MoTDhZI?si=50184219df4545a7', \n",
        "                'https://open.spotify.com/playlist/37i9dQZF1DX843Qf4lrFtZ?si=81527d249c0141cd', 'https://open.spotify.com/playlist/37i9dQZF1DX35X4JNyBWtb?si=ca65267f835b4dd0', 'https://open.spotify.com/playlist/37i9dQZF1DX6xZZEgC9Ubl?si=baeba9e080b14885',\n",
        "                'https://open.spotify.com/playlist/37i9dQZF1DWZKuerrwoAGz?si=31cb9025b6a94594', 'https://open.spotify.com/playlist/37i9dQZF1DX1PiujNwN5Yy?si=b99cb92e03cb48b1', 'https://open.spotify.com/playlist/37i9dQZF1DWSqBruwoIXkA?si=dcc3fadce3d34d3a',\n",
        "                'https://open.spotify.com/playlist/37i9dQZF1DX4OzrY981I1W?si=2fc059b5885f4f56', 'https://open.spotify.com/playlist/37i9dQZF1DX3R7OWWGN4gH?si=f5d87f1705eb40cf', 'https://open.spotify.com/playlist/37i9dQZF1DX59NCqCqJtoH?si=c052eb9afd5c4167', \n",
        "                'https://open.spotify.com/playlist/37i9dQZF1DWXLeA8Omikj7?si=587a46bda2db4e35', 'https://open.spotify.com/playlist/37i9dQZF1DX6mvEU1S6INL?si=42614550d3414137', 'https://open.spotify.com/playlist/37i9dQZF1DWVtFO27AQ6dF?si=15302c0b180a4e89', \n",
        "                'https://open.spotify.com/playlist/37i9dQZF1DWWTdxbiocWOL?si=58ce5563eaff4c05', 'https://open.spotify.com/playlist/37i9dQZF1DWZVAVMhIe3pV?si=3fa3418a0aa04cbc', 'https://open.spotify.com/playlist/37i9dQZF1DX2pSTOxoPbx9',\n",
        "                'https://open.spotify.com/playlist/37i9dQZF1DWTtTyjgd08yp?si=e528fe5b066b4a9c', 'https://open.spotify.com/playlist/37i9dQZF1DX5hol82XuK24?si=4cd335b6307d46b8', 'https://open.spotify.com/playlist/37i9dQZF1DX4JTjLTaIQbE',\n",
        "                'https://open.spotify.com/playlist/22wbHwDJ1l4otMV0oejUQ8', 'https://open.spotify.com/playlist/37i9dQZF1DX73EtbU4jEcn', 'https://open.spotify.com/playlist/5cfBRKU3wnQifn8Ruyfc7g',\n",
        "                'https://open.spotify.com/playlist/37i9dQZF1DWVciwe52Zt0R', 'https://open.spotify.com/playlist/6sbVIgDGekGivQrEv6v7AC', 'https://open.spotify.com/playlist/37i9dQZF1DWYp5sAHdz27Y',\n",
        "                'https://open.spotify.com/playlist/0vvXsWCC9xrXsKd4FyS8kM', 'https://open.spotify.com/playlist/37i9dQZF1DWXb9I5xoXLjp', 'https://open.spotify.com/playlist/37i9dQZF1DX3tuWZaHjp5y',\n",
        "                'https://open.spotify.com/playlist/0p9bQ4Fc1NjyLGOXputNMs', 'https://open.spotify.com/playlist/37i9dQZF1DX4s3V2rTswzO', 'https://open.spotify.com/playlist/48bCki9uafyHh2xAD6Clby',\n",
        "                'https://open.spotify.com/playlist/37i9dQZF1DX7Qo2zphj7u3', 'https://open.spotify.com/playlist/7JabddFr3Q6JPsND4v9Swf', 'https://open.spotify.com/playlist/37i9dQZF1EIdXWhf3FgUPh',\n",
        "                'https://open.spotify.com/playlist/6IKQrtMc4c00YzONcUt7QH', 'https://open.spotify.com/playlist/0okKcRyYEwq8guFxzAPtlB', 'https://open.spotify.com/playlist/6c1dnhXrzdsTyZaQsVTy4K',\n",
        "                'https://open.spotify.com/playlist/5MTTBDvnBW0Mg7vbKahCUG', 'https://open.spotify.com/playlist/7BYeFU22TFqGgAUQfGPQPk']\n",
        "\n",
        "for i in playlist_ids:\n",
        "  playlist_id = i.split('/')[-1]\n",
        "  playlist_id = playlist_id.split('?')[0]\n",
        "\n",
        "  url = f'https://api.spotify.com/v1/playlists/{playlist_id}'\n",
        "  json_response = connect_to_endpoint(url, headers)\n",
        "  (json.dumps(json_response,  ensure_ascii=False,indent=2, sort_keys=True))\n",
        "  playlists_ids_mood[json_response['name']] = playlist_id\n",
        "\n"
      ],
      "id": "0ufjjUytwMRn"
    },
    {
      "cell_type": "code",
      "execution_count": null,
      "metadata": {
        "colab": {
          "base_uri": "https://localhost:8080/"
        },
        "id": "OcSmRV2F3VeL",
        "outputId": "3d8e9e16-8771-4f92-9eaa-1e7560a92cdf"
      },
      "outputs": [
        {
          "data": {
            "text/plain": [
              "55"
            ]
          },
          "execution_count": 31,
          "metadata": {},
          "output_type": "execute_result"
        }
      ],
      "source": [
        "len(playlist_ids)\n",
        "len(playlists_ids_mood)"
      ],
      "id": "OcSmRV2F3VeL"
    },
    {
      "cell_type": "markdown",
      "metadata": {
        "id": "_cDhFY6kLfmj"
      },
      "source": [
        "### PRUEBAS PARA GENIUS"
      ],
      "id": "_cDhFY6kLfmj"
    },
    {
      "cell_type": "code",
      "execution_count": null,
      "metadata": {
        "id": "hdd-3PVKRMKR"
      },
      "outputs": [],
      "source": [
        "client_id = \"Lj9Oez1zvNqTVDvbC_l5ym8U9KTguS5HVGNM05NnbtG0aMUcKcfXsMhbA49-0HMa\"\n",
        "client_access_token = \"kUGHW6i2sdrMbIbkoI-KwldBJVyOjSvpJJJpK8_9Q1V56zFo_jl2iszUmeJ1sur8\""
      ],
      "id": "hdd-3PVKRMKR"
    },
    {
      "cell_type": "code",
      "execution_count": null,
      "metadata": {
        "id": "ZfuE2Ys4RgYK"
      },
      "outputs": [],
      "source": [
        "import requests\n",
        "\n",
        "def request_song_info(song_title, artist_name):\n",
        "    base_url = 'https://api.genius.com'\n",
        "    headers = {'Authorization': 'Bearer ' + client_access_token}\n",
        "    search_url = base_url + '/search'\n",
        "    data = {'q': song_title + ' ' + artist_name}\n",
        "    response = requests.get(search_url, data=data, headers=headers)\n",
        "\n",
        "    return response"
      ],
      "id": "ZfuE2Ys4RgYK"
    },
    {
      "cell_type": "code",
      "execution_count": null,
      "metadata": {
        "id": "VlotaQpkStBx"
      },
      "outputs": [],
      "source": [
        "request_song_info('Punto G', 'Quevedo')"
      ],
      "id": "VlotaQpkStBx"
    },
    {
      "cell_type": "code",
      "execution_count": null,
      "metadata": {
        "id": "Z3IAQmMGS-Tg"
      },
      "outputs": [],
      "source": [
        "song_name = 'Punto G'\n",
        "artist_name = 'Quevedo'\n",
        "response = request_song_info(song_name, artist_name)\n",
        "json = response.json()\n",
        "remote_song_info = None\n",
        "\n",
        "for hit in json['response']['hits']:\n",
        "    if artist_name.lower() in hit['result']['primary_artist']['name'].lower():\n",
        "        remote_song_info = hit\n",
        "        break"
      ],
      "id": "Z3IAQmMGS-Tg"
    },
    {
      "cell_type": "code",
      "execution_count": null,
      "metadata": {
        "id": "tuVuUEYYTPuC"
      },
      "outputs": [],
      "source": [
        "print(remote_song_info)"
      ],
      "id": "tuVuUEYYTPuC"
    },
    {
      "cell_type": "markdown",
      "metadata": {
        "id": "ecza9KH3WCTy"
      },
      "source": [
        "API GENIUS"
      ],
      "id": "ecza9KH3WCTy"
    },
    {
      "cell_type": "code",
      "execution_count": null,
      "metadata": {
        "id": "PoiFt8dZUPQn"
      },
      "outputs": [],
      "source": [
        "genius_search_url = f\"http://api.genius.com/search?q=Quevedo&access_token={client_access_token}\"  # canciones de quevedo\n",
        "response = requests.get(genius_search_url)\n",
        "json_data = response.json()\n",
        "\n",
        "lyrics_url = json_data['response']['hits'][0]['result']['url']  # url for Quevedo's first stored song's lyrics\n",
        "print(lyrics_url)\n",
        "response_lyrics = requests.get(lyrics_url)\n",
        "response_lyrics\n"
      ],
      "id": "PoiFt8dZUPQn"
    },
    {
      "cell_type": "code",
      "execution_count": null,
      "metadata": {
        "id": "l5FFajcK7uu5"
      },
      "outputs": [],
      "source": [
        "!apt update\n",
        "!apt install chromium-chromedriver\n",
        "!pip install selenium"
      ],
      "id": "l5FFajcK7uu5"
    },
    {
      "cell_type": "code",
      "execution_count": null,
      "metadata": {
        "id": "hcCQexXG7zAV"
      },
      "outputs": [],
      "source": [
        "# set options to be headless\n",
        "from selenium import webdriver\n",
        "from selenium.webdriver.common.by import By\n",
        "\n",
        "options = webdriver.ChromeOptions()\n",
        "options.add_argument('--headless')\n",
        "options.add_argument('--no-sandbox')\n",
        "options.add_argument('--disable-dev-shm-usage')\n",
        "options.add_argument(\"window-size=1200x600\")\n",
        "\n",
        "# open it, go to a website, and get results\n",
        "driver = webdriver.Chrome('chromedriver',options=options)"
      ],
      "id": "hcCQexXG7zAV"
    },
    {
      "cell_type": "code",
      "execution_count": null,
      "metadata": {
        "id": "6uxyC3PK7zrb"
      },
      "outputs": [],
      "source": [
        "url = \"https://genius.com/Bizarrap-and-quevedo-quevedo-bzrp-music-sessions-vol-52-lyrics\"\n",
        "driver.get(url)"
      ],
      "id": "6uxyC3PK7zrb"
    },
    {
      "cell_type": "code",
      "execution_count": null,
      "metadata": {
        "colab": {
          "base_uri": "https://localhost:8080/",
          "height": 710
        },
        "id": "U-Qs494yJA9X",
        "outputId": "e926d565-2f57-4233-bb44-58074267bece"
      },
      "outputs": [
        {
          "ename": "NoSuchElementException",
          "evalue": "ignored",
          "output_type": "error",
          "traceback": [
            "\u001b[0;31m---------------------------------------------------------------------------\u001b[0m",
            "\u001b[0;31mNoSuchElementException\u001b[0m                    Traceback (most recent call last)",
            "\u001b[0;32m<ipython-input-29-d5a895799811>\u001b[0m in \u001b[0;36m<module>\u001b[0;34m\u001b[0m\n\u001b[0;32m----> 1\u001b[0;31m \u001b[0mresults\u001b[0m \u001b[0;34m=\u001b[0m \u001b[0mdriver\u001b[0m\u001b[0;34m.\u001b[0m\u001b[0mfind_element\u001b[0m\u001b[0;34m(\u001b[0m\u001b[0mBy\u001b[0m\u001b[0;34m.\u001b[0m\u001b[0mXPATH\u001b[0m\u001b[0;34m,\u001b[0m \u001b[0;34m\"//*[@id='lyrics-root']/div[2]\"\u001b[0m\u001b[0;34m)\u001b[0m\u001b[0;34m\u001b[0m\u001b[0;34m\u001b[0m\u001b[0m\n\u001b[0m\u001b[1;32m      2\u001b[0m \u001b[0mprint\u001b[0m\u001b[0;34m(\u001b[0m\u001b[0mresults\u001b[0m\u001b[0;34m.\u001b[0m\u001b[0mtext\u001b[0m\u001b[0;34m)\u001b[0m\u001b[0;34m\u001b[0m\u001b[0;34m\u001b[0m\u001b[0m\n\u001b[1;32m      3\u001b[0m \u001b[0;31m# //*[@id=\"lyrics-root\"]/div[2]\u001b[0m\u001b[0;34m\u001b[0m\u001b[0;34m\u001b[0m\u001b[0;34m\u001b[0m\u001b[0m\n",
            "\u001b[0;32m/usr/local/lib/python3.7/dist-packages/selenium/webdriver/remote/webdriver.py\u001b[0m in \u001b[0;36mfind_element\u001b[0;34m(self, by, value)\u001b[0m\n\u001b[1;32m    859\u001b[0m             \u001b[0mvalue\u001b[0m \u001b[0;34m=\u001b[0m \u001b[0;34m'[name=\"%s\"]'\u001b[0m \u001b[0;34m%\u001b[0m \u001b[0mvalue\u001b[0m\u001b[0;34m\u001b[0m\u001b[0;34m\u001b[0m\u001b[0m\n\u001b[1;32m    860\u001b[0m \u001b[0;34m\u001b[0m\u001b[0m\n\u001b[0;32m--> 861\u001b[0;31m         \u001b[0;32mreturn\u001b[0m \u001b[0mself\u001b[0m\u001b[0;34m.\u001b[0m\u001b[0mexecute\u001b[0m\u001b[0;34m(\u001b[0m\u001b[0mCommand\u001b[0m\u001b[0;34m.\u001b[0m\u001b[0mFIND_ELEMENT\u001b[0m\u001b[0;34m,\u001b[0m \u001b[0;34m{\u001b[0m\u001b[0;34m\"using\"\u001b[0m\u001b[0;34m:\u001b[0m \u001b[0mby\u001b[0m\u001b[0;34m,\u001b[0m \u001b[0;34m\"value\"\u001b[0m\u001b[0;34m:\u001b[0m \u001b[0mvalue\u001b[0m\u001b[0;34m}\u001b[0m\u001b[0;34m)\u001b[0m\u001b[0;34m[\u001b[0m\u001b[0;34m\"value\"\u001b[0m\u001b[0;34m]\u001b[0m\u001b[0;34m\u001b[0m\u001b[0;34m\u001b[0m\u001b[0m\n\u001b[0m\u001b[1;32m    862\u001b[0m \u001b[0;34m\u001b[0m\u001b[0m\n\u001b[1;32m    863\u001b[0m     \u001b[0;32mdef\u001b[0m \u001b[0mfind_elements\u001b[0m\u001b[0;34m(\u001b[0m\u001b[0mself\u001b[0m\u001b[0;34m,\u001b[0m \u001b[0mby\u001b[0m\u001b[0;34m=\u001b[0m\u001b[0mBy\u001b[0m\u001b[0;34m.\u001b[0m\u001b[0mID\u001b[0m\u001b[0;34m,\u001b[0m \u001b[0mvalue\u001b[0m\u001b[0;34m:\u001b[0m \u001b[0mOptional\u001b[0m\u001b[0;34m[\u001b[0m\u001b[0mstr\u001b[0m\u001b[0;34m]\u001b[0m \u001b[0;34m=\u001b[0m \u001b[0;32mNone\u001b[0m\u001b[0;34m)\u001b[0m \u001b[0;34m->\u001b[0m \u001b[0mList\u001b[0m\u001b[0;34m[\u001b[0m\u001b[0mWebElement\u001b[0m\u001b[0;34m]\u001b[0m\u001b[0;34m:\u001b[0m\u001b[0;34m\u001b[0m\u001b[0;34m\u001b[0m\u001b[0m\n",
            "\u001b[0;32m/usr/local/lib/python3.7/dist-packages/selenium/webdriver/remote/webdriver.py\u001b[0m in \u001b[0;36mexecute\u001b[0;34m(self, driver_command, params)\u001b[0m\n\u001b[1;32m    442\u001b[0m         \u001b[0mresponse\u001b[0m \u001b[0;34m=\u001b[0m \u001b[0mself\u001b[0m\u001b[0;34m.\u001b[0m\u001b[0mcommand_executor\u001b[0m\u001b[0;34m.\u001b[0m\u001b[0mexecute\u001b[0m\u001b[0;34m(\u001b[0m\u001b[0mdriver_command\u001b[0m\u001b[0;34m,\u001b[0m \u001b[0mparams\u001b[0m\u001b[0;34m)\u001b[0m\u001b[0;34m\u001b[0m\u001b[0;34m\u001b[0m\u001b[0m\n\u001b[1;32m    443\u001b[0m         \u001b[0;32mif\u001b[0m \u001b[0mresponse\u001b[0m\u001b[0;34m:\u001b[0m\u001b[0;34m\u001b[0m\u001b[0;34m\u001b[0m\u001b[0m\n\u001b[0;32m--> 444\u001b[0;31m             \u001b[0mself\u001b[0m\u001b[0;34m.\u001b[0m\u001b[0merror_handler\u001b[0m\u001b[0;34m.\u001b[0m\u001b[0mcheck_response\u001b[0m\u001b[0;34m(\u001b[0m\u001b[0mresponse\u001b[0m\u001b[0;34m)\u001b[0m\u001b[0;34m\u001b[0m\u001b[0;34m\u001b[0m\u001b[0m\n\u001b[0m\u001b[1;32m    445\u001b[0m             \u001b[0mresponse\u001b[0m\u001b[0;34m[\u001b[0m\u001b[0;34m\"value\"\u001b[0m\u001b[0;34m]\u001b[0m \u001b[0;34m=\u001b[0m \u001b[0mself\u001b[0m\u001b[0;34m.\u001b[0m\u001b[0m_unwrap_value\u001b[0m\u001b[0;34m(\u001b[0m\u001b[0mresponse\u001b[0m\u001b[0;34m.\u001b[0m\u001b[0mget\u001b[0m\u001b[0;34m(\u001b[0m\u001b[0;34m\"value\"\u001b[0m\u001b[0;34m,\u001b[0m \u001b[0;32mNone\u001b[0m\u001b[0;34m)\u001b[0m\u001b[0;34m)\u001b[0m\u001b[0;34m\u001b[0m\u001b[0;34m\u001b[0m\u001b[0m\n\u001b[1;32m    446\u001b[0m             \u001b[0;32mreturn\u001b[0m \u001b[0mresponse\u001b[0m\u001b[0;34m\u001b[0m\u001b[0;34m\u001b[0m\u001b[0m\n",
            "\u001b[0;32m/usr/local/lib/python3.7/dist-packages/selenium/webdriver/remote/errorhandler.py\u001b[0m in \u001b[0;36mcheck_response\u001b[0;34m(self, response)\u001b[0m\n\u001b[1;32m    247\u001b[0m                 \u001b[0malert_text\u001b[0m \u001b[0;34m=\u001b[0m \u001b[0mvalue\u001b[0m\u001b[0;34m[\u001b[0m\u001b[0;34m\"alert\"\u001b[0m\u001b[0;34m]\u001b[0m\u001b[0;34m.\u001b[0m\u001b[0mget\u001b[0m\u001b[0;34m(\u001b[0m\u001b[0;34m\"text\"\u001b[0m\u001b[0;34m)\u001b[0m\u001b[0;34m\u001b[0m\u001b[0;34m\u001b[0m\u001b[0m\n\u001b[1;32m    248\u001b[0m             \u001b[0;32mraise\u001b[0m \u001b[0mexception_class\u001b[0m\u001b[0;34m(\u001b[0m\u001b[0mmessage\u001b[0m\u001b[0;34m,\u001b[0m \u001b[0mscreen\u001b[0m\u001b[0;34m,\u001b[0m \u001b[0mstacktrace\u001b[0m\u001b[0;34m,\u001b[0m \u001b[0malert_text\u001b[0m\u001b[0;34m)\u001b[0m  \u001b[0;31m# type: ignore[call-arg]  # mypy is not smart enough here\u001b[0m\u001b[0;34m\u001b[0m\u001b[0;34m\u001b[0m\u001b[0m\n\u001b[0;32m--> 249\u001b[0;31m         \u001b[0;32mraise\u001b[0m \u001b[0mexception_class\u001b[0m\u001b[0;34m(\u001b[0m\u001b[0mmessage\u001b[0m\u001b[0;34m,\u001b[0m \u001b[0mscreen\u001b[0m\u001b[0;34m,\u001b[0m \u001b[0mstacktrace\u001b[0m\u001b[0;34m)\u001b[0m\u001b[0;34m\u001b[0m\u001b[0;34m\u001b[0m\u001b[0m\n\u001b[0m",
            "\u001b[0;31mNoSuchElementException\u001b[0m: Message: no such element: Unable to locate element: {\"method\":\"xpath\",\"selector\":\"//*[@id='lyrics-root']/div[2]\"}\n  (Session info: headless chrome=105.0.5195.102)\nStacktrace:\n#0 0x55fa4090b1a3 <unknown>\n#1 0x55fa406d7ac3 <unknown>\n#2 0x55fa4070f869 <unknown>\n#3 0x55fa4070fa41 <unknown>\n#4 0x55fa407436e7 <unknown>\n#5 0x55fa4072d10d <unknown>\n#6 0x55fa407413cc <unknown>\n#7 0x55fa4072d443 <unknown>\n#8 0x55fa4070348b <unknown>\n#9 0x55fa40704975 <unknown>\n#10 0x55fa409872a0 <unknown>\n#11 0x55fa4094281a <unknown>\n#12 0x55fa4094234a <unknown>\n#13 0x55fa40942e75 <unknown>\n#14 0x55fa4098314b <unknown>\n#15 0x55fa409431de <unknown>\n#16 0x55fa40924c23 <unknown>\n#17 0x55fa4094d6b8 <unknown>\n#18 0x55fa4094d852 <unknown>\n#19 0x55fa40966b60 <unknown>\n#20 0x7f0b8f9a46db <unknown>\n"
          ]
        }
      ],
      "source": [
        "results = driver.find_element(By.XPATH, \"//*[@id='lyrics-root']/div[2]\")\n",
        "print(results.text)\n",
        "# //*[@id=\"lyrics-root\"]/div[2]"
      ],
      "id": "U-Qs494yJA9X"
    },
    {
      "cell_type": "markdown",
      "metadata": {
        "id": "0ltoQfxi8B0u"
      },
      "source": [
        "BEAUTIFUL SOUP"
      ],
      "id": "0ltoQfxi8B0u"
    },
    {
      "cell_type": "code",
      "execution_count": null,
      "metadata": {
        "id": "zsyeDoDWWchp"
      },
      "outputs": [],
      "source": [
        "page_url = \"https://genius.com/Bizarrap-and-quevedo-quevedo-bzrp-music-sessions-vol-52-lyrics\"\n",
        "page = requests.get(page_url)\n",
        "html = BeautifulSoup(page.text, \"html.parser\")\n",
        "#remove script tags that they put in the middle of the lyrics\n",
        "[h.extract() for h in html('script')]\n",
        "html\n",
        "#at least Genius is nice and has a tag called 'lyrics'!\n",
        "#lyrics = html.find('div', class_='Lyrics__Container-sc-1ynbvzw-6 YYrds').get_text() #updated css where the lyrics are based in HTML\n",
        "#lyrics"
      ],
      "id": "zsyeDoDWWchp"
    },
    {
      "cell_type": "code",
      "execution_count": null,
      "metadata": {
        "id": "0c3177fa"
      },
      "outputs": [],
      "source": [
        "pl_esp = create_playlist_dict(playlists_ids_tops['Alemania'])"
      ],
      "id": "0c3177fa"
    },
    {
      "cell_type": "code",
      "execution_count": null,
      "metadata": {
        "colab": {
          "base_uri": "https://localhost:8080/"
        },
        "id": "03MKNsNhr1yM",
        "outputId": "9c0128a0-434a-43ef-dfc5-aa5d6014aa1d"
      },
      "outputs": [
        {
          "name": "stdout",
          "output_type": "stream",
          "text": [
            "[]\n"
          ]
        }
      ],
      "source": [
        "import re\n",
        "\n",
        "c = re.compile(r\"Lyrics_Container\")\n",
        "\n",
        "page = requests.get(\"https://genius.com/Quevedo-punto-g-lyrics\")\n",
        "soup = BeautifulSoup(page.content, \"html.parser\")\n",
        "lyrics = soup.find_all(id=\"lyrics-root-pin-spacer\")\n",
        "\n",
        "print(lyrics)\n"
      ],
      "id": "03MKNsNhr1yM"
    },
    {
      "cell_type": "code",
      "execution_count": null,
      "metadata": {
        "id": "jyxp-3QPrD9u"
      },
      "outputs": [],
      "source": [
        "#function to scrape lyrics from genius\n",
        "def scrape_lyrics(artistname, songname):\n",
        "    artistname2 = str(artistname.replace(' ','-')) if ' ' in artistname else str(artistname)\n",
        "    songname2 = str(songname.replace(' ','-')) if ' ' in songname else str(songname)\n",
        "    page = requests.get('https://genius.com/'+ artistname2 + '-' + songname2 + '-' + 'lyrics')\n",
        "    html = BeautifulSoup(page.text, 'html.parser')\n",
        "    lyrics1 = html.find(\"div\", class_=\"lyrics\")\n",
        "    lyrics2 = html.find(\"div\", class_=\"Lyrics__Container-sc-1ynbvzw-2 jgQsqn\")\n",
        "    if lyrics1:\n",
        "        lyrics = lyrics1.get_text()\n",
        "    elif lyrics2:\n",
        "        lyrics = lyrics2.get_text()\n",
        "    elif lyrics1 == lyrics2 == None:\n",
        "        lyrics = None\n",
        "    return lyrics"
      ],
      "id": "jyxp-3QPrD9u"
    },
    {
      "cell_type": "code",
      "execution_count": null,
      "metadata": {
        "id": "XPC7Wdu-Mw-3"
      },
      "outputs": [],
      "source": [
        "# Scrape lyrics from a Genius.com song URL\n",
        "def scrape_song_lyrics(url):\n",
        "    page = requests.get(url)\n",
        "    html = BeautifulSoup(page.text, 'html.parser')\n",
        "    lyrics = html.find('div', class_='lyrics').get_text()\n",
        "    #remove identifiers like chorus, verse, etc\n",
        "    lyrics = re.sub(r'[\\(\\[].*?[\\)\\]]', '', lyrics)\n",
        "    #remove empty lines\n",
        "    lyrics = os.linesep.join([s for s in lyrics.splitlines() if s])         \n",
        "    return lyrics\n",
        "# DEMO\n",
        "print(scrape_song_lyrics('https://genius.com/Lana-del-rey-young-and-beautiful-lyrics'))"
      ],
      "id": "XPC7Wdu-Mw-3"
    },
    {
      "cell_type": "code",
      "execution_count": null,
      "metadata": {
        "colab": {
          "base_uri": "https://localhost:8080/"
        },
        "id": "RT6KDsOarEI7",
        "outputId": "a69458fb-c30c-4c33-deaa-8c91413338dc"
      },
      "outputs": [
        {
          "name": "stdout",
          "output_type": "stream",
          "text": [
            "None\n"
          ]
        }
      ],
      "source": [
        "print(scrape_lyrics('Quevedo', 'punto g'))\n",
        "# ReferentFragmentdesktop__Highlight-sc-110r0d9-1 jAzSMw"
      ],
      "id": "RT6KDsOarEI7"
    },
    {
      "cell_type": "code",
      "execution_count": null,
      "metadata": {
        "colab": {
          "base_uri": "https://localhost:8080/"
        },
        "id": "LYK223hbp335",
        "outputId": "fc6ec8b2-6b7d-4701-9636-ec5bb2ee153d"
      },
      "outputs": [
        {
          "name": "stdout",
          "output_type": "stream",
          "text": [
            "Song: Punto G\n",
            "Artists: [{'name': 'Quevedo'}]\n",
            "Song: APA\n",
            "Artists: [{'name': 'Mora'}, {'name': 'Quevedo'}]\n",
            "Song: Hey Mor\n",
            "Artists: [{'name': 'Ozuna'}, {'name': 'Feid'}]\n",
            "Song: La Bachata\n",
            "Artists: [{'name': 'Manuel Turizo'}]\n",
            "Song: Quevedo: Bzrp Music Sessions, Vol. 52\n",
            "Artists: [{'name': 'Bizarrap'}, {'name': 'Quevedo'}]\n",
            "Song: Vista Al Mar\n",
            "Artists: [{'name': 'Quevedo'}]\n",
            "Song: CALENTÓN\n",
            "Artists: [{'name': 'Mora'}]\n",
            "Song: DOMINGO DE BOTE\n",
            "Artists: [{'name': 'Mora'}]\n",
            "Song: Besos Moja2\n",
            "Artists: [{'name': 'Wisin & Yandel'}, {'name': 'ROSALÍA'}]\n",
            "Song: Monotonía\n",
            "Artists: [{'name': 'Shakira'}, {'name': 'Ozuna'}]\n",
            "Song: PUNTO 40\n",
            "Artists: [{'name': 'Rauw Alejandro'}, {'name': 'Baby Rasta'}]\n",
            "Song: DESPECHÁ\n",
            "Artists: [{'name': 'ROSALÍA'}]\n",
            "Song: A Veces (feat. Feid)\n",
            "Artists: [{'name': 'Paulo Londra'}, {'name': 'Feid'}]\n",
            "Song: No Me digas Nada\n",
            "Artists: [{'name': 'Quevedo'}]\n",
            "Song: Feliz Cumpleaños Ferxxo\n",
            "Artists: [{'name': 'Feid'}]\n",
            "Song: Sin Señal\n",
            "Artists: [{'name': 'Quevedo'}, {'name': 'Ovy On The Drums'}]\n",
            "Song: MEMORIAS\n",
            "Artists: [{'name': 'Mora'}, {'name': 'Jhayco'}]\n",
            "Song: LA INOCENTE\n",
            "Artists: [{'name': 'Mora'}, {'name': 'Feid'}]\n",
            "Song: pa quererte\n",
            "Artists: [{'name': 'Rels B'}]\n",
            "Song: Caile\n",
            "Artists: [{'name': 'Luar La L'}]\n",
            "Song: COMO HAS ESTAU?\n",
            "Artists: [{'name': 'Mora'}]\n",
            "Song: CASUALIDAD\n",
            "Artists: [{'name': 'Mora'}]\n",
            "Song: Traductor\n",
            "Artists: [{'name': 'Tiago PZK'}, {'name': 'Myke Towers'}]\n",
            "Song: MODELITO\n",
            "Artists: [{'name': 'Mora'}, {'name': 'YOVNGCHIMI'}]\n",
            "Song: Me Porto Bonito\n",
            "Artists: [{'name': 'Bad Bunny'}, {'name': 'Chencho Corleone'}]\n",
            "Song: LAS 12\n",
            "Artists: [{'name': 'Ana Mena'}, {'name': 'Belinda'}]\n",
            "Song: Ojitos Lindos\n",
            "Artists: [{'name': 'Bad Bunny'}, {'name': 'Bomba Estéreo'}]\n",
            "Song: Cinderella\n",
            "Artists: [{'name': 'Cyril Kamer'}]\n",
            "Song: Diablo\n",
            "Artists: [{'name': 'Beret'}, {'name': 'Estopa'}]\n",
            "Song: En La De Ella\n",
            "Artists: [{'name': 'Jhayco'}, {'name': 'Feid'}, {'name': 'Sech'}]\n",
            "Song: LOKERA\n",
            "Artists: [{'name': 'Rauw Alejandro'}, {'name': 'Lyanno'}, {'name': 'Brray'}]\n",
            "Song: EN LA ORILLA\n",
            "Artists: [{'name': 'Mora'}]\n",
            "Song: I'm Good (Blue)\n",
            "Artists: [{'name': 'David Guetta'}, {'name': 'Bebe Rexha'}]\n",
            "Song: Muchoperro\n",
            "Artists: [{'name': 'Juseph'}, {'name': 'Cruz Cafuné'}, {'name': 'Wiso Rivera'}]\n",
            "Song: COSITAS\n",
            "Artists: [{'name': 'Mora'}, {'name': 'paopao'}]\n",
            "Song: Tarot\n",
            "Artists: [{'name': 'Bad Bunny'}, {'name': 'Jhayco'}]\n",
            "Song: Tití Me Preguntó\n",
            "Artists: [{'name': 'Bad Bunny'}]\n",
            "Song: cómo dormiste?\n",
            "Artists: [{'name': 'Rels B'}]\n",
            "Song: Luces De Neón\n",
            "Artists: [{'name': 'Myke Towers'}]\n",
            "Song: AIRBNB\n",
            "Artists: [{'name': 'Mora'}, {'name': 'De La Ghetto'}]\n",
            "Song: mariposas\n",
            "Artists: [{'name': 'sangiovanni'}, {'name': 'Aitana'}]\n",
            "Song: Te Felicito\n",
            "Artists: [{'name': 'Shakira'}, {'name': 'Rauw Alejandro'}]\n",
            "Song: Pico y Pala\n",
            "Artists: [{'name': 'Munic HB'}]\n",
            "Song: Salir Con Vida\n",
            "Artists: [{'name': 'Morat'}, {'name': 'Feid'}]\n",
            "Song: Tiago PZK: Bzrp Music Sessions, Vol. 48\n",
            "Artists: [{'name': 'Bizarrap'}, {'name': 'Tiago PZK'}]\n",
            "Song: Si Tú Te Vas (feat. Yung Beef) - Remix\n",
            "Artists: [{'name': 'Omar Montes'}, {'name': 'Khaled'}, {'name': 'Kaydy Cain'}, {'name': 'Yung Beef'}]\n",
            "Song: Piel de Cordero\n",
            "Artists: [{'name': 'Quevedo'}, {'name': 'La Pantera'}]\n",
            "Song: Si Te La Encuentras Por Ahí\n",
            "Artists: [{'name': 'Feid'}]\n",
            "Song: EL NENE\n",
            "Artists: [{'name': 'Foreign Teck'}, {'name': 'Anuel AA'}]\n",
            "Song: QUE HABILIDAD\n",
            "Artists: [{'name': 'Mora'}]\n"
          ]
        }
      ],
      "source": [
        "for key,value in pl_esp.items():\n",
        "  print('Song:',value['name'])\n",
        "  print('Artists:',value['artists'])"
      ],
      "id": "LYK223hbp335"
    },
    {
      "cell_type": "code",
      "execution_count": null,
      "metadata": {
        "id": "qcKBwUrtB3At"
      },
      "outputs": [],
      "source": [
        "for i in range(len(pl_esp)):\n",
        "  print()"
      ],
      "id": "qcKBwUrtB3At"
    },
    {
      "cell_type": "code",
      "execution_count": null,
      "metadata": {
        "id": "fflCawn4g5x8"
      },
      "outputs": [],
      "source": [
        "name = ''"
      ],
      "id": "fflCawn4g5x8"
    },
    {
      "cell_type": "markdown",
      "metadata": {
        "id": "vTF6n-N4T5bc"
      },
      "source": [
        "# Creating the Database"
      ],
      "id": "vTF6n-N4T5bc"
    },
    {
      "cell_type": "markdown",
      "metadata": {
        "id": "72hY-rPLYWFJ"
      },
      "source": [
        "###Comments:\n",
        "\n",
        "> Only keep some of the features (ej: not id, url, track_href...)\n",
        "> Extra row in final csv to indicate country "
      ],
      "id": "72hY-rPLYWFJ"
    },
    {
      "cell_type": "code",
      "execution_count": null,
      "metadata": {
        "id": "9GrDm-tST-IG",
        "cellView": "form"
      },
      "outputs": [],
      "source": [
        "#@title Test on a single playlist\n",
        "\n",
        "# song_ids = retrieve_songs(playlists_ids_tops['España'])\n",
        "# audio_feat = get_audio_features(song_ids)['audio_features']\n",
        "# song_feats = []\n",
        "# for song in audio_feat:\n",
        "#   for del_ in ['type', 'uri', 'track_href', 'analysis_url']:\n",
        "#     song.pop(del_)\n",
        "#   song_feats.append(song)\n",
        "\n",
        "  \n",
        "# df = pd.DataFrame(song_feats)\n",
        "# df = df.set_index('id')\n",
        "# df['country'] = 'Spain'"
      ],
      "id": "9GrDm-tST-IG"
    },
    {
      "cell_type": "code",
      "execution_count": null,
      "metadata": {
        "id": "KRwoPBgV6a9k"
      },
      "outputs": [],
      "source": [
        "#On whole dataset --> Luxemburgo has only 44 songs in the playlist\n",
        "df_top = pd.DataFrame()\n",
        "for country in playlists_ids_tops:\n",
        "  song_ids = retrieve_songs(playlists_ids_tops[country])\n",
        "  audio_feat = get_audio_features(song_ids)['audio_features']\n",
        "  song_feats = []\n",
        "  for song in audio_feat:\n",
        "    for del_ in ['type', 'uri', 'track_href', 'analysis_url']:\n",
        "      try:\n",
        "        song.pop(del_)\n",
        "      except:\n",
        "        pass\n",
        "    song_feats.append(song)\n",
        "\n",
        "  try: \n",
        "    tmp = pd.DataFrame(song_feats)\n",
        "    tmp['country'] = country\n",
        "    tmp['popularity'] = get_song_popularity(song_ids)\n",
        "    tmp['release_date'] = get_song_date(song_ids)\n",
        "    df_top = pd.concat([df_top,tmp], ignore_index = True)\n",
        "\n",
        "  except:\n",
        "    pass"
      ],
      "id": "KRwoPBgV6a9k"
    },
    {
      "cell_type": "code",
      "source": [
        "df_top"
      ],
      "metadata": {
        "colab": {
          "base_uri": "https://localhost:8080/",
          "height": 488
        },
        "id": "nOZDzKEfk6jz",
        "outputId": "27277f3c-cf21-4bde-a56e-ff9601290a28"
      },
      "id": "nOZDzKEfk6jz",
      "execution_count": null,
      "outputs": [
        {
          "output_type": "execute_result",
          "data": {
            "text/plain": [
              "      danceability  energy  key  loudness  mode  speechiness  acousticness  \\\n",
              "0            0.714   0.472    2    -7.375     1       0.0864       0.01300   \n",
              "1            0.336   0.627    7    -7.463     1       0.0384       0.16400   \n",
              "2            0.637   0.643    4    -6.571     1       0.0519       0.13000   \n",
              "3            0.735   0.478    2   -12.472     1       0.0293       0.18900   \n",
              "4            0.835   0.679    7    -5.329     0       0.0364       0.58300   \n",
              "...            ...     ...  ...       ...   ...          ...           ...   \n",
              "3436         0.514   0.730    1    -5.934     1       0.0598       0.00146   \n",
              "3437         0.247   0.299    9    -6.083     1       0.0315       0.89900   \n",
              "3438         0.486   0.545   11    -7.924     1       0.0336       0.06520   \n",
              "3439         0.963   0.905    7    -4.053     1       0.1170       0.65400   \n",
              "3440         0.768   0.714   10    -5.110     1       0.0401       0.35200   \n",
              "\n",
              "      instrumentalness  liveness  valence    tempo                      id  \\\n",
              "0             0.000005    0.2660   0.2380  131.121  3nqQXoyQOWXiESFLlDF1hG   \n",
              "1             0.000000    0.0708   0.3500  150.273  0bYg9bo50gSsH3LtXe2SQn   \n",
              "2             0.000002    0.1420   0.5330   97.008  0V3wPSX9ygBnCm8psDIegu   \n",
              "3             0.000002    0.3550   0.9470  107.682  2FRnf9qhLbvw8fu4IBXx78   \n",
              "4             0.000002    0.2180   0.8500  124.980  5ww2BF9slyYgNOk37BlC4u   \n",
              "...                ...       ...      ...      ...                     ...   \n",
              "3436          0.000095    0.0897   0.3340  171.005  0VjIjW4GlUZAMYd2vXMi3b   \n",
              "3437          0.000000    0.1310   0.1720  177.115  6sCvvleqKbeyOkQDieBYgp   \n",
              "3438          0.004740    0.0642   0.0385  150.187  4FyesJzVpA39hbYvcseO2d   \n",
              "3439          0.048100    0.1070   0.5940  123.998  7twsd0lwXyy0ARdsTyzHoJ   \n",
              "3440          0.000000    0.1500   0.8420  131.443  4h4QlmocP3IuwYEj2j14p8   \n",
              "\n",
              "      duration_ms  time_signature country  popularity release_date  \n",
              "0          156943               4  Global         100   2022-09-22  \n",
              "1          241107               4  Global          91   1994-10-28  \n",
              "2          200690               4  Global          97   2022-10-21  \n",
              "3          262960               4  Global          87   1984-11-29  \n",
              "4          162638               4  Global          97   2022-05-26  \n",
              "...           ...             ...     ...         ...          ...  \n",
              "3436       200040               4     EAU          90   2020-03-20  \n",
              "3437       196520               4     EAU          76   2022-11-11  \n",
              "3438       123891               4     EAU          89   2022-10-17  \n",
              "3439       178530               4     EAU          77   2022-11-18  \n",
              "3440       163026               4     EAU          89   2021-12-03  \n",
              "\n",
              "[3441 rows x 17 columns]"
            ],
            "text/html": [
              "\n",
              "  <div id=\"df-3cd7877e-0385-4530-8eb8-b1d91a639c08\">\n",
              "    <div class=\"colab-df-container\">\n",
              "      <div>\n",
              "<style scoped>\n",
              "    .dataframe tbody tr th:only-of-type {\n",
              "        vertical-align: middle;\n",
              "    }\n",
              "\n",
              "    .dataframe tbody tr th {\n",
              "        vertical-align: top;\n",
              "    }\n",
              "\n",
              "    .dataframe thead th {\n",
              "        text-align: right;\n",
              "    }\n",
              "</style>\n",
              "<table border=\"1\" class=\"dataframe\">\n",
              "  <thead>\n",
              "    <tr style=\"text-align: right;\">\n",
              "      <th></th>\n",
              "      <th>danceability</th>\n",
              "      <th>energy</th>\n",
              "      <th>key</th>\n",
              "      <th>loudness</th>\n",
              "      <th>mode</th>\n",
              "      <th>speechiness</th>\n",
              "      <th>acousticness</th>\n",
              "      <th>instrumentalness</th>\n",
              "      <th>liveness</th>\n",
              "      <th>valence</th>\n",
              "      <th>tempo</th>\n",
              "      <th>id</th>\n",
              "      <th>duration_ms</th>\n",
              "      <th>time_signature</th>\n",
              "      <th>country</th>\n",
              "      <th>popularity</th>\n",
              "      <th>release_date</th>\n",
              "    </tr>\n",
              "  </thead>\n",
              "  <tbody>\n",
              "    <tr>\n",
              "      <th>0</th>\n",
              "      <td>0.714</td>\n",
              "      <td>0.472</td>\n",
              "      <td>2</td>\n",
              "      <td>-7.375</td>\n",
              "      <td>1</td>\n",
              "      <td>0.0864</td>\n",
              "      <td>0.01300</td>\n",
              "      <td>0.000005</td>\n",
              "      <td>0.2660</td>\n",
              "      <td>0.2380</td>\n",
              "      <td>131.121</td>\n",
              "      <td>3nqQXoyQOWXiESFLlDF1hG</td>\n",
              "      <td>156943</td>\n",
              "      <td>4</td>\n",
              "      <td>Global</td>\n",
              "      <td>100</td>\n",
              "      <td>2022-09-22</td>\n",
              "    </tr>\n",
              "    <tr>\n",
              "      <th>1</th>\n",
              "      <td>0.336</td>\n",
              "      <td>0.627</td>\n",
              "      <td>7</td>\n",
              "      <td>-7.463</td>\n",
              "      <td>1</td>\n",
              "      <td>0.0384</td>\n",
              "      <td>0.16400</td>\n",
              "      <td>0.000000</td>\n",
              "      <td>0.0708</td>\n",
              "      <td>0.3500</td>\n",
              "      <td>150.273</td>\n",
              "      <td>0bYg9bo50gSsH3LtXe2SQn</td>\n",
              "      <td>241107</td>\n",
              "      <td>4</td>\n",
              "      <td>Global</td>\n",
              "      <td>91</td>\n",
              "      <td>1994-10-28</td>\n",
              "    </tr>\n",
              "    <tr>\n",
              "      <th>2</th>\n",
              "      <td>0.637</td>\n",
              "      <td>0.643</td>\n",
              "      <td>4</td>\n",
              "      <td>-6.571</td>\n",
              "      <td>1</td>\n",
              "      <td>0.0519</td>\n",
              "      <td>0.13000</td>\n",
              "      <td>0.000002</td>\n",
              "      <td>0.1420</td>\n",
              "      <td>0.5330</td>\n",
              "      <td>97.008</td>\n",
              "      <td>0V3wPSX9ygBnCm8psDIegu</td>\n",
              "      <td>200690</td>\n",
              "      <td>4</td>\n",
              "      <td>Global</td>\n",
              "      <td>97</td>\n",
              "      <td>2022-10-21</td>\n",
              "    </tr>\n",
              "    <tr>\n",
              "      <th>3</th>\n",
              "      <td>0.735</td>\n",
              "      <td>0.478</td>\n",
              "      <td>2</td>\n",
              "      <td>-12.472</td>\n",
              "      <td>1</td>\n",
              "      <td>0.0293</td>\n",
              "      <td>0.18900</td>\n",
              "      <td>0.000002</td>\n",
              "      <td>0.3550</td>\n",
              "      <td>0.9470</td>\n",
              "      <td>107.682</td>\n",
              "      <td>2FRnf9qhLbvw8fu4IBXx78</td>\n",
              "      <td>262960</td>\n",
              "      <td>4</td>\n",
              "      <td>Global</td>\n",
              "      <td>87</td>\n",
              "      <td>1984-11-29</td>\n",
              "    </tr>\n",
              "    <tr>\n",
              "      <th>4</th>\n",
              "      <td>0.835</td>\n",
              "      <td>0.679</td>\n",
              "      <td>7</td>\n",
              "      <td>-5.329</td>\n",
              "      <td>0</td>\n",
              "      <td>0.0364</td>\n",
              "      <td>0.58300</td>\n",
              "      <td>0.000002</td>\n",
              "      <td>0.2180</td>\n",
              "      <td>0.8500</td>\n",
              "      <td>124.980</td>\n",
              "      <td>5ww2BF9slyYgNOk37BlC4u</td>\n",
              "      <td>162638</td>\n",
              "      <td>4</td>\n",
              "      <td>Global</td>\n",
              "      <td>97</td>\n",
              "      <td>2022-05-26</td>\n",
              "    </tr>\n",
              "    <tr>\n",
              "      <th>...</th>\n",
              "      <td>...</td>\n",
              "      <td>...</td>\n",
              "      <td>...</td>\n",
              "      <td>...</td>\n",
              "      <td>...</td>\n",
              "      <td>...</td>\n",
              "      <td>...</td>\n",
              "      <td>...</td>\n",
              "      <td>...</td>\n",
              "      <td>...</td>\n",
              "      <td>...</td>\n",
              "      <td>...</td>\n",
              "      <td>...</td>\n",
              "      <td>...</td>\n",
              "      <td>...</td>\n",
              "      <td>...</td>\n",
              "      <td>...</td>\n",
              "    </tr>\n",
              "    <tr>\n",
              "      <th>3436</th>\n",
              "      <td>0.514</td>\n",
              "      <td>0.730</td>\n",
              "      <td>1</td>\n",
              "      <td>-5.934</td>\n",
              "      <td>1</td>\n",
              "      <td>0.0598</td>\n",
              "      <td>0.00146</td>\n",
              "      <td>0.000095</td>\n",
              "      <td>0.0897</td>\n",
              "      <td>0.3340</td>\n",
              "      <td>171.005</td>\n",
              "      <td>0VjIjW4GlUZAMYd2vXMi3b</td>\n",
              "      <td>200040</td>\n",
              "      <td>4</td>\n",
              "      <td>EAU</td>\n",
              "      <td>90</td>\n",
              "      <td>2020-03-20</td>\n",
              "    </tr>\n",
              "    <tr>\n",
              "      <th>3437</th>\n",
              "      <td>0.247</td>\n",
              "      <td>0.299</td>\n",
              "      <td>9</td>\n",
              "      <td>-6.083</td>\n",
              "      <td>1</td>\n",
              "      <td>0.0315</td>\n",
              "      <td>0.89900</td>\n",
              "      <td>0.000000</td>\n",
              "      <td>0.1310</td>\n",
              "      <td>0.1720</td>\n",
              "      <td>177.115</td>\n",
              "      <td>6sCvvleqKbeyOkQDieBYgp</td>\n",
              "      <td>196520</td>\n",
              "      <td>4</td>\n",
              "      <td>EAU</td>\n",
              "      <td>76</td>\n",
              "      <td>2022-11-11</td>\n",
              "    </tr>\n",
              "    <tr>\n",
              "      <th>3438</th>\n",
              "      <td>0.486</td>\n",
              "      <td>0.545</td>\n",
              "      <td>11</td>\n",
              "      <td>-7.924</td>\n",
              "      <td>1</td>\n",
              "      <td>0.0336</td>\n",
              "      <td>0.06520</td>\n",
              "      <td>0.004740</td>\n",
              "      <td>0.0642</td>\n",
              "      <td>0.0385</td>\n",
              "      <td>150.187</td>\n",
              "      <td>4FyesJzVpA39hbYvcseO2d</td>\n",
              "      <td>123891</td>\n",
              "      <td>4</td>\n",
              "      <td>EAU</td>\n",
              "      <td>89</td>\n",
              "      <td>2022-10-17</td>\n",
              "    </tr>\n",
              "    <tr>\n",
              "      <th>3439</th>\n",
              "      <td>0.963</td>\n",
              "      <td>0.905</td>\n",
              "      <td>7</td>\n",
              "      <td>-4.053</td>\n",
              "      <td>1</td>\n",
              "      <td>0.1170</td>\n",
              "      <td>0.65400</td>\n",
              "      <td>0.048100</td>\n",
              "      <td>0.1070</td>\n",
              "      <td>0.5940</td>\n",
              "      <td>123.998</td>\n",
              "      <td>7twsd0lwXyy0ARdsTyzHoJ</td>\n",
              "      <td>178530</td>\n",
              "      <td>4</td>\n",
              "      <td>EAU</td>\n",
              "      <td>77</td>\n",
              "      <td>2022-11-18</td>\n",
              "    </tr>\n",
              "    <tr>\n",
              "      <th>3440</th>\n",
              "      <td>0.768</td>\n",
              "      <td>0.714</td>\n",
              "      <td>10</td>\n",
              "      <td>-5.110</td>\n",
              "      <td>1</td>\n",
              "      <td>0.0401</td>\n",
              "      <td>0.35200</td>\n",
              "      <td>0.000000</td>\n",
              "      <td>0.1500</td>\n",
              "      <td>0.8420</td>\n",
              "      <td>131.443</td>\n",
              "      <td>4h4QlmocP3IuwYEj2j14p8</td>\n",
              "      <td>163026</td>\n",
              "      <td>4</td>\n",
              "      <td>EAU</td>\n",
              "      <td>89</td>\n",
              "      <td>2021-12-03</td>\n",
              "    </tr>\n",
              "  </tbody>\n",
              "</table>\n",
              "<p>3441 rows × 17 columns</p>\n",
              "</div>\n",
              "      <button class=\"colab-df-convert\" onclick=\"convertToInteractive('df-3cd7877e-0385-4530-8eb8-b1d91a639c08')\"\n",
              "              title=\"Convert this dataframe to an interactive table.\"\n",
              "              style=\"display:none;\">\n",
              "        \n",
              "  <svg xmlns=\"http://www.w3.org/2000/svg\" height=\"24px\"viewBox=\"0 0 24 24\"\n",
              "       width=\"24px\">\n",
              "    <path d=\"M0 0h24v24H0V0z\" fill=\"none\"/>\n",
              "    <path d=\"M18.56 5.44l.94 2.06.94-2.06 2.06-.94-2.06-.94-.94-2.06-.94 2.06-2.06.94zm-11 1L8.5 8.5l.94-2.06 2.06-.94-2.06-.94L8.5 2.5l-.94 2.06-2.06.94zm10 10l.94 2.06.94-2.06 2.06-.94-2.06-.94-.94-2.06-.94 2.06-2.06.94z\"/><path d=\"M17.41 7.96l-1.37-1.37c-.4-.4-.92-.59-1.43-.59-.52 0-1.04.2-1.43.59L10.3 9.45l-7.72 7.72c-.78.78-.78 2.05 0 2.83L4 21.41c.39.39.9.59 1.41.59.51 0 1.02-.2 1.41-.59l7.78-7.78 2.81-2.81c.8-.78.8-2.07 0-2.86zM5.41 20L4 18.59l7.72-7.72 1.47 1.35L5.41 20z\"/>\n",
              "  </svg>\n",
              "      </button>\n",
              "      \n",
              "  <style>\n",
              "    .colab-df-container {\n",
              "      display:flex;\n",
              "      flex-wrap:wrap;\n",
              "      gap: 12px;\n",
              "    }\n",
              "\n",
              "    .colab-df-convert {\n",
              "      background-color: #E8F0FE;\n",
              "      border: none;\n",
              "      border-radius: 50%;\n",
              "      cursor: pointer;\n",
              "      display: none;\n",
              "      fill: #1967D2;\n",
              "      height: 32px;\n",
              "      padding: 0 0 0 0;\n",
              "      width: 32px;\n",
              "    }\n",
              "\n",
              "    .colab-df-convert:hover {\n",
              "      background-color: #E2EBFA;\n",
              "      box-shadow: 0px 1px 2px rgba(60, 64, 67, 0.3), 0px 1px 3px 1px rgba(60, 64, 67, 0.15);\n",
              "      fill: #174EA6;\n",
              "    }\n",
              "\n",
              "    [theme=dark] .colab-df-convert {\n",
              "      background-color: #3B4455;\n",
              "      fill: #D2E3FC;\n",
              "    }\n",
              "\n",
              "    [theme=dark] .colab-df-convert:hover {\n",
              "      background-color: #434B5C;\n",
              "      box-shadow: 0px 1px 3px 1px rgba(0, 0, 0, 0.15);\n",
              "      filter: drop-shadow(0px 1px 2px rgba(0, 0, 0, 0.3));\n",
              "      fill: #FFFFFF;\n",
              "    }\n",
              "  </style>\n",
              "\n",
              "      <script>\n",
              "        const buttonEl =\n",
              "          document.querySelector('#df-3cd7877e-0385-4530-8eb8-b1d91a639c08 button.colab-df-convert');\n",
              "        buttonEl.style.display =\n",
              "          google.colab.kernel.accessAllowed ? 'block' : 'none';\n",
              "\n",
              "        async function convertToInteractive(key) {\n",
              "          const element = document.querySelector('#df-3cd7877e-0385-4530-8eb8-b1d91a639c08');\n",
              "          const dataTable =\n",
              "            await google.colab.kernel.invokeFunction('convertToInteractive',\n",
              "                                                     [key], {});\n",
              "          if (!dataTable) return;\n",
              "\n",
              "          const docLinkHtml = 'Like what you see? Visit the ' +\n",
              "            '<a target=\"_blank\" href=https://colab.research.google.com/notebooks/data_table.ipynb>data table notebook</a>'\n",
              "            + ' to learn more about interactive tables.';\n",
              "          element.innerHTML = '';\n",
              "          dataTable['output_type'] = 'display_data';\n",
              "          await google.colab.output.renderOutput(dataTable, element);\n",
              "          const docLink = document.createElement('div');\n",
              "          docLink.innerHTML = docLinkHtml;\n",
              "          element.appendChild(docLink);\n",
              "        }\n",
              "      </script>\n",
              "    </div>\n",
              "  </div>\n",
              "  "
            ]
          },
          "metadata": {},
          "execution_count": 23
        }
      ]
    },
    {
      "cell_type": "code",
      "execution_count": null,
      "metadata": {
        "id": "nlqaHxMP8Roi"
      },
      "outputs": [],
      "source": [
        "df_top.to_csv('/content/drive/MyDrive/Colab Notebooks/WebAnalytics/Spotify/song_feat_top.csv')"
      ],
      "id": "nlqaHxMP8Roi"
    },
    {
      "cell_type": "code",
      "execution_count": null,
      "metadata": {
        "id": "PfELfTINTIQM"
      },
      "outputs": [],
      "source": [
        "d= Counter(df['id'])\n",
        "# dict(sorted(d.items(), key=lambda item: item[1]), reverse=True)\n",
        "\n",
        "import operator\n",
        "sorted(d.items(), key=operator.itemgetter(1), reverse=True)[:30]\n"
      ],
      "id": "PfELfTINTIQM"
    },
    {
      "cell_type": "markdown",
      "metadata": {
        "id": "dZa5o96ZbHdv"
      },
      "source": [
        "## MOODS"
      ],
      "id": "dZa5o96ZbHdv"
    },
    {
      "cell_type": "code",
      "execution_count": null,
      "metadata": {
        "id": "sHKS-go7Tqe8"
      },
      "outputs": [],
      "source": [
        "moods = ['sport', 'sad', 'happy', 'chill', 'party', 'disconnecting', 'dark', 'revive', 'romance']\n",
        "\n",
        "# # PARA CREAR EL DICT CON EL NOMBRE DE LAS PLAYLITS\n",
        "# change = {}\n",
        "# for i in playlists_ids_mood.keys():\n",
        "#   print(i + ':')\n",
        "\n",
        "\n",
        "d = {'temazos chill': 'chill',\n",
        " '¡Esta me la sé!': 'happy',\n",
        " 'Relax en casa': 'chill',\n",
        " 'Hits Alegres': 'happy',\n",
        " 'Happy Hits!': 'happy',\n",
        " 'Fuera estrés': 'revive',\n",
        " 'canciones tristes': 'sad',\n",
        " 'sad 😔': 'sad',\n",
        " \"Feelin' Good\": 'happy',\n",
        " 'Happy Beats': 'happy',\n",
        " '¡Arriba los ánimos!': 'revive',\n",
        " 'Mood Booster': 'revive',\n",
        " 'Chill Tracks': 'chill',\n",
        " 'Positive Vibes': 'happy',\n",
        " 'Alone Again': 'sad',\n",
        " 'Life Sucks': 'sad',\n",
        " 'Good Vibes': 'happy',\n",
        " 'young, wild & free': 'happy',\n",
        " 'Energy Booster: Dance': 'revive',\n",
        " 'Happy Favorites': 'happy',\n",
        " 'gris': 'dark',\n",
        " 'sad hour': 'sad',\n",
        " 'my life is a movie': 'disconnecting',\n",
        " 'Villain Mode': 'dark',\n",
        " 'idk.': 'sad',\n",
        " 'Brain Food': 'disconnecting',\n",
        " 'You & Me': 'romance',\n",
        " 'Maldita Hamburguesa': 'sport',\n",
        " 'Calm Before the Storm': 'sad',\n",
        " 'Energy Booster: Rock': 'revive',\n",
        " 'tear drop': 'sad',\n",
        " 'Deep Dark Indie': 'dark',\n",
        " 'Spooky': 'dark',\n",
        "  'Gym Tonic': 'sport',\n",
        "  'SPORT MIX 2023  🏋️🤾‍♀️🚴🏃🥇🏆': 'sport',\n",
        "  'Disconnect': 'disconnecting',\n",
        "  'Romantic Ballads': 'romance',\n",
        "  'ROMANTICAS 2022 ❤️ (Canciones romanticas)':'romance',\n",
        "  'Darkside Mix': 'dark',\n",
        "  'Sport Motivation 2022': 'sport',\n",
        "  'Top Hits Workout':'sport',\n",
        "  'Pura energía':'sport',\n",
        "  'Workout Hits':'sport',\n",
        "  'Lofi hip hop - beats to relax/study to': 'disconnecting',\n",
        "  'The Most Romantic Songs in the World': 'romance',\n",
        "  'Romance Playlist':'romance',\n",
        "  'Classical Romance':'romance',\n",
        "  'Hits Románticos':'romance',\n",
        "  'Relax & Chill 2022 🌴': 'chill',\n",
        "  'Dark & Stormy': 'dark',\n",
        "  'Darkside Mix': 'dark',\n",
        "  'Chill Vibes 2022 🌙': 'chill',\n",
        "  'Mood Booster 2022 🌞 Positive Vibes, Happy Music': 'revive',\n",
        "  'Cheer Up Hits': 'revive',\n",
        "  'Disconnect yourself': 'disconnecting',\n",
        "  'Disconnected': 'disconnecting'\n",
        "  }"
      ],
      "id": "sHKS-go7Tqe8"
    },
    {
      "cell_type": "code",
      "execution_count": null,
      "metadata": {
        "id": "y8QESZrCfdWs",
        "cellView": "form"
      },
      "outputs": [],
      "source": [
        "#@title Test on a single playlist\n",
        "\n",
        "# song_ids = retrieve_songs(playlists_ids_mood['Maldita hamburguesa'])\n",
        "# audio_feat = get_audio_features(song_ids)['audio_features']\n",
        "# song_feats = []\n",
        "# for song in audio_feat:\n",
        "#   for del_ in ['type', 'uri', 'track_href', 'analysis_url']:\n",
        "#     song.pop(del_)\n",
        "#   song_feats.append(song)\n",
        "\n",
        "  \n",
        "# df = pd.DataFrame(song_feats)\n",
        "# df = df.set_index('id')\n",
        "# df['mood'] = 'sport'\n",
        "# df\n"
      ],
      "id": "y8QESZrCfdWs"
    },
    {
      "cell_type": "code",
      "execution_count": null,
      "metadata": {
        "id": "KTCfTqcMgFN8"
      },
      "outputs": [],
      "source": [
        "#On whole dataset --> 3056 rows × 15 columns\n",
        "df_moods = pd.DataFrame()\n",
        "for playlist in playlists_ids_mood:\n",
        "  song_ids = retrieve_songs(playlists_ids_mood[playlist])\n",
        "  audio_feat = get_audio_features(song_ids)['audio_features']\n",
        "  song_feats = []\n",
        "  for song in audio_feat:\n",
        "    for del_ in ['type', 'uri', 'track_href', 'analysis_url']:\n",
        "      try:\n",
        "        song.pop(del_)\n",
        "      except:\n",
        "        pass\n",
        "    song_feats.append(song)\n",
        "\n",
        "  try: \n",
        "    tmp = pd.DataFrame(song_feats)\n",
        "    tmp['mood'] = d[playlist]\n",
        "    tmp['popularity'] = get_song_popularity(song_ids)\n",
        "    tmp['release_date'] = get_song_date(song_ids)\n",
        "    df_moods = pd.concat([df_moods,tmp], ignore_index = True)\n",
        "  except:\n",
        "    pass\n",
        "\n",
        "# df_moods.to_csv('song_feat_moods.csv')"
      ],
      "id": "KTCfTqcMgFN8"
    },
    {
      "cell_type": "code",
      "source": [
        "df_moods"
      ],
      "metadata": {
        "colab": {
          "base_uri": "https://localhost:8080/",
          "height": 488
        },
        "id": "pDrt2oQODhNm",
        "outputId": "387846c9-cd86-4bba-8617-20b72e99f18b"
      },
      "id": "pDrt2oQODhNm",
      "execution_count": null,
      "outputs": [
        {
          "output_type": "execute_result",
          "data": {
            "text/plain": [
              "      danceability  energy  key  loudness  mode  speechiness  acousticness  \\\n",
              "0            0.766   0.333    7   -13.775     0       0.0558       0.82400   \n",
              "1            0.757   0.631    0    -6.886     1       0.0302       0.00703   \n",
              "2            0.734   0.425    9    -8.585     1       0.1170       0.79000   \n",
              "3            0.439   0.482    0    -8.226     1       0.0946       0.58300   \n",
              "4            0.627   0.426    6    -5.994     1       0.0291       0.88300   \n",
              "...            ...     ...  ...       ...   ...          ...           ...   \n",
              "4475         0.854   0.766    9    -4.697     0       0.1410       0.02420   \n",
              "4476         0.693   0.822    4    -5.441     0       0.0439       0.00616   \n",
              "4477         0.747   0.739   11    -3.318     0       0.0733       0.04750   \n",
              "4478         0.804   0.836    6    -6.635     0       0.0890       0.32000   \n",
              "4479         0.864   0.870    8    -2.770     1       0.1470       0.11900   \n",
              "\n",
              "      instrumentalness  liveness  valence    tempo                      id  \\\n",
              "0             0.001700    0.1590    0.450   95.951  0mzvDQW1IgLuXAwD5YMN6i   \n",
              "1             0.008650    0.0931    0.264  125.983  1L4f4kyGeaLdZeVhPLaD8j   \n",
              "2             0.000013    0.1070    0.361   80.898  4IKSehYf4e9tjijDSZHQF2   \n",
              "3             0.000000    0.1420    0.368  179.884  5vK8ILrHjXjdZJHp0AtEVJ   \n",
              "4             0.001780    0.1100    0.498   67.520  7tAsrC5tNcbccUmMnRsmZI   \n",
              "...                ...       ...      ...      ...                     ...   \n",
              "4475          0.000000    0.0793    0.784  118.004  2S5LNtRVRPbXk01yRQ14sZ   \n",
              "4476          0.000002    0.3150    0.763  126.035  3zrYNl1aMdFrQkcOjKVr5u   \n",
              "4477          0.000000    0.2130    0.663  127.959  3bhvFZ2eJMuWakoDYZdaR5   \n",
              "4478          0.000000    0.2130    0.850  120.046  7mS8RbJji2UZAaguRGsOCH   \n",
              "4479          0.000000    0.5080    0.837  109.987  5epx5YtoMbV0GrL9qx9kVY   \n",
              "\n",
              "      duration_ms  time_signature           mood  popularity release_date  \n",
              "0          126985               4          chill          49   2021-03-12  \n",
              "1          185813               4          chill          47   2021-12-09  \n",
              "2          133333               4          chill          51   2022-02-04  \n",
              "3          185554               4          chill          48   2022-03-04  \n",
              "4          189732               4          chill          46   2021-12-16  \n",
              "...           ...             ...            ...         ...          ...  \n",
              "4475       224258               4  disconnecting          66   2015-04-07  \n",
              "4476       223800               4  disconnecting          59   2012-06-22  \n",
              "4477       205040               4  disconnecting          48   2011-08-30  \n",
              "4478       223773               4  disconnecting          60   2003-11-13  \n",
              "4479       289400               4  disconnecting          51   2003-11-13  \n",
              "\n",
              "[4480 rows x 17 columns]"
            ],
            "text/html": [
              "\n",
              "  <div id=\"df-340d3248-1090-46dd-8f30-ae01b2427f3f\">\n",
              "    <div class=\"colab-df-container\">\n",
              "      <div>\n",
              "<style scoped>\n",
              "    .dataframe tbody tr th:only-of-type {\n",
              "        vertical-align: middle;\n",
              "    }\n",
              "\n",
              "    .dataframe tbody tr th {\n",
              "        vertical-align: top;\n",
              "    }\n",
              "\n",
              "    .dataframe thead th {\n",
              "        text-align: right;\n",
              "    }\n",
              "</style>\n",
              "<table border=\"1\" class=\"dataframe\">\n",
              "  <thead>\n",
              "    <tr style=\"text-align: right;\">\n",
              "      <th></th>\n",
              "      <th>danceability</th>\n",
              "      <th>energy</th>\n",
              "      <th>key</th>\n",
              "      <th>loudness</th>\n",
              "      <th>mode</th>\n",
              "      <th>speechiness</th>\n",
              "      <th>acousticness</th>\n",
              "      <th>instrumentalness</th>\n",
              "      <th>liveness</th>\n",
              "      <th>valence</th>\n",
              "      <th>tempo</th>\n",
              "      <th>id</th>\n",
              "      <th>duration_ms</th>\n",
              "      <th>time_signature</th>\n",
              "      <th>mood</th>\n",
              "      <th>popularity</th>\n",
              "      <th>release_date</th>\n",
              "    </tr>\n",
              "  </thead>\n",
              "  <tbody>\n",
              "    <tr>\n",
              "      <th>0</th>\n",
              "      <td>0.766</td>\n",
              "      <td>0.333</td>\n",
              "      <td>7</td>\n",
              "      <td>-13.775</td>\n",
              "      <td>0</td>\n",
              "      <td>0.0558</td>\n",
              "      <td>0.82400</td>\n",
              "      <td>0.001700</td>\n",
              "      <td>0.1590</td>\n",
              "      <td>0.450</td>\n",
              "      <td>95.951</td>\n",
              "      <td>0mzvDQW1IgLuXAwD5YMN6i</td>\n",
              "      <td>126985</td>\n",
              "      <td>4</td>\n",
              "      <td>chill</td>\n",
              "      <td>49</td>\n",
              "      <td>2021-03-12</td>\n",
              "    </tr>\n",
              "    <tr>\n",
              "      <th>1</th>\n",
              "      <td>0.757</td>\n",
              "      <td>0.631</td>\n",
              "      <td>0</td>\n",
              "      <td>-6.886</td>\n",
              "      <td>1</td>\n",
              "      <td>0.0302</td>\n",
              "      <td>0.00703</td>\n",
              "      <td>0.008650</td>\n",
              "      <td>0.0931</td>\n",
              "      <td>0.264</td>\n",
              "      <td>125.983</td>\n",
              "      <td>1L4f4kyGeaLdZeVhPLaD8j</td>\n",
              "      <td>185813</td>\n",
              "      <td>4</td>\n",
              "      <td>chill</td>\n",
              "      <td>47</td>\n",
              "      <td>2021-12-09</td>\n",
              "    </tr>\n",
              "    <tr>\n",
              "      <th>2</th>\n",
              "      <td>0.734</td>\n",
              "      <td>0.425</td>\n",
              "      <td>9</td>\n",
              "      <td>-8.585</td>\n",
              "      <td>1</td>\n",
              "      <td>0.1170</td>\n",
              "      <td>0.79000</td>\n",
              "      <td>0.000013</td>\n",
              "      <td>0.1070</td>\n",
              "      <td>0.361</td>\n",
              "      <td>80.898</td>\n",
              "      <td>4IKSehYf4e9tjijDSZHQF2</td>\n",
              "      <td>133333</td>\n",
              "      <td>4</td>\n",
              "      <td>chill</td>\n",
              "      <td>51</td>\n",
              "      <td>2022-02-04</td>\n",
              "    </tr>\n",
              "    <tr>\n",
              "      <th>3</th>\n",
              "      <td>0.439</td>\n",
              "      <td>0.482</td>\n",
              "      <td>0</td>\n",
              "      <td>-8.226</td>\n",
              "      <td>1</td>\n",
              "      <td>0.0946</td>\n",
              "      <td>0.58300</td>\n",
              "      <td>0.000000</td>\n",
              "      <td>0.1420</td>\n",
              "      <td>0.368</td>\n",
              "      <td>179.884</td>\n",
              "      <td>5vK8ILrHjXjdZJHp0AtEVJ</td>\n",
              "      <td>185554</td>\n",
              "      <td>4</td>\n",
              "      <td>chill</td>\n",
              "      <td>48</td>\n",
              "      <td>2022-03-04</td>\n",
              "    </tr>\n",
              "    <tr>\n",
              "      <th>4</th>\n",
              "      <td>0.627</td>\n",
              "      <td>0.426</td>\n",
              "      <td>6</td>\n",
              "      <td>-5.994</td>\n",
              "      <td>1</td>\n",
              "      <td>0.0291</td>\n",
              "      <td>0.88300</td>\n",
              "      <td>0.001780</td>\n",
              "      <td>0.1100</td>\n",
              "      <td>0.498</td>\n",
              "      <td>67.520</td>\n",
              "      <td>7tAsrC5tNcbccUmMnRsmZI</td>\n",
              "      <td>189732</td>\n",
              "      <td>4</td>\n",
              "      <td>chill</td>\n",
              "      <td>46</td>\n",
              "      <td>2021-12-16</td>\n",
              "    </tr>\n",
              "    <tr>\n",
              "      <th>...</th>\n",
              "      <td>...</td>\n",
              "      <td>...</td>\n",
              "      <td>...</td>\n",
              "      <td>...</td>\n",
              "      <td>...</td>\n",
              "      <td>...</td>\n",
              "      <td>...</td>\n",
              "      <td>...</td>\n",
              "      <td>...</td>\n",
              "      <td>...</td>\n",
              "      <td>...</td>\n",
              "      <td>...</td>\n",
              "      <td>...</td>\n",
              "      <td>...</td>\n",
              "      <td>...</td>\n",
              "      <td>...</td>\n",
              "      <td>...</td>\n",
              "    </tr>\n",
              "    <tr>\n",
              "      <th>4475</th>\n",
              "      <td>0.854</td>\n",
              "      <td>0.766</td>\n",
              "      <td>9</td>\n",
              "      <td>-4.697</td>\n",
              "      <td>0</td>\n",
              "      <td>0.1410</td>\n",
              "      <td>0.02420</td>\n",
              "      <td>0.000000</td>\n",
              "      <td>0.0793</td>\n",
              "      <td>0.784</td>\n",
              "      <td>118.004</td>\n",
              "      <td>2S5LNtRVRPbXk01yRQ14sZ</td>\n",
              "      <td>224258</td>\n",
              "      <td>4</td>\n",
              "      <td>disconnecting</td>\n",
              "      <td>66</td>\n",
              "      <td>2015-04-07</td>\n",
              "    </tr>\n",
              "    <tr>\n",
              "      <th>4476</th>\n",
              "      <td>0.693</td>\n",
              "      <td>0.822</td>\n",
              "      <td>4</td>\n",
              "      <td>-5.441</td>\n",
              "      <td>0</td>\n",
              "      <td>0.0439</td>\n",
              "      <td>0.00616</td>\n",
              "      <td>0.000002</td>\n",
              "      <td>0.3150</td>\n",
              "      <td>0.763</td>\n",
              "      <td>126.035</td>\n",
              "      <td>3zrYNl1aMdFrQkcOjKVr5u</td>\n",
              "      <td>223800</td>\n",
              "      <td>4</td>\n",
              "      <td>disconnecting</td>\n",
              "      <td>59</td>\n",
              "      <td>2012-06-22</td>\n",
              "    </tr>\n",
              "    <tr>\n",
              "      <th>4477</th>\n",
              "      <td>0.747</td>\n",
              "      <td>0.739</td>\n",
              "      <td>11</td>\n",
              "      <td>-3.318</td>\n",
              "      <td>0</td>\n",
              "      <td>0.0733</td>\n",
              "      <td>0.04750</td>\n",
              "      <td>0.000000</td>\n",
              "      <td>0.2130</td>\n",
              "      <td>0.663</td>\n",
              "      <td>127.959</td>\n",
              "      <td>3bhvFZ2eJMuWakoDYZdaR5</td>\n",
              "      <td>205040</td>\n",
              "      <td>4</td>\n",
              "      <td>disconnecting</td>\n",
              "      <td>48</td>\n",
              "      <td>2011-08-30</td>\n",
              "    </tr>\n",
              "    <tr>\n",
              "      <th>4478</th>\n",
              "      <td>0.804</td>\n",
              "      <td>0.836</td>\n",
              "      <td>6</td>\n",
              "      <td>-6.635</td>\n",
              "      <td>0</td>\n",
              "      <td>0.0890</td>\n",
              "      <td>0.32000</td>\n",
              "      <td>0.000000</td>\n",
              "      <td>0.2130</td>\n",
              "      <td>0.850</td>\n",
              "      <td>120.046</td>\n",
              "      <td>7mS8RbJji2UZAaguRGsOCH</td>\n",
              "      <td>223773</td>\n",
              "      <td>4</td>\n",
              "      <td>disconnecting</td>\n",
              "      <td>60</td>\n",
              "      <td>2003-11-13</td>\n",
              "    </tr>\n",
              "    <tr>\n",
              "      <th>4479</th>\n",
              "      <td>0.864</td>\n",
              "      <td>0.870</td>\n",
              "      <td>8</td>\n",
              "      <td>-2.770</td>\n",
              "      <td>1</td>\n",
              "      <td>0.1470</td>\n",
              "      <td>0.11900</td>\n",
              "      <td>0.000000</td>\n",
              "      <td>0.5080</td>\n",
              "      <td>0.837</td>\n",
              "      <td>109.987</td>\n",
              "      <td>5epx5YtoMbV0GrL9qx9kVY</td>\n",
              "      <td>289400</td>\n",
              "      <td>4</td>\n",
              "      <td>disconnecting</td>\n",
              "      <td>51</td>\n",
              "      <td>2003-11-13</td>\n",
              "    </tr>\n",
              "  </tbody>\n",
              "</table>\n",
              "<p>4480 rows × 17 columns</p>\n",
              "</div>\n",
              "      <button class=\"colab-df-convert\" onclick=\"convertToInteractive('df-340d3248-1090-46dd-8f30-ae01b2427f3f')\"\n",
              "              title=\"Convert this dataframe to an interactive table.\"\n",
              "              style=\"display:none;\">\n",
              "        \n",
              "  <svg xmlns=\"http://www.w3.org/2000/svg\" height=\"24px\"viewBox=\"0 0 24 24\"\n",
              "       width=\"24px\">\n",
              "    <path d=\"M0 0h24v24H0V0z\" fill=\"none\"/>\n",
              "    <path d=\"M18.56 5.44l.94 2.06.94-2.06 2.06-.94-2.06-.94-.94-2.06-.94 2.06-2.06.94zm-11 1L8.5 8.5l.94-2.06 2.06-.94-2.06-.94L8.5 2.5l-.94 2.06-2.06.94zm10 10l.94 2.06.94-2.06 2.06-.94-2.06-.94-.94-2.06-.94 2.06-2.06.94z\"/><path d=\"M17.41 7.96l-1.37-1.37c-.4-.4-.92-.59-1.43-.59-.52 0-1.04.2-1.43.59L10.3 9.45l-7.72 7.72c-.78.78-.78 2.05 0 2.83L4 21.41c.39.39.9.59 1.41.59.51 0 1.02-.2 1.41-.59l7.78-7.78 2.81-2.81c.8-.78.8-2.07 0-2.86zM5.41 20L4 18.59l7.72-7.72 1.47 1.35L5.41 20z\"/>\n",
              "  </svg>\n",
              "      </button>\n",
              "      \n",
              "  <style>\n",
              "    .colab-df-container {\n",
              "      display:flex;\n",
              "      flex-wrap:wrap;\n",
              "      gap: 12px;\n",
              "    }\n",
              "\n",
              "    .colab-df-convert {\n",
              "      background-color: #E8F0FE;\n",
              "      border: none;\n",
              "      border-radius: 50%;\n",
              "      cursor: pointer;\n",
              "      display: none;\n",
              "      fill: #1967D2;\n",
              "      height: 32px;\n",
              "      padding: 0 0 0 0;\n",
              "      width: 32px;\n",
              "    }\n",
              "\n",
              "    .colab-df-convert:hover {\n",
              "      background-color: #E2EBFA;\n",
              "      box-shadow: 0px 1px 2px rgba(60, 64, 67, 0.3), 0px 1px 3px 1px rgba(60, 64, 67, 0.15);\n",
              "      fill: #174EA6;\n",
              "    }\n",
              "\n",
              "    [theme=dark] .colab-df-convert {\n",
              "      background-color: #3B4455;\n",
              "      fill: #D2E3FC;\n",
              "    }\n",
              "\n",
              "    [theme=dark] .colab-df-convert:hover {\n",
              "      background-color: #434B5C;\n",
              "      box-shadow: 0px 1px 3px 1px rgba(0, 0, 0, 0.15);\n",
              "      filter: drop-shadow(0px 1px 2px rgba(0, 0, 0, 0.3));\n",
              "      fill: #FFFFFF;\n",
              "    }\n",
              "  </style>\n",
              "\n",
              "      <script>\n",
              "        const buttonEl =\n",
              "          document.querySelector('#df-340d3248-1090-46dd-8f30-ae01b2427f3f button.colab-df-convert');\n",
              "        buttonEl.style.display =\n",
              "          google.colab.kernel.accessAllowed ? 'block' : 'none';\n",
              "\n",
              "        async function convertToInteractive(key) {\n",
              "          const element = document.querySelector('#df-340d3248-1090-46dd-8f30-ae01b2427f3f');\n",
              "          const dataTable =\n",
              "            await google.colab.kernel.invokeFunction('convertToInteractive',\n",
              "                                                     [key], {});\n",
              "          if (!dataTable) return;\n",
              "\n",
              "          const docLinkHtml = 'Like what you see? Visit the ' +\n",
              "            '<a target=\"_blank\" href=https://colab.research.google.com/notebooks/data_table.ipynb>data table notebook</a>'\n",
              "            + ' to learn more about interactive tables.';\n",
              "          element.innerHTML = '';\n",
              "          dataTable['output_type'] = 'display_data';\n",
              "          await google.colab.output.renderOutput(dataTable, element);\n",
              "          const docLink = document.createElement('div');\n",
              "          docLink.innerHTML = docLinkHtml;\n",
              "          element.appendChild(docLink);\n",
              "        }\n",
              "      </script>\n",
              "    </div>\n",
              "  </div>\n",
              "  "
            ]
          },
          "metadata": {},
          "execution_count": 192
        }
      ]
    },
    {
      "cell_type": "code",
      "execution_count": null,
      "metadata": {
        "id": "x1mqxDmIg_Ri"
      },
      "outputs": [],
      "source": [
        "df_moods.to_csv('/content/drive/MyDrive/Colab Notebooks/WebAnalytics/Spotify/song_feat_moods.csv')"
      ],
      "id": "x1mqxDmIg_Ri"
    },
    {
      "cell_type": "code",
      "execution_count": null,
      "metadata": {
        "colab": {
          "base_uri": "https://localhost:8080/"
        },
        "id": "qF_t2fPuiP8g",
        "outputId": "278f251f-11ce-4197-ff18-f410eb3d2830"
      },
      "outputs": [
        {
          "output_type": "execute_result",
          "data": {
            "text/plain": [
              "4481"
            ]
          },
          "metadata": {},
          "execution_count": 30
        }
      ],
      "source": [
        "Counter(df_moods['mood'])"
      ],
      "id": "qF_t2fPuiP8g"
    },
    {
      "cell_type": "code",
      "execution_count": null,
      "metadata": {
        "id": "W2j3Qk_2TV7V"
      },
      "outputs": [],
      "source": [
        "## NUEVA IDEA\n",
        "## con graph: como se parecen los paises (aqui da igual que se repitan las canciones en el csv porque así se ve como se parecen)\n",
        "## después creamos modelo con las canciones de los moods (train y validation)\n",
        "## limpiamos el data de los tops (para quitar repes) y lo usamos como test, para identificar el mood de esas canciones y ver que mood predomina en cada pais\n",
        "\n",
        "\n",
        "## HAY QUE BUSCAR MAS PLAYLISTS PARA MOOD"
      ],
      "id": "W2j3Qk_2TV7V"
    }
  ],
  "metadata": {
    "colab": {
      "collapsed_sections": [
        "_cDhFY6kLfmj"
      ],
      "provenance": []
    },
    "kernelspec": {
      "display_name": "Python 3 (ipykernel)",
      "language": "python",
      "name": "python3"
    },
    "language_info": {
      "codemirror_mode": {
        "name": "ipython",
        "version": 3
      },
      "file_extension": ".py",
      "mimetype": "text/x-python",
      "name": "python",
      "nbconvert_exporter": "python",
      "pygments_lexer": "ipython3",
      "version": "3.9.12"
    }
  },
  "nbformat": 4,
  "nbformat_minor": 5
}