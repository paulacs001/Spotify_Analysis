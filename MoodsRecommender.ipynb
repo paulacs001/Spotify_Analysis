{
  "nbformat": 4,
  "nbformat_minor": 0,
  "metadata": {
    "colab": {
      "provenance": [],
      "toc_visible": true
    },
    "kernelspec": {
      "name": "python3",
      "display_name": "Python 3"
    },
    "language_info": {
      "name": "python"
    }
  },
  "cells": [
    {
      "cell_type": "markdown",
      "source": [
        "# Getting the information\n"
      ],
      "metadata": {
        "id": "3LkcKecFoJUC"
      }
    },
    {
      "cell_type": "code",
      "execution_count": 1,
      "metadata": {
        "id": "AW0ZP7SGoCQp"
      },
      "outputs": [],
      "source": [
        "#@title Libraries\n",
        "import requests\n",
        "from google.colab import drive\n",
        "import pandas as pd\n",
        "import os\n",
        "from bs4 import BeautifulSoup\n",
        "import json\n",
        "from collections import Counter\n",
        "import numpy as np\n",
        "import matplotlib.pyplot as plt\n",
        "from numpy.linalg import norm\n",
        "from sklearn.cluster import KMeans\n",
        "from sklearn.preprocessing import StandardScaler\n",
        "from sklearn.decomposition import PCA\n",
        "import random\n",
        "\n",
        "from sklearn.neighbors import KNeighborsClassifier\n",
        "from sklearn import metrics\n",
        "from sklearn.model_selection import train_test_split\n",
        "from collections import Counter\n",
        "from sklearn.metrics.pairwise import cosine_similarity"
      ]
    },
    {
      "cell_type": "code",
      "source": [
        "#@title Connecting to Drive\n",
        "\n",
        "drive.mount('/content/drive')"
      ],
      "metadata": {
        "colab": {
          "base_uri": "https://localhost:8080/"
        },
        "id": "bzoH9AD1oYzf",
        "outputId": "b575d7d2-2c0c-4ec9-cf9d-927b4fe4c7e9"
      },
      "execution_count": 2,
      "outputs": [
        {
          "output_type": "stream",
          "name": "stdout",
          "text": [
            "Mounted at /content/drive\n"
          ]
        }
      ]
    },
    {
      "cell_type": "code",
      "source": [
        "#@title Reading the csv file\n",
        "\n",
        "%cd /content/drive/MyDrive/Colab Notebooks/WebAnalytics/final\n",
        "\n",
        "songs_info = pd.read_csv('song_feat_moods.csv')\n",
        "\n",
        "df = pd.read_csv('song_feat_moods.csv')\n",
        "df = df.iloc[:, 1:]\n",
        "df"
      ],
      "metadata": {
        "colab": {
          "base_uri": "https://localhost:8080/",
          "height": 506
        },
        "id": "pDWr2tieoZVU",
        "outputId": "fd68a7c1-6e5a-47eb-f302-794da3bc705e"
      },
      "execution_count": 3,
      "outputs": [
        {
          "output_type": "stream",
          "name": "stdout",
          "text": [
            "/content/drive/MyDrive/Colab Notebooks/WebAnalytics/final\n"
          ]
        },
        {
          "output_type": "execute_result",
          "data": {
            "text/plain": [
              "      danceability  energy  key  loudness  mode  speechiness  acousticness  \\\n",
              "0            0.439   0.482    0    -8.226     1       0.0946       0.58300   \n",
              "1            0.766   0.333    7   -13.775     0       0.0558       0.82400   \n",
              "2            0.757   0.631    0    -6.886     1       0.0302       0.00703   \n",
              "3            0.734   0.425    9    -8.585     1       0.1170       0.79000   \n",
              "4            0.627   0.426    6    -5.994     1       0.0291       0.88300   \n",
              "...            ...     ...  ...       ...   ...          ...           ...   \n",
              "4476         0.854   0.766    9    -4.697     0       0.1410       0.02420   \n",
              "4477         0.693   0.822    4    -5.441     0       0.0439       0.00616   \n",
              "4478         0.747   0.739   11    -3.318     0       0.0733       0.04750   \n",
              "4479         0.804   0.836    6    -6.635     0       0.0890       0.32000   \n",
              "4480         0.864   0.870    8    -2.770     1       0.1470       0.11900   \n",
              "\n",
              "      instrumentalness  liveness  valence    tempo                      id  \\\n",
              "0             0.000000    0.1420    0.368  179.884  5vK8ILrHjXjdZJHp0AtEVJ   \n",
              "1             0.001700    0.1590    0.450   95.951  0mzvDQW1IgLuXAwD5YMN6i   \n",
              "2             0.008650    0.0931    0.264  125.983  1L4f4kyGeaLdZeVhPLaD8j   \n",
              "3             0.000013    0.1070    0.361   80.898  4IKSehYf4e9tjijDSZHQF2   \n",
              "4             0.001780    0.1100    0.498   67.520  7tAsrC5tNcbccUmMnRsmZI   \n",
              "...                ...       ...      ...      ...                     ...   \n",
              "4476          0.000000    0.0793    0.784  118.004  2S5LNtRVRPbXk01yRQ14sZ   \n",
              "4477          0.000002    0.3150    0.763  126.035  3zrYNl1aMdFrQkcOjKVr5u   \n",
              "4478          0.000000    0.2130    0.663  127.959  3bhvFZ2eJMuWakoDYZdaR5   \n",
              "4479          0.000000    0.2130    0.850  120.046  7mS8RbJji2UZAaguRGsOCH   \n",
              "4480          0.000000    0.5080    0.837  109.987  5epx5YtoMbV0GrL9qx9kVY   \n",
              "\n",
              "      duration_ms  time_signature           mood  popularity release_date  \n",
              "0          185554               4          chill          48   2022-03-04  \n",
              "1          126985               4          chill          49   2021-03-12  \n",
              "2          185813               4          chill          47   2021-12-09  \n",
              "3          133333               4          chill          51   2022-02-04  \n",
              "4          189732               4          chill          46   2021-12-16  \n",
              "...           ...             ...            ...         ...          ...  \n",
              "4476       224258               4  disconnecting          66   2015-04-07  \n",
              "4477       223800               4  disconnecting          59   2012-06-22  \n",
              "4478       205040               4  disconnecting          49   2011-08-30  \n",
              "4479       223773               4  disconnecting          60   2003-11-13  \n",
              "4480       289400               4  disconnecting          51   2003-11-13  \n",
              "\n",
              "[4481 rows x 17 columns]"
            ],
            "text/html": [
              "\n",
              "  <div id=\"df-7c55755b-2d53-493a-9e25-c27d846cb434\">\n",
              "    <div class=\"colab-df-container\">\n",
              "      <div>\n",
              "<style scoped>\n",
              "    .dataframe tbody tr th:only-of-type {\n",
              "        vertical-align: middle;\n",
              "    }\n",
              "\n",
              "    .dataframe tbody tr th {\n",
              "        vertical-align: top;\n",
              "    }\n",
              "\n",
              "    .dataframe thead th {\n",
              "        text-align: right;\n",
              "    }\n",
              "</style>\n",
              "<table border=\"1\" class=\"dataframe\">\n",
              "  <thead>\n",
              "    <tr style=\"text-align: right;\">\n",
              "      <th></th>\n",
              "      <th>danceability</th>\n",
              "      <th>energy</th>\n",
              "      <th>key</th>\n",
              "      <th>loudness</th>\n",
              "      <th>mode</th>\n",
              "      <th>speechiness</th>\n",
              "      <th>acousticness</th>\n",
              "      <th>instrumentalness</th>\n",
              "      <th>liveness</th>\n",
              "      <th>valence</th>\n",
              "      <th>tempo</th>\n",
              "      <th>id</th>\n",
              "      <th>duration_ms</th>\n",
              "      <th>time_signature</th>\n",
              "      <th>mood</th>\n",
              "      <th>popularity</th>\n",
              "      <th>release_date</th>\n",
              "    </tr>\n",
              "  </thead>\n",
              "  <tbody>\n",
              "    <tr>\n",
              "      <th>0</th>\n",
              "      <td>0.439</td>\n",
              "      <td>0.482</td>\n",
              "      <td>0</td>\n",
              "      <td>-8.226</td>\n",
              "      <td>1</td>\n",
              "      <td>0.0946</td>\n",
              "      <td>0.58300</td>\n",
              "      <td>0.000000</td>\n",
              "      <td>0.1420</td>\n",
              "      <td>0.368</td>\n",
              "      <td>179.884</td>\n",
              "      <td>5vK8ILrHjXjdZJHp0AtEVJ</td>\n",
              "      <td>185554</td>\n",
              "      <td>4</td>\n",
              "      <td>chill</td>\n",
              "      <td>48</td>\n",
              "      <td>2022-03-04</td>\n",
              "    </tr>\n",
              "    <tr>\n",
              "      <th>1</th>\n",
              "      <td>0.766</td>\n",
              "      <td>0.333</td>\n",
              "      <td>7</td>\n",
              "      <td>-13.775</td>\n",
              "      <td>0</td>\n",
              "      <td>0.0558</td>\n",
              "      <td>0.82400</td>\n",
              "      <td>0.001700</td>\n",
              "      <td>0.1590</td>\n",
              "      <td>0.450</td>\n",
              "      <td>95.951</td>\n",
              "      <td>0mzvDQW1IgLuXAwD5YMN6i</td>\n",
              "      <td>126985</td>\n",
              "      <td>4</td>\n",
              "      <td>chill</td>\n",
              "      <td>49</td>\n",
              "      <td>2021-03-12</td>\n",
              "    </tr>\n",
              "    <tr>\n",
              "      <th>2</th>\n",
              "      <td>0.757</td>\n",
              "      <td>0.631</td>\n",
              "      <td>0</td>\n",
              "      <td>-6.886</td>\n",
              "      <td>1</td>\n",
              "      <td>0.0302</td>\n",
              "      <td>0.00703</td>\n",
              "      <td>0.008650</td>\n",
              "      <td>0.0931</td>\n",
              "      <td>0.264</td>\n",
              "      <td>125.983</td>\n",
              "      <td>1L4f4kyGeaLdZeVhPLaD8j</td>\n",
              "      <td>185813</td>\n",
              "      <td>4</td>\n",
              "      <td>chill</td>\n",
              "      <td>47</td>\n",
              "      <td>2021-12-09</td>\n",
              "    </tr>\n",
              "    <tr>\n",
              "      <th>3</th>\n",
              "      <td>0.734</td>\n",
              "      <td>0.425</td>\n",
              "      <td>9</td>\n",
              "      <td>-8.585</td>\n",
              "      <td>1</td>\n",
              "      <td>0.1170</td>\n",
              "      <td>0.79000</td>\n",
              "      <td>0.000013</td>\n",
              "      <td>0.1070</td>\n",
              "      <td>0.361</td>\n",
              "      <td>80.898</td>\n",
              "      <td>4IKSehYf4e9tjijDSZHQF2</td>\n",
              "      <td>133333</td>\n",
              "      <td>4</td>\n",
              "      <td>chill</td>\n",
              "      <td>51</td>\n",
              "      <td>2022-02-04</td>\n",
              "    </tr>\n",
              "    <tr>\n",
              "      <th>4</th>\n",
              "      <td>0.627</td>\n",
              "      <td>0.426</td>\n",
              "      <td>6</td>\n",
              "      <td>-5.994</td>\n",
              "      <td>1</td>\n",
              "      <td>0.0291</td>\n",
              "      <td>0.88300</td>\n",
              "      <td>0.001780</td>\n",
              "      <td>0.1100</td>\n",
              "      <td>0.498</td>\n",
              "      <td>67.520</td>\n",
              "      <td>7tAsrC5tNcbccUmMnRsmZI</td>\n",
              "      <td>189732</td>\n",
              "      <td>4</td>\n",
              "      <td>chill</td>\n",
              "      <td>46</td>\n",
              "      <td>2021-12-16</td>\n",
              "    </tr>\n",
              "    <tr>\n",
              "      <th>...</th>\n",
              "      <td>...</td>\n",
              "      <td>...</td>\n",
              "      <td>...</td>\n",
              "      <td>...</td>\n",
              "      <td>...</td>\n",
              "      <td>...</td>\n",
              "      <td>...</td>\n",
              "      <td>...</td>\n",
              "      <td>...</td>\n",
              "      <td>...</td>\n",
              "      <td>...</td>\n",
              "      <td>...</td>\n",
              "      <td>...</td>\n",
              "      <td>...</td>\n",
              "      <td>...</td>\n",
              "      <td>...</td>\n",
              "      <td>...</td>\n",
              "    </tr>\n",
              "    <tr>\n",
              "      <th>4476</th>\n",
              "      <td>0.854</td>\n",
              "      <td>0.766</td>\n",
              "      <td>9</td>\n",
              "      <td>-4.697</td>\n",
              "      <td>0</td>\n",
              "      <td>0.1410</td>\n",
              "      <td>0.02420</td>\n",
              "      <td>0.000000</td>\n",
              "      <td>0.0793</td>\n",
              "      <td>0.784</td>\n",
              "      <td>118.004</td>\n",
              "      <td>2S5LNtRVRPbXk01yRQ14sZ</td>\n",
              "      <td>224258</td>\n",
              "      <td>4</td>\n",
              "      <td>disconnecting</td>\n",
              "      <td>66</td>\n",
              "      <td>2015-04-07</td>\n",
              "    </tr>\n",
              "    <tr>\n",
              "      <th>4477</th>\n",
              "      <td>0.693</td>\n",
              "      <td>0.822</td>\n",
              "      <td>4</td>\n",
              "      <td>-5.441</td>\n",
              "      <td>0</td>\n",
              "      <td>0.0439</td>\n",
              "      <td>0.00616</td>\n",
              "      <td>0.000002</td>\n",
              "      <td>0.3150</td>\n",
              "      <td>0.763</td>\n",
              "      <td>126.035</td>\n",
              "      <td>3zrYNl1aMdFrQkcOjKVr5u</td>\n",
              "      <td>223800</td>\n",
              "      <td>4</td>\n",
              "      <td>disconnecting</td>\n",
              "      <td>59</td>\n",
              "      <td>2012-06-22</td>\n",
              "    </tr>\n",
              "    <tr>\n",
              "      <th>4478</th>\n",
              "      <td>0.747</td>\n",
              "      <td>0.739</td>\n",
              "      <td>11</td>\n",
              "      <td>-3.318</td>\n",
              "      <td>0</td>\n",
              "      <td>0.0733</td>\n",
              "      <td>0.04750</td>\n",
              "      <td>0.000000</td>\n",
              "      <td>0.2130</td>\n",
              "      <td>0.663</td>\n",
              "      <td>127.959</td>\n",
              "      <td>3bhvFZ2eJMuWakoDYZdaR5</td>\n",
              "      <td>205040</td>\n",
              "      <td>4</td>\n",
              "      <td>disconnecting</td>\n",
              "      <td>49</td>\n",
              "      <td>2011-08-30</td>\n",
              "    </tr>\n",
              "    <tr>\n",
              "      <th>4479</th>\n",
              "      <td>0.804</td>\n",
              "      <td>0.836</td>\n",
              "      <td>6</td>\n",
              "      <td>-6.635</td>\n",
              "      <td>0</td>\n",
              "      <td>0.0890</td>\n",
              "      <td>0.32000</td>\n",
              "      <td>0.000000</td>\n",
              "      <td>0.2130</td>\n",
              "      <td>0.850</td>\n",
              "      <td>120.046</td>\n",
              "      <td>7mS8RbJji2UZAaguRGsOCH</td>\n",
              "      <td>223773</td>\n",
              "      <td>4</td>\n",
              "      <td>disconnecting</td>\n",
              "      <td>60</td>\n",
              "      <td>2003-11-13</td>\n",
              "    </tr>\n",
              "    <tr>\n",
              "      <th>4480</th>\n",
              "      <td>0.864</td>\n",
              "      <td>0.870</td>\n",
              "      <td>8</td>\n",
              "      <td>-2.770</td>\n",
              "      <td>1</td>\n",
              "      <td>0.1470</td>\n",
              "      <td>0.11900</td>\n",
              "      <td>0.000000</td>\n",
              "      <td>0.5080</td>\n",
              "      <td>0.837</td>\n",
              "      <td>109.987</td>\n",
              "      <td>5epx5YtoMbV0GrL9qx9kVY</td>\n",
              "      <td>289400</td>\n",
              "      <td>4</td>\n",
              "      <td>disconnecting</td>\n",
              "      <td>51</td>\n",
              "      <td>2003-11-13</td>\n",
              "    </tr>\n",
              "  </tbody>\n",
              "</table>\n",
              "<p>4481 rows × 17 columns</p>\n",
              "</div>\n",
              "      <button class=\"colab-df-convert\" onclick=\"convertToInteractive('df-7c55755b-2d53-493a-9e25-c27d846cb434')\"\n",
              "              title=\"Convert this dataframe to an interactive table.\"\n",
              "              style=\"display:none;\">\n",
              "        \n",
              "  <svg xmlns=\"http://www.w3.org/2000/svg\" height=\"24px\"viewBox=\"0 0 24 24\"\n",
              "       width=\"24px\">\n",
              "    <path d=\"M0 0h24v24H0V0z\" fill=\"none\"/>\n",
              "    <path d=\"M18.56 5.44l.94 2.06.94-2.06 2.06-.94-2.06-.94-.94-2.06-.94 2.06-2.06.94zm-11 1L8.5 8.5l.94-2.06 2.06-.94-2.06-.94L8.5 2.5l-.94 2.06-2.06.94zm10 10l.94 2.06.94-2.06 2.06-.94-2.06-.94-.94-2.06-.94 2.06-2.06.94z\"/><path d=\"M17.41 7.96l-1.37-1.37c-.4-.4-.92-.59-1.43-.59-.52 0-1.04.2-1.43.59L10.3 9.45l-7.72 7.72c-.78.78-.78 2.05 0 2.83L4 21.41c.39.39.9.59 1.41.59.51 0 1.02-.2 1.41-.59l7.78-7.78 2.81-2.81c.8-.78.8-2.07 0-2.86zM5.41 20L4 18.59l7.72-7.72 1.47 1.35L5.41 20z\"/>\n",
              "  </svg>\n",
              "      </button>\n",
              "      \n",
              "  <style>\n",
              "    .colab-df-container {\n",
              "      display:flex;\n",
              "      flex-wrap:wrap;\n",
              "      gap: 12px;\n",
              "    }\n",
              "\n",
              "    .colab-df-convert {\n",
              "      background-color: #E8F0FE;\n",
              "      border: none;\n",
              "      border-radius: 50%;\n",
              "      cursor: pointer;\n",
              "      display: none;\n",
              "      fill: #1967D2;\n",
              "      height: 32px;\n",
              "      padding: 0 0 0 0;\n",
              "      width: 32px;\n",
              "    }\n",
              "\n",
              "    .colab-df-convert:hover {\n",
              "      background-color: #E2EBFA;\n",
              "      box-shadow: 0px 1px 2px rgba(60, 64, 67, 0.3), 0px 1px 3px 1px rgba(60, 64, 67, 0.15);\n",
              "      fill: #174EA6;\n",
              "    }\n",
              "\n",
              "    [theme=dark] .colab-df-convert {\n",
              "      background-color: #3B4455;\n",
              "      fill: #D2E3FC;\n",
              "    }\n",
              "\n",
              "    [theme=dark] .colab-df-convert:hover {\n",
              "      background-color: #434B5C;\n",
              "      box-shadow: 0px 1px 3px 1px rgba(0, 0, 0, 0.15);\n",
              "      filter: drop-shadow(0px 1px 2px rgba(0, 0, 0, 0.3));\n",
              "      fill: #FFFFFF;\n",
              "    }\n",
              "  </style>\n",
              "\n",
              "      <script>\n",
              "        const buttonEl =\n",
              "          document.querySelector('#df-7c55755b-2d53-493a-9e25-c27d846cb434 button.colab-df-convert');\n",
              "        buttonEl.style.display =\n",
              "          google.colab.kernel.accessAllowed ? 'block' : 'none';\n",
              "\n",
              "        async function convertToInteractive(key) {\n",
              "          const element = document.querySelector('#df-7c55755b-2d53-493a-9e25-c27d846cb434');\n",
              "          const dataTable =\n",
              "            await google.colab.kernel.invokeFunction('convertToInteractive',\n",
              "                                                     [key], {});\n",
              "          if (!dataTable) return;\n",
              "\n",
              "          const docLinkHtml = 'Like what you see? Visit the ' +\n",
              "            '<a target=\"_blank\" href=https://colab.research.google.com/notebooks/data_table.ipynb>data table notebook</a>'\n",
              "            + ' to learn more about interactive tables.';\n",
              "          element.innerHTML = '';\n",
              "          dataTable['output_type'] = 'display_data';\n",
              "          await google.colab.output.renderOutput(dataTable, element);\n",
              "          const docLink = document.createElement('div');\n",
              "          docLink.innerHTML = docLinkHtml;\n",
              "          element.appendChild(docLink);\n",
              "        }\n",
              "      </script>\n",
              "    </div>\n",
              "  </div>\n",
              "  "
            ]
          },
          "metadata": {},
          "execution_count": 3
        }
      ]
    },
    {
      "cell_type": "code",
      "source": [
        "df = df.set_index('id')\n",
        "df = df.drop_duplicates(subset=df.columns.difference(['mood']))\n",
        "labels = df['mood']\n",
        "df = df.drop('mood', axis=1)"
      ],
      "metadata": {
        "id": "7pi77k7vo7Gh"
      },
      "execution_count": 4,
      "outputs": []
    },
    {
      "cell_type": "code",
      "source": [
        "#we will not take into account:\n",
        "  #realease date\n",
        "df = df.drop('release_date', axis=1)"
      ],
      "metadata": {
        "id": "o5Zu8P4-xPHp"
      },
      "execution_count": 5,
      "outputs": []
    },
    {
      "cell_type": "markdown",
      "source": [
        "# Functions\n"
      ],
      "metadata": {
        "id": "E177XjEmsNgb"
      }
    },
    {
      "cell_type": "code",
      "source": [
        "#@title cosine similatiry\n",
        "\n",
        "def cosine_similarity2(A, B):\n",
        "  cosine = np.dot(A,B)/(norm(A)*norm(B))\n",
        "  return cosine"
      ],
      "metadata": {
        "id": "_9lx66i3sQms"
      },
      "execution_count": 6,
      "outputs": []
    },
    {
      "cell_type": "code",
      "source": [
        "#@title Correlation matrix\n",
        "\n",
        "corr = df.corr()\n",
        "corr.style.background_gradient(cmap='coolwarm').set_precision(2)  #loudness and energy\n"
      ],
      "metadata": {
        "colab": {
          "base_uri": "https://localhost:8080/",
          "height": 544
        },
        "id": "xdti8EbHBGwN",
        "outputId": "be2d5d14-dabd-4ba3-dbad-0f075b6b6fa2"
      },
      "execution_count": 7,
      "outputs": [
        {
          "output_type": "stream",
          "name": "stderr",
          "text": [
            "<ipython-input-7-3037933890fb>:4: FutureWarning: this method is deprecated in favour of `Styler.format(precision=..)`\n",
            "  corr.style.background_gradient(cmap='coolwarm').set_precision(2)  #loudness and energy\n"
          ]
        },
        {
          "output_type": "execute_result",
          "data": {
            "text/plain": [
              "<pandas.io.formats.style.Styler at 0x7f22c1dc9d00>"
            ],
            "text/html": [
              "<style type=\"text/css\">\n",
              "#T_b3f11_row0_col0, #T_b3f11_row1_col1, #T_b3f11_row2_col2, #T_b3f11_row3_col3, #T_b3f11_row4_col4, #T_b3f11_row5_col5, #T_b3f11_row6_col6, #T_b3f11_row7_col7, #T_b3f11_row8_col8, #T_b3f11_row9_col9, #T_b3f11_row10_col10, #T_b3f11_row11_col11, #T_b3f11_row12_col12, #T_b3f11_row13_col13 {\n",
              "  background-color: #b40426;\n",
              "  color: #f1f1f1;\n",
              "}\n",
              "#T_b3f11_row0_col1 {\n",
              "  background-color: #f3c8b2;\n",
              "  color: #000000;\n",
              "}\n",
              "#T_b3f11_row0_col2, #T_b3f11_row1_col2, #T_b3f11_row4_col0 {\n",
              "  background-color: #688aef;\n",
              "  color: #f1f1f1;\n",
              "}\n",
              "#T_b3f11_row0_col3 {\n",
              "  background-color: #f2cbb7;\n",
              "  color: #000000;\n",
              "}\n",
              "#T_b3f11_row0_col4, #T_b3f11_row0_col11, #T_b3f11_row1_col6, #T_b3f11_row3_col7, #T_b3f11_row4_col2, #T_b3f11_row6_col0, #T_b3f11_row6_col1, #T_b3f11_row6_col3, #T_b3f11_row6_col8, #T_b3f11_row6_col9, #T_b3f11_row6_col10, #T_b3f11_row6_col12, #T_b3f11_row7_col13, #T_b3f11_row11_col5 {\n",
              "  background-color: #3b4cc0;\n",
              "  color: #f1f1f1;\n",
              "}\n",
              "#T_b3f11_row0_col5, #T_b3f11_row8_col7 {\n",
              "  background-color: #98b9ff;\n",
              "  color: #000000;\n",
              "}\n",
              "#T_b3f11_row0_col6 {\n",
              "  background-color: #8badfd;\n",
              "  color: #000000;\n",
              "}\n",
              "#T_b3f11_row0_col7, #T_b3f11_row2_col8, #T_b3f11_row5_col2 {\n",
              "  background-color: #6384eb;\n",
              "  color: #f1f1f1;\n",
              "}\n",
              "#T_b3f11_row0_col8, #T_b3f11_row10_col4, #T_b3f11_row11_col10, #T_b3f11_row11_col13 {\n",
              "  background-color: #5e7de7;\n",
              "  color: #f1f1f1;\n",
              "}\n",
              "#T_b3f11_row0_col9 {\n",
              "  background-color: #f5c1a9;\n",
              "  color: #000000;\n",
              "}\n",
              "#T_b3f11_row0_col10 {\n",
              "  background-color: #4e68d8;\n",
              "  color: #f1f1f1;\n",
              "}\n",
              "#T_b3f11_row0_col12, #T_b3f11_row5_col9 {\n",
              "  background-color: #b5cdfa;\n",
              "  color: #000000;\n",
              "}\n",
              "#T_b3f11_row0_col13, #T_b3f11_row4_col7 {\n",
              "  background-color: #a3c2fe;\n",
              "  color: #000000;\n",
              "}\n",
              "#T_b3f11_row1_col0 {\n",
              "  background-color: #d8dce2;\n",
              "  color: #000000;\n",
              "}\n",
              "#T_b3f11_row1_col3 {\n",
              "  background-color: #e67259;\n",
              "  color: #f1f1f1;\n",
              "}\n",
              "#T_b3f11_row1_col4 {\n",
              "  background-color: #3d50c3;\n",
              "  color: #f1f1f1;\n",
              "}\n",
              "#T_b3f11_row1_col5, #T_b3f11_row8_col11 {\n",
              "  background-color: #7597f6;\n",
              "  color: #f1f1f1;\n",
              "}\n",
              "#T_b3f11_row1_col7, #T_b3f11_row5_col8, #T_b3f11_row5_col10, #T_b3f11_row5_col13 {\n",
              "  background-color: #779af7;\n",
              "  color: #f1f1f1;\n",
              "}\n",
              "#T_b3f11_row1_col8, #T_b3f11_row4_col3, #T_b3f11_row12_col6 {\n",
              "  background-color: #a7c5fe;\n",
              "  color: #000000;\n",
              "}\n",
              "#T_b3f11_row1_col9 {\n",
              "  background-color: #f1cdba;\n",
              "  color: #000000;\n",
              "}\n",
              "#T_b3f11_row1_col10, #T_b3f11_row2_col9, #T_b3f11_row10_col9 {\n",
              "  background-color: #9ebeff;\n",
              "  color: #000000;\n",
              "}\n",
              "#T_b3f11_row1_col11, #T_b3f11_row7_col4, #T_b3f11_row12_col2, #T_b3f11_row13_col2 {\n",
              "  background-color: #5b7ae5;\n",
              "  color: #f1f1f1;\n",
              "}\n",
              "#T_b3f11_row1_col12 {\n",
              "  background-color: #a6c4fe;\n",
              "  color: #000000;\n",
              "}\n",
              "#T_b3f11_row1_col13, #T_b3f11_row4_col1 {\n",
              "  background-color: #b3cdfb;\n",
              "  color: #000000;\n",
              "}\n",
              "#T_b3f11_row2_col0, #T_b3f11_row3_col10, #T_b3f11_row10_col7 {\n",
              "  background-color: #97b8ff;\n",
              "  color: #000000;\n",
              "}\n",
              "#T_b3f11_row2_col1 {\n",
              "  background-color: #d2dbe8;\n",
              "  color: #000000;\n",
              "}\n",
              "#T_b3f11_row2_col3 {\n",
              "  background-color: #bcd2f7;\n",
              "  color: #000000;\n",
              "}\n",
              "#T_b3f11_row2_col4, #T_b3f11_row11_col0 {\n",
              "  background-color: #3e51c5;\n",
              "  color: #f1f1f1;\n",
              "}\n",
              "#T_b3f11_row2_col5, #T_b3f11_row4_col10 {\n",
              "  background-color: #6485ec;\n",
              "  color: #f1f1f1;\n",
              "}\n",
              "#T_b3f11_row2_col6 {\n",
              "  background-color: #c0d4f5;\n",
              "  color: #000000;\n",
              "}\n",
              "#T_b3f11_row2_col7 {\n",
              "  background-color: #a1c0ff;\n",
              "  color: #000000;\n",
              "}\n",
              "#T_b3f11_row2_col10 {\n",
              "  background-color: #7093f3;\n",
              "  color: #f1f1f1;\n",
              "}\n",
              "#T_b3f11_row2_col11, #T_b3f11_row9_col8, #T_b3f11_row10_col11 {\n",
              "  background-color: #81a4fb;\n",
              "  color: #f1f1f1;\n",
              "}\n",
              "#T_b3f11_row2_col12, #T_b3f11_row10_col12, #T_b3f11_row11_col4, #T_b3f11_row12_col5, #T_b3f11_row12_col8 {\n",
              "  background-color: #6b8df0;\n",
              "  color: #f1f1f1;\n",
              "}\n",
              "#T_b3f11_row2_col13, #T_b3f11_row5_col12 {\n",
              "  background-color: #7a9df8;\n",
              "  color: #f1f1f1;\n",
              "}\n",
              "#T_b3f11_row3_col0, #T_b3f11_row7_col6 {\n",
              "  background-color: #e2dad5;\n",
              "  color: #000000;\n",
              "}\n",
              "#T_b3f11_row3_col1 {\n",
              "  background-color: #e36b54;\n",
              "  color: #f1f1f1;\n",
              "}\n",
              "#T_b3f11_row3_col2, #T_b3f11_row4_col12 {\n",
              "  background-color: #6282ea;\n",
              "  color: #f1f1f1;\n",
              "}\n",
              "#T_b3f11_row3_col4, #T_b3f11_row5_col4 {\n",
              "  background-color: #4a63d3;\n",
              "  color: #f1f1f1;\n",
              "}\n",
              "#T_b3f11_row3_col5, #T_b3f11_row5_col11, #T_b3f11_row10_col2, #T_b3f11_row12_col10 {\n",
              "  background-color: #6687ed;\n",
              "  color: #f1f1f1;\n",
              "}\n",
              "#T_b3f11_row3_col6 {\n",
              "  background-color: #5673e0;\n",
              "  color: #f1f1f1;\n",
              "}\n",
              "#T_b3f11_row3_col8, #T_b3f11_row4_col11 {\n",
              "  background-color: #93b5fe;\n",
              "  color: #000000;\n",
              "}\n",
              "#T_b3f11_row3_col9, #T_b3f11_row10_col1 {\n",
              "  background-color: #e6d7cf;\n",
              "  color: #000000;\n",
              "}\n",
              "#T_b3f11_row3_col11, #T_b3f11_row6_col2 {\n",
              "  background-color: #4c66d6;\n",
              "  color: #f1f1f1;\n",
              "}\n",
              "#T_b3f11_row3_col12, #T_b3f11_row10_col6, #T_b3f11_row11_col1 {\n",
              "  background-color: #abc8fd;\n",
              "  color: #000000;\n",
              "}\n",
              "#T_b3f11_row3_col13 {\n",
              "  background-color: #c3d5f4;\n",
              "  color: #000000;\n",
              "}\n",
              "#T_b3f11_row4_col5 {\n",
              "  background-color: #4961d2;\n",
              "  color: #f1f1f1;\n",
              "}\n",
              "#T_b3f11_row4_col6 {\n",
              "  background-color: #dddcdc;\n",
              "  color: #000000;\n",
              "}\n",
              "#T_b3f11_row4_col8, #T_b3f11_row13_col5 {\n",
              "  background-color: #5a78e4;\n",
              "  color: #f1f1f1;\n",
              "}\n",
              "#T_b3f11_row4_col9, #T_b3f11_row6_col4, #T_b3f11_row8_col0, #T_b3f11_row8_col13 {\n",
              "  background-color: #84a7fc;\n",
              "  color: #f1f1f1;\n",
              "}\n",
              "#T_b3f11_row4_col13, #T_b3f11_row8_col5, #T_b3f11_row10_col5, #T_b3f11_row13_col8 {\n",
              "  background-color: #6f92f3;\n",
              "  color: #f1f1f1;\n",
              "}\n",
              "#T_b3f11_row5_col0, #T_b3f11_row5_col3, #T_b3f11_row12_col9 {\n",
              "  background-color: #bed2f6;\n",
              "  color: #000000;\n",
              "}\n",
              "#T_b3f11_row5_col1, #T_b3f11_row10_col3, #T_b3f11_row11_col6 {\n",
              "  background-color: #d6dce4;\n",
              "  color: #000000;\n",
              "}\n",
              "#T_b3f11_row5_col6, #T_b3f11_row13_col9 {\n",
              "  background-color: #bbd1f8;\n",
              "  color: #000000;\n",
              "}\n",
              "#T_b3f11_row5_col7 {\n",
              "  background-color: #90b2fe;\n",
              "  color: #000000;\n",
              "}\n",
              "#T_b3f11_row6_col5 {\n",
              "  background-color: #465ecf;\n",
              "  color: #f1f1f1;\n",
              "}\n",
              "#T_b3f11_row6_col7 {\n",
              "  background-color: #cad8ef;\n",
              "  color: #000000;\n",
              "}\n",
              "#T_b3f11_row6_col11 {\n",
              "  background-color: #9bbcff;\n",
              "  color: #000000;\n",
              "}\n",
              "#T_b3f11_row6_col13 {\n",
              "  background-color: #536edd;\n",
              "  color: #f1f1f1;\n",
              "}\n",
              "#T_b3f11_row7_col0 {\n",
              "  background-color: #445acc;\n",
              "  color: #f1f1f1;\n",
              "}\n",
              "#T_b3f11_row7_col1 {\n",
              "  background-color: #a5c3fe;\n",
              "  color: #000000;\n",
              "}\n",
              "#T_b3f11_row7_col2, #T_b3f11_row7_col8, #T_b3f11_row7_col10, #T_b3f11_row8_col4, #T_b3f11_row11_col2, #T_b3f11_row13_col4 {\n",
              "  background-color: #5470de;\n",
              "  color: #f1f1f1;\n",
              "}\n",
              "#T_b3f11_row7_col3, #T_b3f11_row9_col4 {\n",
              "  background-color: #506bda;\n",
              "  color: #f1f1f1;\n",
              "}\n",
              "#T_b3f11_row7_col5, #T_b3f11_row7_col9 {\n",
              "  background-color: #4358cb;\n",
              "  color: #f1f1f1;\n",
              "}\n",
              "#T_b3f11_row7_col11, #T_b3f11_row12_col0 {\n",
              "  background-color: #cbd8ee;\n",
              "  color: #000000;\n",
              "}\n",
              "#T_b3f11_row7_col12 {\n",
              "  background-color: #4257c9;\n",
              "  color: #f1f1f1;\n",
              "}\n",
              "#T_b3f11_row8_col1 {\n",
              "  background-color: #ead4c8;\n",
              "  color: #000000;\n",
              "}\n",
              "#T_b3f11_row8_col2, #T_b3f11_row11_col12 {\n",
              "  background-color: #5977e3;\n",
              "  color: #f1f1f1;\n",
              "}\n",
              "#T_b3f11_row8_col3 {\n",
              "  background-color: #d4dbe6;\n",
              "  color: #000000;\n",
              "}\n",
              "#T_b3f11_row8_col6 {\n",
              "  background-color: #adc9fd;\n",
              "  color: #000000;\n",
              "}\n",
              "#T_b3f11_row8_col9, #T_b3f11_row9_col13 {\n",
              "  background-color: #a9c6fd;\n",
              "  color: #000000;\n",
              "}\n",
              "#T_b3f11_row8_col10, #T_b3f11_row10_col8 {\n",
              "  background-color: #6e90f2;\n",
              "  color: #f1f1f1;\n",
              "}\n",
              "#T_b3f11_row8_col12 {\n",
              "  background-color: #7295f4;\n",
              "  color: #f1f1f1;\n",
              "}\n",
              "#T_b3f11_row9_col0 {\n",
              "  background-color: #f4c5ad;\n",
              "  color: #000000;\n",
              "}\n",
              "#T_b3f11_row9_col1 {\n",
              "  background-color: #f7b194;\n",
              "  color: #000000;\n",
              "}\n",
              "#T_b3f11_row9_col2 {\n",
              "  background-color: #6a8bef;\n",
              "  color: #f1f1f1;\n",
              "}\n",
              "#T_b3f11_row9_col3 {\n",
              "  background-color: #f2c9b4;\n",
              "  color: #000000;\n",
              "}\n",
              "#T_b3f11_row9_col5 {\n",
              "  background-color: #88abfd;\n",
              "  color: #000000;\n",
              "}\n",
              "#T_b3f11_row9_col6, #T_b3f11_row11_col3 {\n",
              "  background-color: #85a8fc;\n",
              "  color: #f1f1f1;\n",
              "}\n",
              "#T_b3f11_row9_col7 {\n",
              "  background-color: #5d7ce6;\n",
              "  color: #f1f1f1;\n",
              "}\n",
              "#T_b3f11_row9_col10, #T_b3f11_row10_col0 {\n",
              "  background-color: #7396f5;\n",
              "  color: #f1f1f1;\n",
              "}\n",
              "#T_b3f11_row9_col11, #T_b3f11_row12_col4 {\n",
              "  background-color: #5572df;\n",
              "  color: #f1f1f1;\n",
              "}\n",
              "#T_b3f11_row9_col12 {\n",
              "  background-color: #9fbfff;\n",
              "  color: #000000;\n",
              "}\n",
              "#T_b3f11_row10_col13 {\n",
              "  background-color: #8caffe;\n",
              "  color: #000000;\n",
              "}\n",
              "#T_b3f11_row11_col7 {\n",
              "  background-color: #dcdddd;\n",
              "  color: #000000;\n",
              "}\n",
              "#T_b3f11_row11_col8 {\n",
              "  background-color: #516ddb;\n",
              "  color: #f1f1f1;\n",
              "}\n",
              "#T_b3f11_row11_col9 {\n",
              "  background-color: #5f7fe8;\n",
              "  color: #f1f1f1;\n",
              "}\n",
              "#T_b3f11_row12_col1 {\n",
              "  background-color: #e8d6cc;\n",
              "  color: #000000;\n",
              "}\n",
              "#T_b3f11_row12_col3 {\n",
              "  background-color: #dfdbd9;\n",
              "  color: #000000;\n",
              "}\n",
              "#T_b3f11_row12_col7 {\n",
              "  background-color: #82a6fb;\n",
              "  color: #f1f1f1;\n",
              "}\n",
              "#T_b3f11_row12_col11 {\n",
              "  background-color: #7699f6;\n",
              "  color: #f1f1f1;\n",
              "}\n",
              "#T_b3f11_row12_col13 {\n",
              "  background-color: #89acfd;\n",
              "  color: #000000;\n",
              "}\n",
              "#T_b3f11_row13_col0 {\n",
              "  background-color: #b2ccfb;\n",
              "  color: #000000;\n",
              "}\n",
              "#T_b3f11_row13_col1 {\n",
              "  background-color: #e9d5cb;\n",
              "  color: #000000;\n",
              "}\n",
              "#T_b3f11_row13_col3 {\n",
              "  background-color: #e7d7ce;\n",
              "  color: #000000;\n",
              "}\n",
              "#T_b3f11_row13_col6 {\n",
              "  background-color: #afcafc;\n",
              "  color: #000000;\n",
              "}\n",
              "#T_b3f11_row13_col7, #T_b3f11_row13_col11 {\n",
              "  background-color: #6c8ff1;\n",
              "  color: #f1f1f1;\n",
              "}\n",
              "#T_b3f11_row13_col10 {\n",
              "  background-color: #799cf8;\n",
              "  color: #f1f1f1;\n",
              "}\n",
              "#T_b3f11_row13_col12 {\n",
              "  background-color: #7b9ff9;\n",
              "  color: #f1f1f1;\n",
              "}\n",
              "</style>\n",
              "<table id=\"T_b3f11_\" class=\"dataframe\">\n",
              "  <thead>\n",
              "    <tr>\n",
              "      <th class=\"blank level0\" >&nbsp;</th>\n",
              "      <th class=\"col_heading level0 col0\" >danceability</th>\n",
              "      <th class=\"col_heading level0 col1\" >energy</th>\n",
              "      <th class=\"col_heading level0 col2\" >key</th>\n",
              "      <th class=\"col_heading level0 col3\" >loudness</th>\n",
              "      <th class=\"col_heading level0 col4\" >mode</th>\n",
              "      <th class=\"col_heading level0 col5\" >speechiness</th>\n",
              "      <th class=\"col_heading level0 col6\" >acousticness</th>\n",
              "      <th class=\"col_heading level0 col7\" >instrumentalness</th>\n",
              "      <th class=\"col_heading level0 col8\" >liveness</th>\n",
              "      <th class=\"col_heading level0 col9\" >valence</th>\n",
              "      <th class=\"col_heading level0 col10\" >tempo</th>\n",
              "      <th class=\"col_heading level0 col11\" >duration_ms</th>\n",
              "      <th class=\"col_heading level0 col12\" >time_signature</th>\n",
              "      <th class=\"col_heading level0 col13\" >popularity</th>\n",
              "    </tr>\n",
              "  </thead>\n",
              "  <tbody>\n",
              "    <tr>\n",
              "      <th id=\"T_b3f11_level0_row0\" class=\"row_heading level0 row0\" >danceability</th>\n",
              "      <td id=\"T_b3f11_row0_col0\" class=\"data row0 col0\" >1.00</td>\n",
              "      <td id=\"T_b3f11_row0_col1\" class=\"data row0 col1\" >0.32</td>\n",
              "      <td id=\"T_b3f11_row0_col2\" class=\"data row0 col2\" >0.05</td>\n",
              "      <td id=\"T_b3f11_row0_col3\" class=\"data row0 col3\" >0.37</td>\n",
              "      <td id=\"T_b3f11_row0_col4\" class=\"data row0 col4\" >-0.13</td>\n",
              "      <td id=\"T_b3f11_row0_col5\" class=\"data row0 col5\" >0.20</td>\n",
              "      <td id=\"T_b3f11_row0_col6\" class=\"data row0 col6\" >-0.32</td>\n",
              "      <td id=\"T_b3f11_row0_col7\" class=\"data row0 col7\" >-0.28</td>\n",
              "      <td id=\"T_b3f11_row0_col8\" class=\"data row0 col8\" >-0.02</td>\n",
              "      <td id=\"T_b3f11_row0_col9\" class=\"data row0 col9\" >0.51</td>\n",
              "      <td id=\"T_b3f11_row0_col10\" class=\"data row0 col10\" >-0.08</td>\n",
              "      <td id=\"T_b3f11_row0_col11\" class=\"data row0 col11\" >-0.30</td>\n",
              "      <td id=\"T_b3f11_row0_col12\" class=\"data row0 col12\" >0.25</td>\n",
              "      <td id=\"T_b3f11_row0_col13\" class=\"data row0 col13\" >0.15</td>\n",
              "    </tr>\n",
              "    <tr>\n",
              "      <th id=\"T_b3f11_level0_row1\" class=\"row_heading level0 row1\" >energy</th>\n",
              "      <td id=\"T_b3f11_row1_col0\" class=\"data row1 col0\" >0.32</td>\n",
              "      <td id=\"T_b3f11_row1_col1\" class=\"data row1 col1\" >1.00</td>\n",
              "      <td id=\"T_b3f11_row1_col2\" class=\"data row1 col2\" >0.05</td>\n",
              "      <td id=\"T_b3f11_row1_col3\" class=\"data row1 col3\" >0.74</td>\n",
              "      <td id=\"T_b3f11_row1_col4\" class=\"data row1 col4\" >-0.12</td>\n",
              "      <td id=\"T_b3f11_row1_col5\" class=\"data row1 col5\" >0.08</td>\n",
              "      <td id=\"T_b3f11_row1_col6\" class=\"data row1 col6\" >-0.75</td>\n",
              "      <td id=\"T_b3f11_row1_col7\" class=\"data row1 col7\" >-0.19</td>\n",
              "      <td id=\"T_b3f11_row1_col8\" class=\"data row1 col8\" >0.22</td>\n",
              "      <td id=\"T_b3f11_row1_col9\" class=\"data row1 col9\" >0.45</td>\n",
              "      <td id=\"T_b3f11_row1_col10\" class=\"data row1 col10\" >0.19</td>\n",
              "      <td id=\"T_b3f11_row1_col11\" class=\"data row1 col11\" >-0.16</td>\n",
              "      <td id=\"T_b3f11_row1_col12\" class=\"data row1 col12\" >0.20</td>\n",
              "      <td id=\"T_b3f11_row1_col13\" class=\"data row1 col13\" >0.21</td>\n",
              "    </tr>\n",
              "    <tr>\n",
              "      <th id=\"T_b3f11_level0_row2\" class=\"row_heading level0 row2\" >key</th>\n",
              "      <td id=\"T_b3f11_row2_col0\" class=\"data row2 col0\" >0.05</td>\n",
              "      <td id=\"T_b3f11_row2_col1\" class=\"data row2 col1\" >0.05</td>\n",
              "      <td id=\"T_b3f11_row2_col2\" class=\"data row2 col2\" >1.00</td>\n",
              "      <td id=\"T_b3f11_row2_col3\" class=\"data row2 col3\" >0.03</td>\n",
              "      <td id=\"T_b3f11_row2_col4\" class=\"data row2 col4\" >-0.11</td>\n",
              "      <td id=\"T_b3f11_row2_col5\" class=\"data row2 col5\" >0.03</td>\n",
              "      <td id=\"T_b3f11_row2_col6\" class=\"data row2 col6\" >-0.04</td>\n",
              "      <td id=\"T_b3f11_row2_col7\" class=\"data row2 col7\" >-0.02</td>\n",
              "      <td id=\"T_b3f11_row2_col8\" class=\"data row2 col8\" >-0.00</td>\n",
              "      <td id=\"T_b3f11_row2_col9\" class=\"data row2 col9\" >0.06</td>\n",
              "      <td id=\"T_b3f11_row2_col10\" class=\"data row2 col10\" >0.04</td>\n",
              "      <td id=\"T_b3f11_row2_col11\" class=\"data row2 col11\" >-0.02</td>\n",
              "      <td id=\"T_b3f11_row2_col12\" class=\"data row2 col12\" >0.01</td>\n",
              "      <td id=\"T_b3f11_row2_col13\" class=\"data row2 col13\" >0.01</td>\n",
              "    </tr>\n",
              "    <tr>\n",
              "      <th id=\"T_b3f11_level0_row3\" class=\"row_heading level0 row3\" >loudness</th>\n",
              "      <td id=\"T_b3f11_row3_col0\" class=\"data row3 col0\" >0.37</td>\n",
              "      <td id=\"T_b3f11_row3_col1\" class=\"data row3 col1\" >0.74</td>\n",
              "      <td id=\"T_b3f11_row3_col2\" class=\"data row3 col2\" >0.03</td>\n",
              "      <td id=\"T_b3f11_row3_col3\" class=\"data row3 col3\" >1.00</td>\n",
              "      <td id=\"T_b3f11_row3_col4\" class=\"data row3 col4\" >-0.07</td>\n",
              "      <td id=\"T_b3f11_row3_col5\" class=\"data row3 col5\" >0.04</td>\n",
              "      <td id=\"T_b3f11_row3_col6\" class=\"data row3 col6\" >-0.58</td>\n",
              "      <td id=\"T_b3f11_row3_col7\" class=\"data row3 col7\" >-0.47</td>\n",
              "      <td id=\"T_b3f11_row3_col8\" class=\"data row3 col8\" >0.16</td>\n",
              "      <td id=\"T_b3f11_row3_col9\" class=\"data row3 col9\" >0.38</td>\n",
              "      <td id=\"T_b3f11_row3_col10\" class=\"data row3 col10\" >0.17</td>\n",
              "      <td id=\"T_b3f11_row3_col11\" class=\"data row3 col11\" >-0.22</td>\n",
              "      <td id=\"T_b3f11_row3_col12\" class=\"data row3 col12\" >0.22</td>\n",
              "      <td id=\"T_b3f11_row3_col13\" class=\"data row3 col13\" >0.27</td>\n",
              "    </tr>\n",
              "    <tr>\n",
              "      <th id=\"T_b3f11_level0_row4\" class=\"row_heading level0 row4\" >mode</th>\n",
              "      <td id=\"T_b3f11_row4_col0\" class=\"data row4 col0\" >-0.13</td>\n",
              "      <td id=\"T_b3f11_row4_col1\" class=\"data row4 col1\" >-0.12</td>\n",
              "      <td id=\"T_b3f11_row4_col2\" class=\"data row4 col2\" >-0.11</td>\n",
              "      <td id=\"T_b3f11_row4_col3\" class=\"data row4 col3\" >-0.07</td>\n",
              "      <td id=\"T_b3f11_row4_col4\" class=\"data row4 col4\" >1.00</td>\n",
              "      <td id=\"T_b3f11_row4_col5\" class=\"data row4 col5\" >-0.07</td>\n",
              "      <td id=\"T_b3f11_row4_col6\" class=\"data row4 col6\" >0.13</td>\n",
              "      <td id=\"T_b3f11_row4_col7\" class=\"data row4 col7\" >-0.01</td>\n",
              "      <td id=\"T_b3f11_row4_col8\" class=\"data row4 col8\" >-0.03</td>\n",
              "      <td id=\"T_b3f11_row4_col9\" class=\"data row4 col9\" >-0.05</td>\n",
              "      <td id=\"T_b3f11_row4_col10\" class=\"data row4 col10\" >0.00</td>\n",
              "      <td id=\"T_b3f11_row4_col11\" class=\"data row4 col11\" >0.05</td>\n",
              "      <td id=\"T_b3f11_row4_col12\" class=\"data row4 col12\" >-0.03</td>\n",
              "      <td id=\"T_b3f11_row4_col13\" class=\"data row4 col13\" >-0.03</td>\n",
              "    </tr>\n",
              "    <tr>\n",
              "      <th id=\"T_b3f11_level0_row5\" class=\"row_heading level0 row5\" >speechiness</th>\n",
              "      <td id=\"T_b3f11_row5_col0\" class=\"data row5 col0\" >0.20</td>\n",
              "      <td id=\"T_b3f11_row5_col1\" class=\"data row5 col1\" >0.08</td>\n",
              "      <td id=\"T_b3f11_row5_col2\" class=\"data row5 col2\" >0.03</td>\n",
              "      <td id=\"T_b3f11_row5_col3\" class=\"data row5 col3\" >0.04</td>\n",
              "      <td id=\"T_b3f11_row5_col4\" class=\"data row5 col4\" >-0.07</td>\n",
              "      <td id=\"T_b3f11_row5_col5\" class=\"data row5 col5\" >1.00</td>\n",
              "      <td id=\"T_b3f11_row5_col6\" class=\"data row5 col6\" >-0.07</td>\n",
              "      <td id=\"T_b3f11_row5_col7\" class=\"data row5 col7\" >-0.09</td>\n",
              "      <td id=\"T_b3f11_row5_col8\" class=\"data row5 col8\" >0.07</td>\n",
              "      <td id=\"T_b3f11_row5_col9\" class=\"data row5 col9\" >0.14</td>\n",
              "      <td id=\"T_b3f11_row5_col10\" class=\"data row5 col10\" >0.07</td>\n",
              "      <td id=\"T_b3f11_row5_col11\" class=\"data row5 col11\" >-0.12</td>\n",
              "      <td id=\"T_b3f11_row5_col12\" class=\"data row5 col12\" >0.06</td>\n",
              "      <td id=\"T_b3f11_row5_col13\" class=\"data row5 col13\" >-0.00</td>\n",
              "    </tr>\n",
              "    <tr>\n",
              "      <th id=\"T_b3f11_level0_row6\" class=\"row_heading level0 row6\" >acousticness</th>\n",
              "      <td id=\"T_b3f11_row6_col0\" class=\"data row6 col0\" >-0.32</td>\n",
              "      <td id=\"T_b3f11_row6_col1\" class=\"data row6 col1\" >-0.75</td>\n",
              "      <td id=\"T_b3f11_row6_col2\" class=\"data row6 col2\" >-0.04</td>\n",
              "      <td id=\"T_b3f11_row6_col3\" class=\"data row6 col3\" >-0.58</td>\n",
              "      <td id=\"T_b3f11_row6_col4\" class=\"data row6 col4\" >0.13</td>\n",
              "      <td id=\"T_b3f11_row6_col5\" class=\"data row6 col5\" >-0.07</td>\n",
              "      <td id=\"T_b3f11_row6_col6\" class=\"data row6 col6\" >1.00</td>\n",
              "      <td id=\"T_b3f11_row6_col7\" class=\"data row6 col7\" >0.16</td>\n",
              "      <td id=\"T_b3f11_row6_col8\" class=\"data row6 col8\" >-0.15</td>\n",
              "      <td id=\"T_b3f11_row6_col9\" class=\"data row6 col9\" >-0.35</td>\n",
              "      <td id=\"T_b3f11_row6_col10\" class=\"data row6 col10\" >-0.15</td>\n",
              "      <td id=\"T_b3f11_row6_col11\" class=\"data row6 col11\" >0.08</td>\n",
              "      <td id=\"T_b3f11_row6_col12\" class=\"data row6 col12\" >-0.18</td>\n",
              "      <td id=\"T_b3f11_row6_col13\" class=\"data row6 col13\" >-0.14</td>\n",
              "    </tr>\n",
              "    <tr>\n",
              "      <th id=\"T_b3f11_level0_row7\" class=\"row_heading level0 row7\" >instrumentalness</th>\n",
              "      <td id=\"T_b3f11_row7_col0\" class=\"data row7 col0\" >-0.28</td>\n",
              "      <td id=\"T_b3f11_row7_col1\" class=\"data row7 col1\" >-0.19</td>\n",
              "      <td id=\"T_b3f11_row7_col2\" class=\"data row7 col2\" >-0.02</td>\n",
              "      <td id=\"T_b3f11_row7_col3\" class=\"data row7 col3\" >-0.47</td>\n",
              "      <td id=\"T_b3f11_row7_col4\" class=\"data row7 col4\" >-0.01</td>\n",
              "      <td id=\"T_b3f11_row7_col5\" class=\"data row7 col5\" >-0.09</td>\n",
              "      <td id=\"T_b3f11_row7_col6\" class=\"data row7 col6\" >0.16</td>\n",
              "      <td id=\"T_b3f11_row7_col7\" class=\"data row7 col7\" >1.00</td>\n",
              "      <td id=\"T_b3f11_row7_col8\" class=\"data row7 col8\" >-0.05</td>\n",
              "      <td id=\"T_b3f11_row7_col9\" class=\"data row7 col9\" >-0.31</td>\n",
              "      <td id=\"T_b3f11_row7_col10\" class=\"data row7 col10\" >-0.06</td>\n",
              "      <td id=\"T_b3f11_row7_col11\" class=\"data row7 col11\" >0.26</td>\n",
              "      <td id=\"T_b3f11_row7_col12\" class=\"data row7 col12\" >-0.14</td>\n",
              "      <td id=\"T_b3f11_row7_col13\" class=\"data row7 col13\" >-0.24</td>\n",
              "    </tr>\n",
              "    <tr>\n",
              "      <th id=\"T_b3f11_level0_row8\" class=\"row_heading level0 row8\" >liveness</th>\n",
              "      <td id=\"T_b3f11_row8_col0\" class=\"data row8 col0\" >-0.02</td>\n",
              "      <td id=\"T_b3f11_row8_col1\" class=\"data row8 col1\" >0.22</td>\n",
              "      <td id=\"T_b3f11_row8_col2\" class=\"data row8 col2\" >-0.00</td>\n",
              "      <td id=\"T_b3f11_row8_col3\" class=\"data row8 col3\" >0.16</td>\n",
              "      <td id=\"T_b3f11_row8_col4\" class=\"data row8 col4\" >-0.03</td>\n",
              "      <td id=\"T_b3f11_row8_col5\" class=\"data row8 col5\" >0.07</td>\n",
              "      <td id=\"T_b3f11_row8_col6\" class=\"data row8 col6\" >-0.15</td>\n",
              "      <td id=\"T_b3f11_row8_col7\" class=\"data row8 col7\" >-0.05</td>\n",
              "      <td id=\"T_b3f11_row8_col8\" class=\"data row8 col8\" >1.00</td>\n",
              "      <td id=\"T_b3f11_row8_col9\" class=\"data row8 col9\" >0.10</td>\n",
              "      <td id=\"T_b3f11_row8_col10\" class=\"data row8 col10\" >0.03</td>\n",
              "      <td id=\"T_b3f11_row8_col11\" class=\"data row8 col11\" >-0.06</td>\n",
              "      <td id=\"T_b3f11_row8_col12\" class=\"data row8 col12\" >0.03</td>\n",
              "      <td id=\"T_b3f11_row8_col13\" class=\"data row8 col13\" >0.04</td>\n",
              "    </tr>\n",
              "    <tr>\n",
              "      <th id=\"T_b3f11_level0_row9\" class=\"row_heading level0 row9\" >valence</th>\n",
              "      <td id=\"T_b3f11_row9_col0\" class=\"data row9 col0\" >0.51</td>\n",
              "      <td id=\"T_b3f11_row9_col1\" class=\"data row9 col1\" >0.45</td>\n",
              "      <td id=\"T_b3f11_row9_col2\" class=\"data row9 col2\" >0.06</td>\n",
              "      <td id=\"T_b3f11_row9_col3\" class=\"data row9 col3\" >0.38</td>\n",
              "      <td id=\"T_b3f11_row9_col4\" class=\"data row9 col4\" >-0.05</td>\n",
              "      <td id=\"T_b3f11_row9_col5\" class=\"data row9 col5\" >0.14</td>\n",
              "      <td id=\"T_b3f11_row9_col6\" class=\"data row9 col6\" >-0.35</td>\n",
              "      <td id=\"T_b3f11_row9_col7\" class=\"data row9 col7\" >-0.31</td>\n",
              "      <td id=\"T_b3f11_row9_col8\" class=\"data row9 col8\" >0.10</td>\n",
              "      <td id=\"T_b3f11_row9_col9\" class=\"data row9 col9\" >1.00</td>\n",
              "      <td id=\"T_b3f11_row9_col10\" class=\"data row9 col10\" >0.05</td>\n",
              "      <td id=\"T_b3f11_row9_col11\" class=\"data row9 col11\" >-0.19</td>\n",
              "      <td id=\"T_b3f11_row9_col12\" class=\"data row9 col12\" >0.18</td>\n",
              "      <td id=\"T_b3f11_row9_col13\" class=\"data row9 col13\" >0.17</td>\n",
              "    </tr>\n",
              "    <tr>\n",
              "      <th id=\"T_b3f11_level0_row10\" class=\"row_heading level0 row10\" >tempo</th>\n",
              "      <td id=\"T_b3f11_row10_col0\" class=\"data row10 col0\" >-0.08</td>\n",
              "      <td id=\"T_b3f11_row10_col1\" class=\"data row10 col1\" >0.19</td>\n",
              "      <td id=\"T_b3f11_row10_col2\" class=\"data row10 col2\" >0.04</td>\n",
              "      <td id=\"T_b3f11_row10_col3\" class=\"data row10 col3\" >0.17</td>\n",
              "      <td id=\"T_b3f11_row10_col4\" class=\"data row10 col4\" >0.00</td>\n",
              "      <td id=\"T_b3f11_row10_col5\" class=\"data row10 col5\" >0.07</td>\n",
              "      <td id=\"T_b3f11_row10_col6\" class=\"data row10 col6\" >-0.15</td>\n",
              "      <td id=\"T_b3f11_row10_col7\" class=\"data row10 col7\" >-0.06</td>\n",
              "      <td id=\"T_b3f11_row10_col8\" class=\"data row10 col8\" >0.03</td>\n",
              "      <td id=\"T_b3f11_row10_col9\" class=\"data row10 col9\" >0.05</td>\n",
              "      <td id=\"T_b3f11_row10_col10\" class=\"data row10 col10\" >1.00</td>\n",
              "      <td id=\"T_b3f11_row10_col11\" class=\"data row10 col11\" >-0.02</td>\n",
              "      <td id=\"T_b3f11_row10_col12\" class=\"data row10 col12\" >0.00</td>\n",
              "      <td id=\"T_b3f11_row10_col13\" class=\"data row10 col13\" >0.07</td>\n",
              "    </tr>\n",
              "    <tr>\n",
              "      <th id=\"T_b3f11_level0_row11\" class=\"row_heading level0 row11\" >duration_ms</th>\n",
              "      <td id=\"T_b3f11_row11_col0\" class=\"data row11 col0\" >-0.30</td>\n",
              "      <td id=\"T_b3f11_row11_col1\" class=\"data row11 col1\" >-0.16</td>\n",
              "      <td id=\"T_b3f11_row11_col2\" class=\"data row11 col2\" >-0.02</td>\n",
              "      <td id=\"T_b3f11_row11_col3\" class=\"data row11 col3\" >-0.22</td>\n",
              "      <td id=\"T_b3f11_row11_col4\" class=\"data row11 col4\" >0.05</td>\n",
              "      <td id=\"T_b3f11_row11_col5\" class=\"data row11 col5\" >-0.12</td>\n",
              "      <td id=\"T_b3f11_row11_col6\" class=\"data row11 col6\" >0.08</td>\n",
              "      <td id=\"T_b3f11_row11_col7\" class=\"data row11 col7\" >0.26</td>\n",
              "      <td id=\"T_b3f11_row11_col8\" class=\"data row11 col8\" >-0.06</td>\n",
              "      <td id=\"T_b3f11_row11_col9\" class=\"data row11 col9\" >-0.19</td>\n",
              "      <td id=\"T_b3f11_row11_col10\" class=\"data row11 col10\" >-0.02</td>\n",
              "      <td id=\"T_b3f11_row11_col11\" class=\"data row11 col11\" >1.00</td>\n",
              "      <td id=\"T_b3f11_row11_col12\" class=\"data row11 col12\" >-0.06</td>\n",
              "      <td id=\"T_b3f11_row11_col13\" class=\"data row11 col13\" >-0.09</td>\n",
              "    </tr>\n",
              "    <tr>\n",
              "      <th id=\"T_b3f11_level0_row12\" class=\"row_heading level0 row12\" >time_signature</th>\n",
              "      <td id=\"T_b3f11_row12_col0\" class=\"data row12 col0\" >0.25</td>\n",
              "      <td id=\"T_b3f11_row12_col1\" class=\"data row12 col1\" >0.20</td>\n",
              "      <td id=\"T_b3f11_row12_col2\" class=\"data row12 col2\" >0.01</td>\n",
              "      <td id=\"T_b3f11_row12_col3\" class=\"data row12 col3\" >0.22</td>\n",
              "      <td id=\"T_b3f11_row12_col4\" class=\"data row12 col4\" >-0.03</td>\n",
              "      <td id=\"T_b3f11_row12_col5\" class=\"data row12 col5\" >0.06</td>\n",
              "      <td id=\"T_b3f11_row12_col6\" class=\"data row12 col6\" >-0.18</td>\n",
              "      <td id=\"T_b3f11_row12_col7\" class=\"data row12 col7\" >-0.14</td>\n",
              "      <td id=\"T_b3f11_row12_col8\" class=\"data row12 col8\" >0.03</td>\n",
              "      <td id=\"T_b3f11_row12_col9\" class=\"data row12 col9\" >0.18</td>\n",
              "      <td id=\"T_b3f11_row12_col10\" class=\"data row12 col10\" >0.00</td>\n",
              "      <td id=\"T_b3f11_row12_col11\" class=\"data row12 col11\" >-0.06</td>\n",
              "      <td id=\"T_b3f11_row12_col12\" class=\"data row12 col12\" >1.00</td>\n",
              "      <td id=\"T_b3f11_row12_col13\" class=\"data row12 col13\" >0.06</td>\n",
              "    </tr>\n",
              "    <tr>\n",
              "      <th id=\"T_b3f11_level0_row13\" class=\"row_heading level0 row13\" >popularity</th>\n",
              "      <td id=\"T_b3f11_row13_col0\" class=\"data row13 col0\" >0.15</td>\n",
              "      <td id=\"T_b3f11_row13_col1\" class=\"data row13 col1\" >0.21</td>\n",
              "      <td id=\"T_b3f11_row13_col2\" class=\"data row13 col2\" >0.01</td>\n",
              "      <td id=\"T_b3f11_row13_col3\" class=\"data row13 col3\" >0.27</td>\n",
              "      <td id=\"T_b3f11_row13_col4\" class=\"data row13 col4\" >-0.03</td>\n",
              "      <td id=\"T_b3f11_row13_col5\" class=\"data row13 col5\" >-0.00</td>\n",
              "      <td id=\"T_b3f11_row13_col6\" class=\"data row13 col6\" >-0.14</td>\n",
              "      <td id=\"T_b3f11_row13_col7\" class=\"data row13 col7\" >-0.24</td>\n",
              "      <td id=\"T_b3f11_row13_col8\" class=\"data row13 col8\" >0.04</td>\n",
              "      <td id=\"T_b3f11_row13_col9\" class=\"data row13 col9\" >0.17</td>\n",
              "      <td id=\"T_b3f11_row13_col10\" class=\"data row13 col10\" >0.07</td>\n",
              "      <td id=\"T_b3f11_row13_col11\" class=\"data row13 col11\" >-0.09</td>\n",
              "      <td id=\"T_b3f11_row13_col12\" class=\"data row13 col12\" >0.06</td>\n",
              "      <td id=\"T_b3f11_row13_col13\" class=\"data row13 col13\" >1.00</td>\n",
              "    </tr>\n",
              "  </tbody>\n",
              "</table>\n"
            ]
          },
          "metadata": {},
          "execution_count": 7
        }
      ]
    },
    {
      "cell_type": "code",
      "source": [
        "matrix_df = df.values"
      ],
      "metadata": {
        "id": "l0cv5bqZV58I"
      },
      "execution_count": null,
      "outputs": []
    },
    {
      "cell_type": "code",
      "source": [
        "inertias = []\n",
        "\n",
        "tot_k = 16\n",
        "for i in range(1,tot_k):\n",
        "    kmeans = KMeans(n_clusters=i)\n",
        "    kmeans.fit(matrix_df)\n",
        "    inertias.append(kmeans.inertia_)\n",
        "\n",
        "plt.plot(range(1,tot_k), inertias, marker='o')\n",
        "plt.title('Elbow method')\n",
        "plt.xlabel('Number of clusters')\n",
        "plt.ylabel('Inertia')\n",
        "plt.show()"
      ],
      "metadata": {
        "colab": {
          "base_uri": "https://localhost:8080/",
          "height": 295
        },
        "id": "wAOBMuiaDpPd",
        "outputId": "2ad65bd1-15a2-4ada-ce8e-df28091d0983"
      },
      "execution_count": null,
      "outputs": [
        {
          "output_type": "display_data",
          "data": {
            "text/plain": [
              "<Figure size 432x288 with 1 Axes>"
            ],
            "image/png": "[encoded data removed]"
          },
          "metadata": {
            "needs_background": "light"
          }
        }
      ]
    },
    {
      "cell_type": "code",
      "source": [
        "kmeans = KMeans(n_clusters=5)\n",
        "kmeans.fit(matrix_df)\n",
        "\n",
        "plt.scatter(matrix_df[:,1], matrix_df[:,3], c=kmeans.labels_) #0:danceability, 1:energy, 2:key, 3:loudness\n",
        "plt.xlabel('energy')\n",
        "plt.ylabel('loudness')\n",
        "plt.show() \n",
        "\n",
        "#we cannot see it in the plot (not representative) even using loudness and energy (that are the ones that seemas more correlated)\n",
        "#the correlation between them is exponential"
      ],
      "metadata": {
        "colab": {
          "base_uri": "https://localhost:8080/",
          "height": 279
        },
        "id": "2e3W4fNdGiAs",
        "outputId": "e2f2d17e-0143-4417-bbca-a62e0e6fb21c"
      },
      "execution_count": null,
      "outputs": [
        {
          "output_type": "display_data",
          "data": {
            "text/plain": [
              "<Figure size 432x288 with 1 Axes>"
            ],
            "image/png": "[encoded data removed]"
          },
          "metadata": {
            "needs_background": "light"
          }
        }
      ]
    },
    {
      "cell_type": "markdown",
      "source": [
        "# Unsupervised Clustering"
      ],
      "metadata": {
        "id": "k4Db6nSbghPg"
      }
    },
    {
      "cell_type": "code",
      "source": [
        "## USING SCALER\n",
        "#first save song to test\n",
        "test_song = df.loc[random.sample(df.index.to_list(), 1)[0],:]\n",
        "df = df.drop(test_song.name, axis =0)\n",
        "print(\"test song:\\n\", test_song)\n",
        "\n",
        "matrix_df = df.values\n",
        "\n",
        "scaler = StandardScaler()\n",
        "df_scaled = scaler.fit_transform(matrix_df)"
      ],
      "metadata": {
        "colab": {
          "base_uri": "https://localhost:8080/"
        },
        "id": "-jGhO8dgM-d9",
        "outputId": "cb2e9be4-7ae7-4531-ae94-7158af56c6f4"
      },
      "execution_count": null,
      "outputs": [
        {
          "output_type": "stream",
          "name": "stdout",
          "text": [
            "test song:\n",
            " danceability             0.770000\n",
            "energy                   0.627000\n",
            "key                      2.000000\n",
            "loudness                -8.034000\n",
            "mode                     0.000000\n",
            "speechiness              0.075300\n",
            "acousticness             0.293000\n",
            "instrumentalness         0.000004\n",
            "liveness                 0.478000\n",
            "valence                  0.722000\n",
            "tempo                  116.995000\n",
            "duration_ms         120000.000000\n",
            "time_signature           4.000000\n",
            "popularity              45.000000\n",
            "Name: 07LQL0AHn1BfbpCtnusg2b, dtype: float64\n"
          ]
        }
      ]
    },
    {
      "cell_type": "code",
      "source": [
        "##USING PCA\n",
        "\n",
        "pca_2 = PCA(n_components=2)\n",
        "pca_2_result = pca_2.fit_transform(df_scaled)\n",
        "print('Explained variation per principal component: {}'.format(pca_2.explained_variance_ratio_))\n",
        "print('Cumulative variance explained by 2 principal components: {:.2%}'.format(np.sum(pca_2.explained_variance_ratio_)))\n",
        "\n",
        "prop_test = len(pca_2_result)*0.1 #90% train and 10% test\n",
        "test_rows = random.sample(range(len(pca_2_result)), int(prop_test))\n",
        "bool_idx = np.zeros(len(pca_2_result), dtype=bool)\n",
        "bool_idx[test_rows] = True\n",
        "\n",
        "test = pca_2_result[bool_idx, :]\n",
        "ids_test = df.index.to_numpy()[bool_idx]\n",
        "train = pca_2_result[~bool_idx, :] \n",
        "ids_train = df.index.to_numpy()[~bool_idx]\n",
        "\n",
        "#___________________________________________________\n",
        "inertias = []\n",
        "\n",
        "tot_k = 16\n",
        "for i in range(1,tot_k):\n",
        "    kmeans = KMeans(n_clusters=i)\n",
        "    kmeans.fit(train)\n",
        "    inertias.append(kmeans.inertia_)\n",
        "\n",
        "plt.plot(range(1,tot_k), inertias, marker='o')\n",
        "plt.title('Elbow method')\n",
        "plt.xlabel('Number of clusters')\n",
        "plt.ylabel('Inertia')\n",
        "plt.show()"
      ],
      "metadata": {
        "id": "D3QggGcDI7gC",
        "colab": {
          "base_uri": "https://localhost:8080/",
          "height": 331
        },
        "outputId": "a9549ee5-0566-47e4-8c19-febec35a9c51"
      },
      "execution_count": null,
      "outputs": [
        {
          "output_type": "stream",
          "name": "stdout",
          "text": [
            "Explained variation per principal component: [0.25287018 0.09604466]\n",
            "Cumulative variance explained by 2 principal components: 34.89%\n"
          ]
        },
        {
          "output_type": "display_data",
          "data": {
            "text/plain": [
              "<Figure size 432x288 with 1 Axes>"
            ],
            "image/png": "[encoded data removed]"
          },
          "metadata": {
            "needs_background": "light"
          }
        }
      ]
    },
    {
      "cell_type": "code",
      "source": [
        "kmeans = KMeans(n_clusters=5)\n",
        "kmeans.fit(train)\n",
        "\n",
        "plt.scatter(train[:,0], train[:,1], c=kmeans.labels_) \n",
        "plt.xlabel('PC1')\n",
        "plt.ylabel('PC2')\n",
        "plt.show() "
      ],
      "metadata": {
        "colab": {
          "base_uri": "https://localhost:8080/",
          "height": 279
        },
        "id": "_U9uh5uRNqaa",
        "outputId": "fe597f11-582b-4c2d-ca67-0e9f5e0cd8ee"
      },
      "execution_count": null,
      "outputs": [
        {
          "output_type": "display_data",
          "data": {
            "text/plain": [
              "<Figure size 432x288 with 1 Axes>"
            ],
            "image/png": "[encoded data removed]"
          },
          "metadata": {
            "needs_background": "light"
          }
        }
      ]
    },
    {
      "cell_type": "code",
      "source": [
        "#test\n",
        "pred = kmeans.predict(test)\n",
        "\n",
        "num_test = 50\n",
        "from matplotlib.colors import ListedColormap\n",
        "\n",
        "test_colors = ListedColormap(['pink','g','purple','orange','r'])\n",
        "\n",
        "scatter = plt.scatter(train[:,0], train[:,1], c=kmeans.labels_) \n",
        "scatter_test = plt.scatter(test[:num_test,0], test[:num_test,1], c=pred[:num_test], cmap=test_colors)\n",
        "plt.legend(handles=scatter.legend_elements()[0], labels=[0,1,2,3,4])\n",
        "plt.xlabel('PC1')\n",
        "plt.ylabel('PC2')\n",
        "plt.title('KMeans K=5 with test')\n",
        "plt.show() "
      ],
      "metadata": {
        "colab": {
          "base_uri": "https://localhost:8080/",
          "height": 295
        },
        "id": "P5qolLOdOtOJ",
        "outputId": "516513d8-35ec-44f5-910a-15657f307fb8"
      },
      "execution_count": null,
      "outputs": [
        {
          "output_type": "display_data",
          "data": {
            "text/plain": [
              "<Figure size 432x288 with 1 Axes>"
            ],
            "image/png": "[encoded data removed]"
          },
          "metadata": {
            "needs_background": "light"
          }
        }
      ]
    },
    {
      "cell_type": "code",
      "source": [
        "#@title Test with test_song\n",
        "\n",
        "#it has to go through all the transformations\n",
        "test_song1 = test_song.values\n",
        "test_song1 = scaler.transform([test_song1])\n",
        "test_song1 = pca_2.transform(test_song1)\n",
        "test_song_p = kmeans.predict(test_song1)\n",
        "\n",
        "print('Song predicted in cluster ', test_song_p)"
      ],
      "metadata": {
        "colab": {
          "base_uri": "https://localhost:8080/"
        },
        "id": "hZBunpOhWcWZ",
        "outputId": "acfa4864-becd-4a8b-b780-46fba925f38c"
      },
      "execution_count": null,
      "outputs": [
        {
          "output_type": "stream",
          "name": "stdout",
          "text": [
            "Song predicted in cluster  [0]\n"
          ]
        }
      ]
    },
    {
      "cell_type": "code",
      "source": [
        "scatter = plt.scatter(train[:,0], train[:,1], c=kmeans.labels_) \n",
        "plt.scatter(test_song1[:,0], test_song1[:,1], c='red')\n",
        "plt.legend(handles=scatter.legend_elements()[0], labels=[0,1,2,3,4])\n",
        "plt.xlabel('PC1')\n",
        "plt.ylabel('PC2')\n",
        "plt.title('KMeans K=5 with test')\n",
        "plt.show() "
      ],
      "metadata": {
        "colab": {
          "base_uri": "https://localhost:8080/",
          "height": 295
        },
        "id": "YZt6SJiTdbob",
        "outputId": "479bc502-5c82-4337-8a1b-a39c17657aa0"
      },
      "execution_count": null,
      "outputs": [
        {
          "output_type": "display_data",
          "data": {
            "text/plain": [
              "<Figure size 432x288 with 1 Axes>"
            ],
            "image/png": "[encoded data removed]"
          },
          "metadata": {
            "needs_background": "light"
          }
        }
      ]
    },
    {
      "cell_type": "code",
      "source": [
        "## time to get the most identical songs\n",
        "songs_same_cluster = [i for i in range(len(train)) if kmeans.labels_[i] == test_song_p]\n",
        "songs_same_cluster[:2]\n",
        "\n",
        "##get ids\n",
        "ids_same_cluster = ids_train[songs_same_cluster]"
      ],
      "metadata": {
        "id": "Kb7JJkFRfMnP"
      },
      "execution_count": null,
      "outputs": []
    },
    {
      "cell_type": "code",
      "source": [
        "#JUST TO CHECK IT DOES IT CORRECTLY\n",
        "\n",
        "scatter = plt.scatter(train[:,0], train[:,1], c=kmeans.labels_) \n",
        "plt.scatter(train[songs_same_cluster[:2],0], train[songs_same_cluster[:2],1], c='red')\n",
        "plt.legend(handles=scatter.legend_elements()[0], labels=[0,1,2,3,4])\n",
        "plt.xlabel('PC1')\n",
        "plt.ylabel('PC2')\n",
        "plt.title('KMeans K=5 with test')\n",
        "plt.show() "
      ],
      "metadata": {
        "colab": {
          "base_uri": "https://localhost:8080/",
          "height": 295
        },
        "id": "dwkPr2UifwrT",
        "outputId": "84ef13c7-3458-453d-f036-c2290db25710"
      },
      "execution_count": null,
      "outputs": [
        {
          "output_type": "display_data",
          "data": {
            "text/plain": [
              "<Figure size 432x288 with 1 Axes>"
            ],
            "image/png": "[encoded data removed]"
          },
          "metadata": {
            "needs_background": "light"
          }
        }
      ]
    },
    {
      "cell_type": "code",
      "source": [
        "#now we get the similarities between the song and the other songs\n",
        "\n",
        "cs = []\n",
        "A = test_song.values\n",
        "for s in ids_same_cluster:\n",
        "  B = df.loc[s, :].values\n",
        "\n",
        "  cs.append((s, cosine_similarity2(A,B))) #list ot tuples . We will be able to convert them into a dict"
      ],
      "metadata": {
        "id": "UgVU-ITOf6R5"
      },
      "execution_count": null,
      "outputs": []
    },
    {
      "cell_type": "code",
      "source": [
        "more_similar_songs = sorted(dict(cs).items(), key=lambda kv: kv[1], reverse=True)\n",
        "top3 = dict(more_similar_songs[:3])\n",
        "top3"
      ],
      "metadata": {
        "colab": {
          "base_uri": "https://localhost:8080/"
        },
        "id": "FpcqK_xeiTZY",
        "outputId": "71dc0812-ee5e-4fea-8658-fecfe48dc208"
      },
      "execution_count": null,
      "outputs": [
        {
          "output_type": "execute_result",
          "data": {
            "text/plain": [
              "{'2TKA7AOxNJk89Qp5iwzxzr': 0.9999999990479297,\n",
              " '3AVXwaOGCEL8cmBecfcsFJ': 0.9999999989648871,\n",
              " '4xaQIoPckzCcFQ2e4W7gqR': 0.9999999989189249}"
            ]
          },
          "metadata": {},
          "execution_count": 29
        }
      ]
    },
    {
      "cell_type": "code",
      "source": [
        "lab_d = labels.to_dict()\n",
        "\n",
        "print(f'The label of our test song was {lab_d[test_song.name]}')\n",
        "\n",
        "for i in top3.keys():\n",
        "  print(f'\\tThe song with similarity {top3[i]} has label {lab_d[i]}')"
      ],
      "metadata": {
        "colab": {
          "base_uri": "https://localhost:8080/"
        },
        "id": "J87cztUbjEFY",
        "outputId": "64ed727f-a3df-45e0-fc2f-f9a724cb81ac"
      },
      "execution_count": null,
      "outputs": [
        {
          "output_type": "stream",
          "name": "stdout",
          "text": [
            "The label of our test song was chill\n",
            "\tThe song with similarity 0.9999999990479297 has label sport\n",
            "\tThe song with similarity 0.9999999989648871 has label revive\n",
            "\tThe song with similarity 0.9999999989189249 has label dark\n"
          ]
        }
      ]
    },
    {
      "cell_type": "code",
      "source": [
        "#COMMENTS: solo he usado pc2 porque era mejor para visualizar, pero si queremos conseguir más varianza y todo eso, solo habría que aumentar el\n",
        "  #num de pca aunque no se pudiera visualizar"
      ],
      "metadata": {
        "id": "QeIs_DLfjoQU"
      },
      "execution_count": null,
      "outputs": []
    },
    {
      "cell_type": "markdown",
      "source": [
        "# Supervised Clustering"
      ],
      "metadata": {
        "id": "1M0sDCKLA4LS"
      }
    },
    {
      "cell_type": "code",
      "source": [
        "n = 10\n",
        "np.random.seed(n)\n",
        "\n",
        "## USING SCALER\n",
        "#first save song to test\n",
        "test_song = df.loc[random.sample(df.index.to_list(), 1)[0],:]\n",
        "label_song = labels[test_song.name]\n",
        "df = df.drop(test_song.name, axis =0)\n",
        "labels = labels.drop(test_song.name, axis =0)\n",
        "print(\"test song:\\n\", test_song)\n",
        "matrix_df = df.values\n",
        "\n",
        "scaler = StandardScaler()\n",
        "df_scaled = scaler.fit_transform(matrix_df)"
      ],
      "metadata": {
        "colab": {
          "base_uri": "https://localhost:8080/"
        },
        "id": "-ah9m72cBBsw",
        "outputId": "20afaeb5-682b-41bc-c216-aec68c438d97"
      },
      "execution_count": 22,
      "outputs": [
        {
          "output_type": "stream",
          "name": "stdout",
          "text": [
            "test song:\n",
            " danceability             0.5480\n",
            "energy                   0.4530\n",
            "key                      5.0000\n",
            "loudness                -7.3940\n",
            "mode                     0.0000\n",
            "speechiness              0.0359\n",
            "acousticness             0.3730\n",
            "instrumentalness         0.0000\n",
            "liveness                 0.0819\n",
            "valence                  0.3550\n",
            "tempo                  109.6640\n",
            "duration_ms         197260.0000\n",
            "time_signature           3.0000\n",
            "popularity              52.0000\n",
            "Name: 4MCJB2N8KBptcmd1fmo7XY, dtype: float64\n"
          ]
        }
      ]
    },
    {
      "cell_type": "code",
      "source": [
        "##USING PCA\n",
        "np.random.seed(n)\n",
        "\n",
        "pca_2 = PCA(n_components=2)\n",
        "pca_2_result = pca_2.fit_transform(df_scaled)\n",
        "print('Explained variation per principal component: {}'.format(pca_2.explained_variance_ratio_))\n",
        "print('Cumulative variance explained by 2 principal components: {:.2%}\\n'.format(np.sum(pca_2.explained_variance_ratio_)))\n",
        "\n",
        "# Split dataset into training set and test set\n",
        "train, test, ids_train, ids_test = train_test_split(pca_2_result, labels, test_size=0.2) # 80% training and 20% test\n",
        "\n",
        "#___________________________________________________\n",
        "for k in range(len(labels.unique())-2, len(labels.unique())+3):\n",
        "  knn = KNeighborsClassifier(n_neighbors=k)\n",
        "\n",
        "  #Train the model using the training sets\n",
        "  knn.fit(train, ids_train.values)\n",
        "\n",
        "  #Predict the response for test dataset\n",
        "  y_pred = knn.predict(test)\n",
        "  print(\"K-\", k, \" Accuracy:\",metrics.accuracy_score(ids_test.values, y_pred))\n"
      ],
      "metadata": {
        "id": "rZCFqRjNkGcg",
        "colab": {
          "base_uri": "https://localhost:8080/"
        },
        "outputId": "92c80108-3127-4cf5-8f0a-470f3b55200f"
      },
      "execution_count": 23,
      "outputs": [
        {
          "output_type": "stream",
          "name": "stdout",
          "text": [
            "Explained variation per principal component: [0.25295803 0.09604737]\n",
            "Cumulative variance explained by 2 principal components: 34.90%\n",
            "\n",
            "K- 6  Accuracy: 0.24436090225563908\n",
            "K- 7  Accuracy: 0.23934837092731828\n",
            "K- 8  Accuracy: 0.2744360902255639\n",
            "K- 9  Accuracy: 0.2681704260651629\n",
            "K- 10  Accuracy: 0.2731829573934837\n"
          ]
        }
      ]
    },
    {
      "cell_type": "code",
      "source": [
        "## PCA 2- to plot\n",
        "\n",
        "cLabel = {}\n",
        "for l in range(len(labels.unique())):\n",
        "  colors = ['blue', 'magenta', 'orange', 'gold', 'gold', 'slateblue', 'darkviolet','green', 'yellow',]\n",
        "  cLabel[labels.unique()[l]] = colors[l]\n",
        "\n",
        "print(cLabel)\n",
        "\n",
        "fig, ax = plt.subplots()\n",
        "for g in labels.unique():\n",
        "    ix = np.where(ids_train.values == g)\n",
        "    ax.scatter(train[ix,0], train[ix,1], c=cLabel[g], label=g) \n",
        "plt.xlabel('PC1')\n",
        "plt.ylabel('PC2')\n",
        "plt.legend()\n",
        "plt.title('All moods')\n",
        "plt.show() \n",
        "\n",
        "#disconnecting is also similar\n",
        "\n",
        "fig, ax = plt.subplots()\n",
        "for g in labels.unique()[:3]:\n",
        "    ix = np.where(ids_train.values == g)\n",
        "    ax.scatter(train[ix,0], train[ix,1], c=cLabel[g], label=g) \n",
        "plt.title('First 3 labels')\n",
        "plt.xlabel('PC1')\n",
        "plt.ylabel('PC2')\n",
        "plt.legend()\n",
        "plt.show()\n",
        "#we can see that revive and happy is almost the same, lets put it together. Dark and sad seems also the same\n",
        "\n",
        "fig, ax = plt.subplots()\n",
        "for g in labels.unique()[1:8]:\n",
        "  ix = np.where(ids_train.values == g)\n",
        "  if g == 'revive':\n",
        "    ax.scatter(train[ix,0], train[ix,1], c=cLabel['happy'])\n",
        "  elif g=='dark':\n",
        "    ax.scatter(train[ix,0], train[ix,1], c=cLabel['sad'])\n",
        "  elif g=='romance':\n",
        "    ax.scatter(train[ix,0], train[ix,1], c=cLabel['disconnecting'])\n",
        "  else:\n",
        "    ax.scatter(train[ix,0], train[ix,1], c=cLabel[g], label=g) \n",
        "plt.title('After making some changes...')\n",
        "plt.xlabel('PC1')\n",
        "plt.ylabel('PC2')\n",
        "plt.legend()\n",
        "plt.show()"
      ],
      "metadata": {
        "colab": {
          "base_uri": "https://localhost:8080/",
          "height": 889
        },
        "id": "hXAWqzCfKHjB",
        "outputId": "cd94a998-7b6d-420c-f2e9-db57e44d33a8"
      },
      "execution_count": 24,
      "outputs": [
        {
          "output_type": "stream",
          "name": "stdout",
          "text": [
            "{'chill': 'blue', 'happy': 'magenta', 'revive': 'orange', 'sad': 'gold', 'dark': 'gold', 'disconnecting': 'slateblue', 'romance': 'darkviolet', 'sport': 'green'}\n"
          ]
        },
        {
          "output_type": "display_data",
          "data": {
            "text/plain": [
              "<Figure size 432x288 with 1 Axes>"
            ],
            "image/png": "[encoded data removed]"
          },
          "metadata": {
            "needs_background": "light"
          }
        },
        {
          "output_type": "display_data",
          "data": {
            "text/plain": [
              "<Figure size 432x288 with 1 Axes>"
            ],
            "image/png": "[encoded data removed]"
          },
          "metadata": {
            "needs_background": "light"
          }
        },
        {
          "output_type": "display_data",
          "data": {
            "text/plain": [
              "<Figure size 432x288 with 1 Axes>"
            ],
            "image/png": "[encoded data removed]"
          },
          "metadata": {
            "needs_background": "light"
          }
        }
      ]
    },
    {
      "cell_type": "code",
      "source": [
        "#@title making changes....\n",
        "np.random.seed(n) \n",
        "def changes_labels(x):\n",
        "  if x == 'revive': return 'happy'\n",
        "  if x=='dark': return 'sad' #until here acc=0.57¡6\n",
        "  #if x=='disconnecting': return 'sport' (with this acc=0.52)\n",
        "  if x=='romance': return 'disconnecting' #with it acc=0.58\n",
        "  return x\n",
        "\n",
        "\n",
        "labels_new = labels[labels != 'chill']\n",
        "df_scaled_new = df_scaled[labels != 'chill']\n",
        "\n",
        "labels_new = dict([(x , changes_labels(labels_new[x])) for x in labels_new.keys()])\n",
        "dflabels = pd.DataFrame.from_dict(labels_new, orient='index')\n",
        "labels_new = dflabels[0].values\n",
        "\n",
        "## KNN\n",
        "# Split dataset into training set and test set\n",
        "train, test, ids_train, ids_test = train_test_split(df_scaled_new, labels_new, test_size=0.2) # 70% training and 30% test\n",
        "\n",
        "#___________________________________________________\n",
        "metrics_knn = ['cosine', 'euclidean', 'manhattan']\n",
        "best_acc = 0\n",
        "solutions = pd.DataFrame(columns=['K', 'Metric', 'Acc'])\n",
        "for k in range(len(np.unique(labels_new)), len(np.unique(labels_new))+10):\n",
        "  for m in metrics_knn:\n",
        "    knn = KNeighborsClassifier(n_neighbors=k, metric = m)\n",
        "\n",
        "    #Train the model using the training sets\n",
        "    knn.fit(train, ids_train)\n",
        "\n",
        "    #Predict the response for test dataset\n",
        "    y_pred = knn.predict(test)\n",
        "    acc = metrics.accuracy_score(ids_test, y_pred)\n",
        "    print(\"K -\", k,\" Metric -\",m, \" ----- Accuracy:\",acc)\n",
        "    solutions = solutions.append({'K':k, 'Metric':m, 'Acc': acc}, ignore_index = True)\n",
        "\n",
        "    if acc> best_acc:\n",
        "      best_acc = acc\n",
        "      best_param = [k, m]\n",
        "\n",
        "\n",
        "print(f\"\\nThe best acc ({best_acc}) has combination: K-{best_param[0]} and metric-{best_param[1]}\")"
      ],
      "metadata": {
        "colab": {
          "base_uri": "https://localhost:8080/"
        },
        "id": "NuIemw0GzRqy",
        "outputId": "10a73951-c93f-4a40-f0f8-2fdd63542835"
      },
      "execution_count": 25,
      "outputs": [
        {
          "output_type": "stream",
          "name": "stdout",
          "text": [
            "K - 4  Metric - cosine  ----- Accuracy: 0.5754985754985755\n",
            "K - 4  Metric - euclidean  ----- Accuracy: 0.5783475783475783\n",
            "K - 4  Metric - manhattan  ----- Accuracy: 0.5797720797720798\n",
            "K - 5  Metric - cosine  ----- Accuracy: 0.594017094017094\n",
            "K - 5  Metric - euclidean  ----- Accuracy: 0.5826210826210826\n",
            "K - 5  Metric - manhattan  ----- Accuracy: 0.6054131054131054\n",
            "K - 6  Metric - cosine  ----- Accuracy: 0.6025641025641025\n",
            "K - 6  Metric - euclidean  ----- Accuracy: 0.5826210826210826\n",
            "K - 6  Metric - manhattan  ----- Accuracy: 0.5997150997150997\n",
            "K - 7  Metric - cosine  ----- Accuracy: 0.6082621082621082\n",
            "K - 7  Metric - euclidean  ----- Accuracy: 0.5769230769230769\n",
            "K - 7  Metric - manhattan  ----- Accuracy: 0.6239316239316239\n",
            "K - 8  Metric - cosine  ----- Accuracy: 0.6011396011396012\n",
            "K - 8  Metric - euclidean  ----- Accuracy: 0.5925925925925926\n",
            "K - 8  Metric - manhattan  ----- Accuracy: 0.6125356125356125\n",
            "K - 9  Metric - cosine  ----- Accuracy: 0.603988603988604\n",
            "K - 9  Metric - euclidean  ----- Accuracy: 0.5897435897435898\n",
            "K - 9  Metric - manhattan  ----- Accuracy: 0.6196581196581197\n",
            "K - 10  Metric - cosine  ----- Accuracy: 0.5997150997150997\n",
            "K - 10  Metric - euclidean  ----- Accuracy: 0.5826210826210826\n",
            "K - 10  Metric - manhattan  ----- Accuracy: 0.6353276353276354\n",
            "K - 11  Metric - cosine  ----- Accuracy: 0.5954415954415955\n",
            "K - 11  Metric - euclidean  ----- Accuracy: 0.5911680911680912\n",
            "K - 11  Metric - manhattan  ----- Accuracy: 0.6282051282051282\n",
            "K - 12  Metric - cosine  ----- Accuracy: 0.6011396011396012\n",
            "K - 12  Metric - euclidean  ----- Accuracy: 0.5897435897435898\n",
            "K - 12  Metric - manhattan  ----- Accuracy: 0.6196581196581197\n",
            "K - 13  Metric - cosine  ----- Accuracy: 0.5982905982905983\n",
            "K - 13  Metric - euclidean  ----- Accuracy: 0.5868945868945868\n",
            "K - 13  Metric - manhattan  ----- Accuracy: 0.6353276353276354\n",
            "\n",
            "The best acc (0.6353276353276354) has combination: K-10 and metric-manhattan\n"
          ]
        }
      ]
    },
    {
      "cell_type": "code",
      "source": [
        "## some plots \n",
        "cLabel = {}\n",
        "for l in range(len(metrics_knn)):\n",
        "  colors = ['slateblue', 'darkviolet', 'magenta']\n",
        "  cLabel[metrics_knn[l]] = colors[l]\n",
        "\n",
        "fig, ax = plt.subplots()\n",
        "for g in metrics_knn:\n",
        "    sol = solutions[solutions['Metric'] == g]\n",
        "    ax.plot(sol['K'], sol['Acc'], c=cLabel[g], label=g) \n",
        "plt.xlabel('K')\n",
        "plt.ylabel('Acc')\n",
        "plt.legend()\n",
        "plt.show() "
      ],
      "metadata": {
        "colab": {
          "base_uri": "https://localhost:8080/",
          "height": 279
        },
        "id": "RzTZp0BQC1yN",
        "outputId": "2fe66993-0f72-48bc-a953-a9985d709512"
      },
      "execution_count": 26,
      "outputs": [
        {
          "output_type": "display_data",
          "data": {
            "text/plain": [
              "<Figure size 432x288 with 1 Axes>"
            ],
            "image/png": "[encoded data removed]"
          },
          "metadata": {
            "needs_background": "light"
          }
        }
      ]
    },
    {
      "cell_type": "code",
      "source": [
        "#@title Test with test_song\n",
        "knn = KNeighborsClassifier(n_neighbors=k, metric = m)\n",
        "knn.fit(df_scaled_new, labels_new)\n",
        "\n",
        "#it has to go through all the transformations\n",
        "test_song1 = test_song.values\n",
        "test_song1 = scaler.transform([test_song1])\n",
        "test_song_p = knn.predict(test_song1)\n",
        "label_song = changes_labels(label_song)\n",
        "\n",
        "print(f'Song predicted in cluster {test_song_p} and it was label {label_song}')"
      ],
      "metadata": {
        "colab": {
          "base_uri": "https://localhost:8080/"
        },
        "id": "uMsJN0Mq6I_X",
        "outputId": "16f55e10-993b-4dec-ce6a-aede60163cef"
      },
      "execution_count": 18,
      "outputs": [
        {
          "output_type": "stream",
          "name": "stdout",
          "text": [
            "Song predicted in cluster ['disconnecting'] and it was label disconnecting\n"
          ]
        }
      ]
    },
    {
      "cell_type": "code",
      "source": [
        "preds = knn.predict(df_scaled_new)\n",
        "\n",
        "num_p = random.sample(range(len(preds)), 10)\n",
        "for p in num_p:\n",
        "  print(f'Song (id = {dflabels.iloc[p,:].name}) predicted in cluster {preds[p]} and it was label {labels_new[p]}')"
      ],
      "metadata": {
        "id": "DkxglUpBGaEq",
        "colab": {
          "base_uri": "https://localhost:8080/"
        },
        "outputId": "0bde6ff5-d7fd-4e65-ad9e-6649aa4ac400"
      },
      "execution_count": 19,
      "outputs": [
        {
          "output_type": "stream",
          "name": "stdout",
          "text": [
            "Song (id = 47Cnw8EfDPHihBbhC0oaIK) predicted in cluster happy and it was label sport\n",
            "Song (id = 3ppzEzYnSKIBZ2tndbmOLp) predicted in cluster sad and it was label sad\n",
            "Song (id = 4MSmRBs920YvYh4eYdE8lD) predicted in cluster sad and it was label sad\n",
            "Song (id = 2OHQhOiGIYaXqqJVIMpNrF) predicted in cluster happy and it was label disconnecting\n",
            "Song (id = 5OUVliuaw3CbZ5Dx3xEtea) predicted in cluster happy and it was label happy\n",
            "Song (id = 2HNrnOTTeuSWcoMwp9YGtE) predicted in cluster sad and it was label sad\n",
            "Song (id = 2gfssLSjUEqJnrGyHMWemS) predicted in cluster sad and it was label sad\n",
            "Song (id = 4cluDES4hQEUhmXj6TXkSo) predicted in cluster happy and it was label happy\n",
            "Song (id = 587xXusqiMW9gSXkNK8Zxf) predicted in cluster happy and it was label happy\n",
            "Song (id = 5kyJ6sznnWACqHbw65p34Q) predicted in cluster happy and it was label happy\n"
          ]
        }
      ]
    },
    {
      "cell_type": "code",
      "source": [
        "#@title random forest \n",
        "from sklearn.ensemble import RandomForestClassifier\n",
        "\n",
        "## RF class\n",
        "# Split dataset into training set and test set\n",
        "train, test, ids_train, ids_test = train_test_split(df_scaled_new, labels_new, test_size=0.2) # 70% training and 30% test\n",
        "\n",
        "#___________________________________________________\n",
        "best_acc = 0\n",
        "solutions = pd.DataFrame(columns=['K', 'Metric', 'Acc'])\n",
        "for k in range(len(np.unique(labels_new)), len(np.unique(labels_new))+500, 50):\n",
        "  knn = RandomForestClassifier(n_estimators=k)\n",
        "\n",
        "  #Train the model using the training sets\n",
        "  knn.fit(train, ids_train)\n",
        "\n",
        "  #Predict the response for test dataset\n",
        "  y_pred = knn.predict(test)\n",
        "  acc = metrics.accuracy_score(ids_test, y_pred)\n",
        "  print(\"K -\", k,\" ----- Accuracy:\",acc)\n",
        "\n",
        "  if acc> best_acc:\n",
        "    best_acc = acc\n",
        "    best_param = [k]\n",
        "\n",
        "\n",
        "print(f\"\\nThe best acc ({best_acc}) has combination: K-{best_param[0]}}\")"
      ],
      "metadata": {
        "colab": {
          "base_uri": "https://localhost:8080/"
        },
        "id": "b1kWP6GC9MNS",
        "outputId": "bae19c34-817b-4c57-8f9e-14f27e298660"
      },
      "execution_count": 27,
      "outputs": [
        {
          "output_type": "stream",
          "name": "stdout",
          "text": [
            "K - 4  ----- Accuracy: 0.5384615384615384\n",
            "K - 54  ----- Accuracy: 0.6310541310541311\n",
            "K - 104  ----- Accuracy: 0.6296296296296297\n",
            "K - 154  ----- Accuracy: 0.6153846153846154\n",
            "K - 204  ----- Accuracy: 0.6353276353276354\n",
            "K - 254  ----- Accuracy: 0.6153846153846154\n",
            "K - 304  ----- Accuracy: 0.6253561253561254\n",
            "K - 354  ----- Accuracy: 0.6225071225071225\n",
            "K - 404  ----- Accuracy: 0.6339031339031339\n",
            "K - 454  ----- Accuracy: 0.6267806267806267\n",
            "\n",
            "The best acc (0.6353276353276354) has combination: K-204 and metric-manhattan\n"
          ]
        }
      ]
    },
    {
      "cell_type": "markdown",
      "source": [
        "# Using the KNN for the country csv"
      ],
      "metadata": {
        "id": "61LakQtfhJc0"
      }
    },
    {
      "cell_type": "code",
      "source": [
        "#we use the same approach as in the Top-Analysis notebook to read the csv\n",
        "\n",
        "data = pd.read_csv('song_feat_top.csv').drop('Unnamed: 0',axis =1)\n",
        "data.drop('release_date', axis = 1, inplace = True)\n",
        "\n",
        "num = data.select_dtypes(['float64', 'int64']).columns.tolist()\n",
        "num_data = data[num]\n",
        "\n",
        "scaler = StandardScaler()\n",
        "num_data = scaler.fit_transform(num_data)\n",
        "num_data = pd.DataFrame(num_data, columns = num)\n",
        "\n",
        "data = pd.concat([num_data, data['id'], data['country']], axis = 1)\n",
        "data.set_index('id', inplace = True)\n"
      ],
      "metadata": {
        "id": "OA2nShYSU06x"
      },
      "execution_count": null,
      "outputs": []
    },
    {
      "cell_type": "markdown",
      "source": [
        "## Using country mean"
      ],
      "metadata": {
        "id": "9MSWKLV0kH95"
      }
    },
    {
      "cell_type": "code",
      "source": [
        "#group by country using the mean\n",
        "country_df = data.groupby(['country']).mean()\n",
        "country_df"
      ],
      "metadata": {
        "id": "H7QnuN2bqpCM"
      },
      "execution_count": null,
      "outputs": []
    },
    {
      "cell_type": "code",
      "source": [
        "#@title KNN...\n",
        "country_mood = {}\n",
        "\n",
        "for c in country_df.index:\n",
        "  c1 = country_df.loc[c,:].values #already normalized\n",
        "  cp = knn.predict([c1])\n",
        "  \n",
        "  country_mood[c] = cp"
      ],
      "metadata": {
        "id": "fAY6-rpxkVOL"
      },
      "execution_count": null,
      "outputs": []
    },
    {
      "cell_type": "code",
      "source": [
        "countryMood_df= pd.DataFrame.from_dict(country_mood, orient='index', columns=['mood'])\n",
        "countryMood_df"
      ],
      "metadata": {
        "colab": {
          "base_uri": "https://localhost:8080/",
          "height": 424
        },
        "id": "hIFr3Sb3jr_0",
        "outputId": "f05020c3-f24b-4ecb-bfff-e01367abd35a"
      },
      "execution_count": null,
      "outputs": [
        {
          "output_type": "execute_result",
          "data": {
            "text/plain": [
              "                       mood\n",
              "Alemania      disconnecting\n",
              "Arabia Saudí          happy\n",
              "Argentina             happy\n",
              "Australia             happy\n",
              "Austria       disconnecting\n",
              "...                     ...\n",
              "Taiwán                  sad\n",
              "Turquía       disconnecting\n",
              "Ucrania               happy\n",
              "Uruguay               happy\n",
              "Vietnam                 sad\n",
              "\n",
              "[69 rows x 1 columns]"
            ],
            "text/html": [
              "\n",
              "  <div id=\"df-4d185b47-66b1-45d7-b396-683f9550744b\">\n",
              "    <div class=\"colab-df-container\">\n",
              "      <div>\n",
              "<style scoped>\n",
              "    .dataframe tbody tr th:only-of-type {\n",
              "        vertical-align: middle;\n",
              "    }\n",
              "\n",
              "    .dataframe tbody tr th {\n",
              "        vertical-align: top;\n",
              "    }\n",
              "\n",
              "    .dataframe thead th {\n",
              "        text-align: right;\n",
              "    }\n",
              "</style>\n",
              "<table border=\"1\" class=\"dataframe\">\n",
              "  <thead>\n",
              "    <tr style=\"text-align: right;\">\n",
              "      <th></th>\n",
              "      <th>mood</th>\n",
              "    </tr>\n",
              "  </thead>\n",
              "  <tbody>\n",
              "    <tr>\n",
              "      <th>Alemania</th>\n",
              "      <td>disconnecting</td>\n",
              "    </tr>\n",
              "    <tr>\n",
              "      <th>Arabia Saudí</th>\n",
              "      <td>happy</td>\n",
              "    </tr>\n",
              "    <tr>\n",
              "      <th>Argentina</th>\n",
              "      <td>happy</td>\n",
              "    </tr>\n",
              "    <tr>\n",
              "      <th>Australia</th>\n",
              "      <td>happy</td>\n",
              "    </tr>\n",
              "    <tr>\n",
              "      <th>Austria</th>\n",
              "      <td>disconnecting</td>\n",
              "    </tr>\n",
              "    <tr>\n",
              "      <th>...</th>\n",
              "      <td>...</td>\n",
              "    </tr>\n",
              "    <tr>\n",
              "      <th>Taiwán</th>\n",
              "      <td>sad</td>\n",
              "    </tr>\n",
              "    <tr>\n",
              "      <th>Turquía</th>\n",
              "      <td>disconnecting</td>\n",
              "    </tr>\n",
              "    <tr>\n",
              "      <th>Ucrania</th>\n",
              "      <td>happy</td>\n",
              "    </tr>\n",
              "    <tr>\n",
              "      <th>Uruguay</th>\n",
              "      <td>happy</td>\n",
              "    </tr>\n",
              "    <tr>\n",
              "      <th>Vietnam</th>\n",
              "      <td>sad</td>\n",
              "    </tr>\n",
              "  </tbody>\n",
              "</table>\n",
              "<p>69 rows × 1 columns</p>\n",
              "</div>\n",
              "      <button class=\"colab-df-convert\" onclick=\"convertToInteractive('df-4d185b47-66b1-45d7-b396-683f9550744b')\"\n",
              "              title=\"Convert this dataframe to an interactive table.\"\n",
              "              style=\"display:none;\">\n",
              "        \n",
              "  <svg xmlns=\"http://www.w3.org/2000/svg\" height=\"24px\"viewBox=\"0 0 24 24\"\n",
              "       width=\"24px\">\n",
              "    <path d=\"M0 0h24v24H0V0z\" fill=\"none\"/>\n",
              "    <path d=\"M18.56 5.44l.94 2.06.94-2.06 2.06-.94-2.06-.94-.94-2.06-.94 2.06-2.06.94zm-11 1L8.5 8.5l.94-2.06 2.06-.94-2.06-.94L8.5 2.5l-.94 2.06-2.06.94zm10 10l.94 2.06.94-2.06 2.06-.94-2.06-.94-.94-2.06-.94 2.06-2.06.94z\"/><path d=\"M17.41 7.96l-1.37-1.37c-.4-.4-.92-.59-1.43-.59-.52 0-1.04.2-1.43.59L10.3 9.45l-7.72 7.72c-.78.78-.78 2.05 0 2.83L4 21.41c.39.39.9.59 1.41.59.51 0 1.02-.2 1.41-.59l7.78-7.78 2.81-2.81c.8-.78.8-2.07 0-2.86zM5.41 20L4 18.59l7.72-7.72 1.47 1.35L5.41 20z\"/>\n",
              "  </svg>\n",
              "      </button>\n",
              "      \n",
              "  <style>\n",
              "    .colab-df-container {\n",
              "      display:flex;\n",
              "      flex-wrap:wrap;\n",
              "      gap: 12px;\n",
              "    }\n",
              "\n",
              "    .colab-df-convert {\n",
              "      background-color: #E8F0FE;\n",
              "      border: none;\n",
              "      border-radius: 50%;\n",
              "      cursor: pointer;\n",
              "      display: none;\n",
              "      fill: #1967D2;\n",
              "      height: 32px;\n",
              "      padding: 0 0 0 0;\n",
              "      width: 32px;\n",
              "    }\n",
              "\n",
              "    .colab-df-convert:hover {\n",
              "      background-color: #E2EBFA;\n",
              "      box-shadow: 0px 1px 2px rgba(60, 64, 67, 0.3), 0px 1px 3px 1px rgba(60, 64, 67, 0.15);\n",
              "      fill: #174EA6;\n",
              "    }\n",
              "\n",
              "    [theme=dark] .colab-df-convert {\n",
              "      background-color: #3B4455;\n",
              "      fill: #D2E3FC;\n",
              "    }\n",
              "\n",
              "    [theme=dark] .colab-df-convert:hover {\n",
              "      background-color: #434B5C;\n",
              "      box-shadow: 0px 1px 3px 1px rgba(0, 0, 0, 0.15);\n",
              "      filter: drop-shadow(0px 1px 2px rgba(0, 0, 0, 0.3));\n",
              "      fill: #FFFFFF;\n",
              "    }\n",
              "  </style>\n",
              "\n",
              "      <script>\n",
              "        const buttonEl =\n",
              "          document.querySelector('#df-4d185b47-66b1-45d7-b396-683f9550744b button.colab-df-convert');\n",
              "        buttonEl.style.display =\n",
              "          google.colab.kernel.accessAllowed ? 'block' : 'none';\n",
              "\n",
              "        async function convertToInteractive(key) {\n",
              "          const element = document.querySelector('#df-4d185b47-66b1-45d7-b396-683f9550744b');\n",
              "          const dataTable =\n",
              "            await google.colab.kernel.invokeFunction('convertToInteractive',\n",
              "                                                     [key], {});\n",
              "          if (!dataTable) return;\n",
              "\n",
              "          const docLinkHtml = 'Like what you see? Visit the ' +\n",
              "            '<a target=\"_blank\" href=https://colab.research.google.com/notebooks/data_table.ipynb>data table notebook</a>'\n",
              "            + ' to learn more about interactive tables.';\n",
              "          element.innerHTML = '';\n",
              "          dataTable['output_type'] = 'display_data';\n",
              "          await google.colab.output.renderOutput(dataTable, element);\n",
              "          const docLink = document.createElement('div');\n",
              "          docLink.innerHTML = docLinkHtml;\n",
              "          element.appendChild(docLink);\n",
              "        }\n",
              "      </script>\n",
              "    </div>\n",
              "  </div>\n",
              "  "
            ]
          },
          "metadata": {},
          "execution_count": 108
        }
      ]
    },
    {
      "cell_type": "code",
      "source": [
        "#countryMood_df.to_csv('/content/drive/MyDrive/Colab Notebooks/WebAnalytics/final/contryMood.csv', index = False)"
      ],
      "metadata": {
        "id": "IIrfnpQGnGAX"
      },
      "execution_count": null,
      "outputs": []
    },
    {
      "cell_type": "markdown",
      "source": [
        "## Getting percentage for mood"
      ],
      "metadata": {
        "id": "DCZMNUSbrFV7"
      }
    },
    {
      "cell_type": "code",
      "source": [
        "countries = data['country']\n",
        "data2 = data.drop('country', axis = 1)\n",
        "\n",
        "#knn\n",
        "data['mood']= knn.predict(data2.values)"
      ],
      "metadata": {
        "id": "9YOuH0M_rahG"
      },
      "execution_count": null,
      "outputs": []
    },
    {
      "cell_type": "code",
      "source": [
        "labs = np.unique(labels_new) #the new columns\n",
        "temp = dict([(i,[]) for i in labs])\n",
        "temp['country'] = []\n",
        "\n",
        "new_data = data[['country', 'mood']]\n",
        "\n",
        "for c in countries.unique():\n",
        "  moods = new_data[new_data.country == c].mood\n",
        "  m = Counter(moods) #normally 50, not always\n",
        "  temp['country'].append(c)\n",
        "  for i in labs:\n",
        "    try:\n",
        "      temp[i].append(m[i]/len(moods))\n",
        "    except:\n",
        "      temp[i].append(0)"
      ],
      "metadata": {
        "id": "MjPtoCGetVvQ"
      },
      "execution_count": null,
      "outputs": []
    },
    {
      "cell_type": "code",
      "source": [
        "count_country = pd.DataFrame(temp)\n",
        "count_country.set_index('country', inplace=True)"
      ],
      "metadata": {
        "id": "nXst0ouHxmtA"
      },
      "execution_count": null,
      "outputs": []
    },
    {
      "cell_type": "code",
      "source": [
        "count_country['moodTop'] = [max(dict(count_country.loc[i,:]), key=dict(count_country.loc[i,:]).get) for i in count_country.index]\n",
        "count_country['moodMean'] = countryMood_df\n",
        "count_country.reset_index(inplace=True)\n",
        "count_country = count_country.rename(columns = {'index':'country'})\n",
        "count_country"
      ],
      "metadata": {
        "colab": {
          "base_uri": "https://localhost:8080/",
          "height": 424
        },
        "id": "C6AubP01x1er",
        "outputId": "6b0e691b-bbe3-43b5-943b-2c726b1b7595"
      },
      "execution_count": null,
      "outputs": [
        {
          "output_type": "execute_result",
          "data": {
            "text/plain": [
              "               country  disconnecting     happy    sad  sport moodTop  \\\n",
              "0               Global       0.120000  0.520000  0.340  0.020   happy   \n",
              "1               Taiwán       0.220000  0.340000  0.420  0.020     sad   \n",
              "2              Turquía       0.200000  0.220000  0.500  0.080     sad   \n",
              "3          Reino Unido       0.220000  0.520000  0.200  0.060   happy   \n",
              "4            Dinamarca       0.300000  0.340000  0.340  0.020   happy   \n",
              "..                 ...            ...       ...    ...    ...     ...   \n",
              "64            Suriname       0.104167  0.645833  0.125  0.125   happy   \n",
              "65  La República Checa       0.140000  0.420000  0.380  0.060   happy   \n",
              "66           Guatemala       0.160000  0.620000  0.200  0.020   happy   \n",
              "67          Eslovaquia       0.180000  0.360000  0.420  0.040     sad   \n",
              "68                 EAU       0.200000  0.460000  0.320  0.020   happy   \n",
              "\n",
              "         moodMean  \n",
              "0             sad  \n",
              "1             sad  \n",
              "2   disconnecting  \n",
              "3           happy  \n",
              "4             sad  \n",
              "..            ...  \n",
              "64          happy  \n",
              "65            sad  \n",
              "66          happy  \n",
              "67  disconnecting  \n",
              "68  disconnecting  \n",
              "\n",
              "[69 rows x 7 columns]"
            ],
            "text/html": [
              "\n",
              "  <div id=\"df-9f4bdb1e-b2d6-4ec6-8ad3-1508d5740948\">\n",
              "    <div class=\"colab-df-container\">\n",
              "      <div>\n",
              "<style scoped>\n",
              "    .dataframe tbody tr th:only-of-type {\n",
              "        vertical-align: middle;\n",
              "    }\n",
              "\n",
              "    .dataframe tbody tr th {\n",
              "        vertical-align: top;\n",
              "    }\n",
              "\n",
              "    .dataframe thead th {\n",
              "        text-align: right;\n",
              "    }\n",
              "</style>\n",
              "<table border=\"1\" class=\"dataframe\">\n",
              "  <thead>\n",
              "    <tr style=\"text-align: right;\">\n",
              "      <th></th>\n",
              "      <th>country</th>\n",
              "      <th>disconnecting</th>\n",
              "      <th>happy</th>\n",
              "      <th>sad</th>\n",
              "      <th>sport</th>\n",
              "      <th>moodTop</th>\n",
              "      <th>moodMean</th>\n",
              "    </tr>\n",
              "  </thead>\n",
              "  <tbody>\n",
              "    <tr>\n",
              "      <th>0</th>\n",
              "      <td>Global</td>\n",
              "      <td>0.120000</td>\n",
              "      <td>0.520000</td>\n",
              "      <td>0.340</td>\n",
              "      <td>0.020</td>\n",
              "      <td>happy</td>\n",
              "      <td>sad</td>\n",
              "    </tr>\n",
              "    <tr>\n",
              "      <th>1</th>\n",
              "      <td>Taiwán</td>\n",
              "      <td>0.220000</td>\n",
              "      <td>0.340000</td>\n",
              "      <td>0.420</td>\n",
              "      <td>0.020</td>\n",
              "      <td>sad</td>\n",
              "      <td>sad</td>\n",
              "    </tr>\n",
              "    <tr>\n",
              "      <th>2</th>\n",
              "      <td>Turquía</td>\n",
              "      <td>0.200000</td>\n",
              "      <td>0.220000</td>\n",
              "      <td>0.500</td>\n",
              "      <td>0.080</td>\n",
              "      <td>sad</td>\n",
              "      <td>disconnecting</td>\n",
              "    </tr>\n",
              "    <tr>\n",
              "      <th>3</th>\n",
              "      <td>Reino Unido</td>\n",
              "      <td>0.220000</td>\n",
              "      <td>0.520000</td>\n",
              "      <td>0.200</td>\n",
              "      <td>0.060</td>\n",
              "      <td>happy</td>\n",
              "      <td>happy</td>\n",
              "    </tr>\n",
              "    <tr>\n",
              "      <th>4</th>\n",
              "      <td>Dinamarca</td>\n",
              "      <td>0.300000</td>\n",
              "      <td>0.340000</td>\n",
              "      <td>0.340</td>\n",
              "      <td>0.020</td>\n",
              "      <td>happy</td>\n",
              "      <td>sad</td>\n",
              "    </tr>\n",
              "    <tr>\n",
              "      <th>...</th>\n",
              "      <td>...</td>\n",
              "      <td>...</td>\n",
              "      <td>...</td>\n",
              "      <td>...</td>\n",
              "      <td>...</td>\n",
              "      <td>...</td>\n",
              "      <td>...</td>\n",
              "    </tr>\n",
              "    <tr>\n",
              "      <th>64</th>\n",
              "      <td>Suriname</td>\n",
              "      <td>0.104167</td>\n",
              "      <td>0.645833</td>\n",
              "      <td>0.125</td>\n",
              "      <td>0.125</td>\n",
              "      <td>happy</td>\n",
              "      <td>happy</td>\n",
              "    </tr>\n",
              "    <tr>\n",
              "      <th>65</th>\n",
              "      <td>La República Checa</td>\n",
              "      <td>0.140000</td>\n",
              "      <td>0.420000</td>\n",
              "      <td>0.380</td>\n",
              "      <td>0.060</td>\n",
              "      <td>happy</td>\n",
              "      <td>sad</td>\n",
              "    </tr>\n",
              "    <tr>\n",
              "      <th>66</th>\n",
              "      <td>Guatemala</td>\n",
              "      <td>0.160000</td>\n",
              "      <td>0.620000</td>\n",
              "      <td>0.200</td>\n",
              "      <td>0.020</td>\n",
              "      <td>happy</td>\n",
              "      <td>happy</td>\n",
              "    </tr>\n",
              "    <tr>\n",
              "      <th>67</th>\n",
              "      <td>Eslovaquia</td>\n",
              "      <td>0.180000</td>\n",
              "      <td>0.360000</td>\n",
              "      <td>0.420</td>\n",
              "      <td>0.040</td>\n",
              "      <td>sad</td>\n",
              "      <td>disconnecting</td>\n",
              "    </tr>\n",
              "    <tr>\n",
              "      <th>68</th>\n",
              "      <td>EAU</td>\n",
              "      <td>0.200000</td>\n",
              "      <td>0.460000</td>\n",
              "      <td>0.320</td>\n",
              "      <td>0.020</td>\n",
              "      <td>happy</td>\n",
              "      <td>disconnecting</td>\n",
              "    </tr>\n",
              "  </tbody>\n",
              "</table>\n",
              "<p>69 rows × 7 columns</p>\n",
              "</div>\n",
              "      <button class=\"colab-df-convert\" onclick=\"convertToInteractive('df-9f4bdb1e-b2d6-4ec6-8ad3-1508d5740948')\"\n",
              "              title=\"Convert this dataframe to an interactive table.\"\n",
              "              style=\"display:none;\">\n",
              "        \n",
              "  <svg xmlns=\"http://www.w3.org/2000/svg\" height=\"24px\"viewBox=\"0 0 24 24\"\n",
              "       width=\"24px\">\n",
              "    <path d=\"M0 0h24v24H0V0z\" fill=\"none\"/>\n",
              "    <path d=\"M18.56 5.44l.94 2.06.94-2.06 2.06-.94-2.06-.94-.94-2.06-.94 2.06-2.06.94zm-11 1L8.5 8.5l.94-2.06 2.06-.94-2.06-.94L8.5 2.5l-.94 2.06-2.06.94zm10 10l.94 2.06.94-2.06 2.06-.94-2.06-.94-.94-2.06-.94 2.06-2.06.94z\"/><path d=\"M17.41 7.96l-1.37-1.37c-.4-.4-.92-.59-1.43-.59-.52 0-1.04.2-1.43.59L10.3 9.45l-7.72 7.72c-.78.78-.78 2.05 0 2.83L4 21.41c.39.39.9.59 1.41.59.51 0 1.02-.2 1.41-.59l7.78-7.78 2.81-2.81c.8-.78.8-2.07 0-2.86zM5.41 20L4 18.59l7.72-7.72 1.47 1.35L5.41 20z\"/>\n",
              "  </svg>\n",
              "      </button>\n",
              "      \n",
              "  <style>\n",
              "    .colab-df-container {\n",
              "      display:flex;\n",
              "      flex-wrap:wrap;\n",
              "      gap: 12px;\n",
              "    }\n",
              "\n",
              "    .colab-df-convert {\n",
              "      background-color: #E8F0FE;\n",
              "      border: none;\n",
              "      border-radius: 50%;\n",
              "      cursor: pointer;\n",
              "      display: none;\n",
              "      fill: #1967D2;\n",
              "      height: 32px;\n",
              "      padding: 0 0 0 0;\n",
              "      width: 32px;\n",
              "    }\n",
              "\n",
              "    .colab-df-convert:hover {\n",
              "      background-color: #E2EBFA;\n",
              "      box-shadow: 0px 1px 2px rgba(60, 64, 67, 0.3), 0px 1px 3px 1px rgba(60, 64, 67, 0.15);\n",
              "      fill: #174EA6;\n",
              "    }\n",
              "\n",
              "    [theme=dark] .colab-df-convert {\n",
              "      background-color: #3B4455;\n",
              "      fill: #D2E3FC;\n",
              "    }\n",
              "\n",
              "    [theme=dark] .colab-df-convert:hover {\n",
              "      background-color: #434B5C;\n",
              "      box-shadow: 0px 1px 3px 1px rgba(0, 0, 0, 0.15);\n",
              "      filter: drop-shadow(0px 1px 2px rgba(0, 0, 0, 0.3));\n",
              "      fill: #FFFFFF;\n",
              "    }\n",
              "  </style>\n",
              "\n",
              "      <script>\n",
              "        const buttonEl =\n",
              "          document.querySelector('#df-9f4bdb1e-b2d6-4ec6-8ad3-1508d5740948 button.colab-df-convert');\n",
              "        buttonEl.style.display =\n",
              "          google.colab.kernel.accessAllowed ? 'block' : 'none';\n",
              "\n",
              "        async function convertToInteractive(key) {\n",
              "          const element = document.querySelector('#df-9f4bdb1e-b2d6-4ec6-8ad3-1508d5740948');\n",
              "          const dataTable =\n",
              "            await google.colab.kernel.invokeFunction('convertToInteractive',\n",
              "                                                     [key], {});\n",
              "          if (!dataTable) return;\n",
              "\n",
              "          const docLinkHtml = 'Like what you see? Visit the ' +\n",
              "            '<a target=\"_blank\" href=https://colab.research.google.com/notebooks/data_table.ipynb>data table notebook</a>'\n",
              "            + ' to learn more about interactive tables.';\n",
              "          element.innerHTML = '';\n",
              "          dataTable['output_type'] = 'display_data';\n",
              "          await google.colab.output.renderOutput(dataTable, element);\n",
              "          const docLink = document.createElement('div');\n",
              "          docLink.innerHTML = docLinkHtml;\n",
              "          element.appendChild(docLink);\n",
              "        }\n",
              "      </script>\n",
              "    </div>\n",
              "  </div>\n",
              "  "
            ]
          },
          "metadata": {},
          "execution_count": 139
        }
      ]
    },
    {
      "cell_type": "code",
      "source": [
        "#count_country.to_csv('/content/drive/MyDrive/Colab Notebooks/WebAnalytics/final/contryMood.csv', index = False)"
      ],
      "metadata": {
        "id": "e7FrWysf39mW"
      },
      "execution_count": null,
      "outputs": []
    },
    {
      "cell_type": "code",
      "source": [],
      "metadata": {
        "id": "faE2hvWg4VDW"
      },
      "execution_count": null,
      "outputs": []
    }
  ]
}